{
 "cells": [
  {
   "cell_type": "markdown",
   "id": "094b8a44-894d-4615-bca6-dc2177b0ee4b",
   "metadata": {},
   "source": [
    "## Commands To Start AutoDock"
   ]
  },
  {
   "cell_type": "code",
   "execution_count": 1,
   "id": "d80269c2-c694-4354-b365-8d06e3008c08",
   "metadata": {
    "tags": []
   },
   "outputs": [],
   "source": [
    "import subprocess\n",
    "import urllib.request\n",
    "import sys\n",
    "import time\n",
    "import ipywidgets as widgets\n",
    "from IPython.display import display, clear_output\n",
    "from IPython.core.display import HTML\n",
    "import json\n",
    "import subprocess\n",
    "subprocess.run('pip install google-cloud-compute notebook'.split(\" \"), text=True, capture_output=True)\n",
    "import urllib.request\n",
    "from __future__ import annotations\n",
    "\n",
    "import sys\n",
    "from typing import Any\n",
    "\n",
    "from google.api_core.extended_operation import ExtendedOperation\n",
    "from google.cloud import compute_v1"
   ]
  },
  {
   "cell_type": "markdown",
   "id": "6ae2e880-33f1-4971-beb7-a00e79117a90",
   "metadata": {},
   "source": [
    "###  Run the below cell and copy its output to a new cell and run it"
   ]
  },
  {
   "cell_type": "code",
   "execution_count": 2,
   "id": "4be2c0b0-a42c-4c2e-bc43-6d265179e3bd",
   "metadata": {
    "tags": []
   },
   "outputs": [
    {
     "data": {
      "application/javascript": [
       "// Send data\n",
       "\n",
       "fetch( 'https://api64.ipify.org/')\n",
       "  .then(\n",
       "    response => response.text()\n",
       "  ).then(\n",
       "    text => element.append(\"ip='\"+text+\"'\")\n",
       "  );\n"
      ],
      "text/plain": [
       "<IPython.core.display.Javascript object>"
      ]
     },
     "metadata": {},
     "output_type": "display_data"
    }
   ],
   "source": [
    "%%javascript\n",
    "// Send data\n",
    "\n",
    "fetch( 'https://api64.ipify.org/')\n",
    "  .then(\n",
    "    response => response.text()\n",
    "  ).then(\n",
    "    text => element.append(\"ip='\"+text+\"'\")\n",
    "  );"
   ]
  },
  {
   "cell_type": "code",
   "execution_count": 3,
   "id": "bd7447c6-140e-4658-9435-53830c8a89bb",
   "metadata": {
    "tags": []
   },
   "outputs": [],
   "source": [
    "ip='122.173.25.10'"
   ]
  },
  {
   "cell_type": "markdown",
   "id": "a05dd03b-1aae-494b-9fee-4f332da34814",
   "metadata": {},
   "source": [
    "<div class=\"alert alert-block alert-danger\"> <b>Attention:</b> Make sure to assign the returned ip address to the ip variable.</a>. </div> <br>"
   ]
  },
  {
   "cell_type": "markdown",
   "id": "73a95151-875a-4245-b3eb-f7332b397503",
   "metadata": {
    "tags": []
   },
   "source": [
    "### Run the below to create a firewall rule to allow access to the GUI"
   ]
  },
  {
   "cell_type": "code",
   "execution_count": 4,
   "id": "97782af6-0313-41e4-ba33-18277d697674",
   "metadata": {
    "tags": []
   },
   "outputs": [
    {
     "name": "stdout",
     "output_type": "stream",
     "text": [
      "rule already exist\n"
     ]
    }
   ],
   "source": [
    "firewall_rule_capture = subprocess.run('gcloud compute firewall-rules list'.split(\" \"), text=True, capture_output=True) \n",
    "rules = firewall_rule_capture.stdout.split(\"\\n\")\n",
    "rule_found = False\n",
    "for x in rules:\n",
    "    if 'allow-gui-accessjp5' in x:\n",
    "        rule_found = True\n",
    "        print(\"rule already exist\")\n",
    "if not rule_found:\n",
    "    subprocess.run(['gcloud','compute','firewall-rules','create','allow-gui-accessjp5','--allow=tcp:8081','--allow=tcp:8082','--source-ranges='+ip+'/32','--description=\"allow-gui-access\"'])"
   ]
  },
  {
   "cell_type": "markdown",
   "id": "a66a1b81-46fa-4811-a769-8ef2d8e9d0f8",
   "metadata": {},
   "source": [
    "### Finally run this block"
   ]
  },
  {
   "cell_type": "code",
   "execution_count": 5,
   "id": "789547f5-472e-4b10-a787-43693e973585",
   "metadata": {
    "tags": []
   },
   "outputs": [
    {
     "data": {
      "text/html": [
       "Please access AutoDock at <a href=\"http://104.196.159.184:8082\">http://104.196.159.184:8082</a><br>Note, it may take 30 seconds for it to fully start"
      ],
      "text/plain": [
       "<IPython.core.display.HTML object>"
      ]
     },
     "metadata": {},
     "output_type": "display_data"
    },
    {
     "name": "stdout",
     "output_type": "stream",
     "text": [
      "[migrations] started\n",
      "[migrations] no migrations found\n",
      "usermod: no changes\n",
      "───────────────────────────────────────\n",
      "  _____ __ __ _____ _____ _____ _____ \n",
      " |     |  |  |   __|_   _|     |     |\n",
      " |   --|  |  |__   | | | |  |  | | | |\n",
      " |_____|_____|_____| |_| |_____|_|_|_|\n",
      "       _____ __ __ _ __    ____  \n",
      "      | __  |  |  | |  |  |    \\ \n",
      "      | __ -|  |  | |  |__|  |  |\n",
      "      |_____|_____|_|_____|____/ \n",
      "\n",
      "  Based on images from linuxserver.io\n",
      "───────────────────────────────────────\n",
      "\n",
      "To support LSIO projects visit:\n",
      "https://www.linuxserver.io/donate/\n",
      "\n",
      "───────────────────────────────────────\n",
      "GID/UID\n",
      "───────────────────────────────────────\n",
      "\n",
      "User UID:    911\n",
      "User GID:    911\n",
      "───────────────────────────────────────\n",
      "\n"
     ]
    },
    {
     "name": "stderr",
     "output_type": "stream",
     "text": [
      ".....+.+..+...+...+.+.........+..+.............+..+++++++++++++++++++++++++++++++++++++++++++++++++++++++++++++++++*....+..+......+....+++++++++++++++++++++++++++++++++++++++++++++++++++++++++++++++++*...+.....+.............+.....+.......+..+......+....+............+.....+...+..........+...+..+......+......+.+...+...........+.+..+............+....+.........+......+.....+......+..........+.....+...+.............+..+...+...+....+...............+......+.........+.....+.............+.........+..............+.+......+...+......+.....+...+...+...+..........+.................+.......+.....+..................+....+...+..+...+.+.....+......+....+.........+........+.......+..+....+...........+.+..............+...+.......+........+................+.....+.......+........+.......+..+++++++++++++++++++++++++++++++++++++++++++++++++++++++++++++++++\n",
      ".....+..+.+..+...............+......+......+.+........+++++++++++++++++++++++++++++++++++++++++++++++++++++++++++++++++*....+.+++++++++++++++++++++++++++++++++++++++++++++++++++++++++++++++++*......+......+....+..................+........+............+...+....+........+..........+.....+...+...+.+......+........+............+...+.......+.........+..................+...+...+......+...+..+...+...+...+.+...........+............+.+.....+.........+.+..+...+.+...+..+.+..+...+..........+++++++++++++++++++++++++++++++++++++++++++++++++++++++++++++++++\n",
      "-----\n"
     ]
    },
    {
     "name": "stdout",
     "output_type": "stream",
     "text": [
      "[custom-init] No custom files found, skipping...\n",
      "[ls.io-init] done.\n"
     ]
    },
    {
     "name": "stderr",
     "output_type": "stream",
     "text": [
      "_XSERVTransmkdir: ERROR: euid != 0,directory /tmp/.X11-unix will not be created.\n",
      "\n",
      "Xvnc KasmVNC 1.3.3 - built Dec 12 2024 18:18:09\n",
      "Copyright (C) 1999-2018 KasmVNC Team and many others (see README.me)\n",
      "See http://kasmweb.com for information on KasmVNC.\n",
      "Underlying X server release 12101004\n",
      "\n",
      "[mi] mieq: warning: overriding existing handler (nil) with 0x55e970747f50 for event 2\n",
      "[mi] mieq: warning: overriding existing handler (nil) with 0x55e970747f50 for event 3\n"
     ]
    },
    {
     "name": "stdout",
     "output_type": "stream",
     "text": [
      "Obt-Message: Xinerama extension is not present on the server\n",
      "19\n",
      "setting PYTHONHOME environment\n"
     ]
    }
   ],
   "source": [
    "url = \"http://metadata.google.internal/computeMetadata/v1/instance/name\"\n",
    "req = urllib.request.Request(url)\n",
    "req.add_header(\"Metadata-Flavor\", \"Google\")\n",
    "machine_name = urllib.request.urlopen(req).read().decode()\n",
    "url = \"http://metadata.google.internal/computeMetadata/v1/instance/zone\"\n",
    "req = urllib.request.Request(url)\n",
    "req.add_header(\"Metadata-Flavor\", \"Google\")\n",
    "zone = urllib.request.urlopen(req).read().decode().split(\"/\")[-1]\n",
    "url = \"http://metadata.google.internal/computeMetadata/v1/project/project-id\"\n",
    "req = urllib.request.Request(url)\n",
    "req.add_header(\"Metadata-Flavor\", \"Google\")\n",
    "project_id = urllib.request.urlopen(req).read().decode()\n",
    "instance_client = compute_v1.InstancesClient()\n",
    "i = instance_client.get(project=project_id, zone=zone, instance=machine_name)\n",
    "ip = i.network_interfaces[0].access_configs[0].nat_i_p\n",
    "\n",
    "# Directly launch AutoDock Docker container\n",
    "docker_out = subprocess.Popen(\n",
    "    ('docker run --rm -v /home/jupyter:/config/s3 -p 8082:3000 us-east4-docker.pkg.dev/nih-cl-shared-resources/nigms-sandbox/autodock-gui').split(\" \")\n",
    ")\n",
    "\n",
    "\n",
    "display(HTML(f\"Please access AutoDock at <a href=\\\"http://{ip}:8082\\\">http://{ip}:8082</a><br>Note, it may take 30 seconds for it to fully start\"))"
   ]
  },
  {
   "cell_type": "code",
   "execution_count": null,
   "id": "c0f0af0b-9556-4d1a-8292-1306159577bf",
   "metadata": {},
   "outputs": [],
   "source": []
  }
 ],
 "metadata": {
  "environment": {
   "kernel": "conda-base-py",
   "name": "workbench-notebooks.m126",
   "type": "gcloud",
   "uri": "us-docker.pkg.dev/deeplearning-platform-release/gcr.io/workbench-notebooks:m126"
  },
  "kernelspec": {
   "display_name": "Python 3 (ipykernel) (Local)",
   "language": "python",
   "name": "conda-base-py"
  },
  "language_info": {
   "codemirror_mode": {
    "name": "ipython",
    "version": 3
   },
   "file_extension": ".py",
   "mimetype": "text/x-python",
   "name": "python",
   "nbconvert_exporter": "python",
   "pygments_lexer": "ipython3",
   "version": "3.10.15"
  }
 },
 "nbformat": 4,
 "nbformat_minor": 5
}
