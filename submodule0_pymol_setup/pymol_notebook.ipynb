{
 "cells": [
  {
   "cell_type": "markdown",
   "id": "5294863e-1147-48ff-9047-8482f79a6ce3",
   "metadata": {
    "tags": []
   },
   "source": [
    "# Pymol In GCP\n",
    "## Setup\n",
    "We need to launch the pymol server. This is done by running a subprocess on the instance which the user is able to access. This can be done by running the <b>start-gui-server.ipynb notebook</b>. Also, there is a video tutorial going through the process called GUI-Startup-example.mp4 in the nigms shared google drive under workshops called workshop 6 GUIs.\n",
    "## Pymol commands\n",
    "Unfortunately you can't run single commands reliably like how you can run commands in the terminal Ex. ! pwd. However, since the pymol gui has access to the files you can write .pml files and run them within PyMOL. \n",
    "\n",
    "### Steps:\n"
   ]
  },
  {
   "cell_type": "code",
   "execution_count": 1,
   "id": "5eacbbc3-8845-4343-8461-46c1777684e8",
   "metadata": {
    "tags": []
   },
   "outputs": [],
   "source": [
    "# Write the pml file\n",
    "with open(\"script.pml\",\"w\") as scriptout:\n",
    "    scriptout.write(\"fetch 3bcq\\n\") # Loads protein\n",
    "    scriptout.write(\"set seq_view,1\\n\") # colors protein\n",
    "    scriptout.write(\"util.color_chains()\\n\") # colors protein"
   ]
  },
  {
   "cell_type": "markdown",
   "id": "2c5dc429-a66b-48f6-9026-c39a3cb3384d",
   "metadata": {},
   "source": [
    "1a.  Select file run script and then the pml script within pymol \n",
    "\n",
    "1.b Alternatively, you can set your directory into the folder and then run:\n",
    "pymol> @script.pml"
   ]
  },
  {
   "cell_type": "code",
   "execution_count": null,
   "id": "2febbd05-07ce-4201-8156-4481916b2a2b",
   "metadata": {},
   "outputs": [],
   "source": []
  }
 ],
 "metadata": {
  "environment": {
   "kernel": "conda-base-py",
   "name": "workbench-notebooks.m124",
   "type": "gcloud",
   "uri": "us-docker.pkg.dev/deeplearning-platform-release/gcr.io/workbench-notebooks:m124"
  },
  "kernelspec": {
   "display_name": "Python 3 (ipykernel)",
   "language": "python",
   "name": "conda-base-py"
  },
  "language_info": {
   "codemirror_mode": {
    "name": "ipython",
    "version": 3
   },
   "file_extension": ".py",
   "mimetype": "text/x-python",
   "name": "python",
   "nbconvert_exporter": "python",
   "pygments_lexer": "ipython3",
   "version": "3.10.14"
  }
 },
 "nbformat": 4,
 "nbformat_minor": 5
}
