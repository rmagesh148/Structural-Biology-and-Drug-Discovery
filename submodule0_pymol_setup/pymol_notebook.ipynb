{
 "cells": [
  {
   "cell_type": "markdown",
   "id": "5294863e-1147-48ff-9047-8482f79a6ce3",
   "metadata": {
    "tags": []
   },
   "source": [
    "# Pymol In GCP\n",
    "\n",
    "## Overview\n",
    "\n",
    "\n",
    "## Setup\n",
    "To run PyMOL in GCP we are going to run pymol within a container on this Vertex AI instance. Unfortunately with how PyMOL works we are unable to run PyMOL commands from within the jupyter notebook cells or the instances terminal. However, we are able to use the PyMOL GUI, PyMOL command line, or write PML scripts in the notebook and then run them within PyMOL. The instructions to get PyMOL started are at the end of the notebook.\n",
    "\n",
    "\n",
    "## Common PyMOL Commands\n",
    "| Loading and Saving | Visualization | Selection and Manipulation | View Control | Appearance | Analysis |\n",
    "|-------------------|---------------|---------------------------|--------------|------------|-----------|\n",
    "| `load`: Loads structures | `show`: Controls display | `select`: Creates selections | `zoom`: Zooms to selection | `color`: Changes colors | `align`: Aligns structures |\n",
    "| `fetch`: Downloads from PDB | `hide`: Hides representations | `delete`: Removes objects | `center`: Centers view | `label`: Adds labels | `set`: Changes settings |\n",
    "| `save`: Saves session/structure | `cartoon`: Shows 2° structure | `bond`: Creates bonds | `rotate`: Rotates view | `ray`: Creates HD images | |\n",
    "| | `surface`: Shows surface | `split_states`: Separates states | `clip`: Adjusts clipping | | |\n",
    "\n",
    "## Writing PML files\n",
    "Each line on a pml file is a PyMOL command. \n",
    "\n",
    "Example.pml: <br>\n",
    "fetch 3bcq <br>\n",
    "set seq_view,1<br>\n",
    "util.color_chains()\n",
    "\n",
    "\n",
    "Using Python we can write a pml file which is able to be accessed by PyMOL. When writting the file it is important to make sure that each command is on its own line. So for example the first line of the script the PyMOL command is fetch 3bcq so when writting to the file in Python we need to add the next line token \"\\n\". Bellow is the code to write the Example.pml script."
   ]
  },
  {
   "cell_type": "code",
   "execution_count": 1,
   "id": "5eacbbc3-8845-4343-8461-46c1777684e8",
   "metadata": {
    "tags": []
   },
   "outputs": [],
   "source": [
    "# Write the pml file\n",
    "with open(\"script.pml\",\"w\") as scriptout:\n",
    "    scriptout.write(\"fetch 3bcq\\n\") # Loads protein\n",
    "    scriptout.write(\"set seq_view,1\\n\") # colors protein\n",
    "    scriptout.write(\"util.color_chains()\\n\") # colors protein"
   ]
  },
  {
   "cell_type": "markdown",
   "id": "2c5dc429-a66b-48f6-9026-c39a3cb3384d",
   "metadata": {},
   "source": [
    "\n",
    "1a.  Select file run script and then the pml script within pymol \n",
    "\n",
    "1.b Alternatively, you can set your directory into the folder and then run:\n",
    "pymol> @script.pml\n",
    "\n",
    "<div class=\"alert alert-block alert-warning\"> <b>Attention:</b> Throughout the notebooks we will be giving the PyMOL commands by writting the pml file. It is encouraged that when trying to learn instead of running the pml script you take the time to run each of the PyMOL commands using the PyMOL command line and understand why each command is run and what is happening.</a>. </div>"
   ]
  },
  {
   "cell_type": "markdown",
   "id": "bdc9b53c-d2c3-4b64-b117-f3c9da51b8f1",
   "metadata": {},
   "source": [
    "## Commands To Start PyMOL"
   ]
  },
  {
   "cell_type": "code",
   "execution_count": 2,
   "id": "7257ef75-cdb5-43c7-abe1-91e07f16daeb",
   "metadata": {},
   "outputs": [],
   "source": [
    "import subprocess\n",
    "import urllib.request\n",
    "import sys\n",
    "import time\n",
    "import ipywidgets as widgets\n",
    "from IPython.display import display, clear_output\n",
    "from IPython.core.display import HTML\n",
    "import json\n",
    "import subprocess\n",
    "subprocess.run('pip install google-cloud-compute notebook'.split(\" \"), text=True, capture_output=True)\n",
    "import urllib.request\n",
    "from __future__ import annotations\n",
    "\n",
    "import sys\n",
    "from typing import Any\n",
    "\n",
    "from google.api_core.extended_operation import ExtendedOperation\n",
    "from google.cloud import compute_v1"
   ]
  },
  {
   "cell_type": "markdown",
   "id": "275b810d-ea7f-456e-884d-870d0d844523",
   "metadata": {},
   "source": [
    "###  Run the below cell and copy its output to a new cell and run it"
   ]
  },
  {
   "cell_type": "code",
   "execution_count": 4,
   "id": "9a3c9cb4-f0dd-4e00-b12a-56493272f8f0",
   "metadata": {},
   "outputs": [
    {
     "data": {
      "application/javascript": [
       "// Send data\n",
       "\n",
       "fetch( 'https://api64.ipify.org/')\n",
       "  .then(\n",
       "    response => response.text()\n",
       "  ).then(\n",
       "    text => element.append(\"ip='\"+text+\"'\")\n",
       "  );\n"
      ],
      "text/plain": [
       "<IPython.core.display.Javascript object>"
      ]
     },
     "metadata": {},
     "output_type": "display_data"
    }
   ],
   "source": [
    "%%javascript\n",
    "// Send data\n",
    "\n",
    "fetch( 'https://api64.ipify.org/')\n",
    "  .then(\n",
    "    response => response.text()\n",
    "  ).then(\n",
    "    text => element.append(\"ip='\"+text+\"'\")\n",
    "  );"
   ]
  },
  {
   "cell_type": "code",
   "execution_count": 6,
   "id": "05d88d41-6c45-495f-a6a4-c822e17395cd",
   "metadata": {},
   "outputs": [],
   "source": [
    "ip='2401:4900:1c6a:f559:85ec:4dc1:405b:c3a3'"
   ]
  },
  {
   "cell_type": "markdown",
   "id": "f320471e-37e8-46a4-a773-a3d84dce6f3e",
   "metadata": {},
   "source": [
    "<div class=\"alert alert-block alert-danger\"> <b>Attention:</b> Make sure to assign the returned ip address to the ip variable.</a>. </div> <br>"
   ]
  },
  {
   "cell_type": "markdown",
   "id": "4c5dd3de-8d9c-4473-a321-b6f1cf771328",
   "metadata": {},
   "source": [
    "### Run the below to create a firewall rule to allow access to the GUI"
   ]
  },
  {
   "cell_type": "code",
   "execution_count": 7,
   "id": "8006f279-bd28-48d8-a2a5-c5a48aa325d2",
   "metadata": {
    "tags": []
   },
   "outputs": [
    {
     "name": "stdout",
     "output_type": "stream",
     "text": [
      "rule already exist\n"
     ]
    }
   ],
   "source": [
    "firewall_rule_capture = subprocess.run('gcloud compute firewall-rules list'.split(\" \"), text=True, capture_output=True) \n",
    "rules = firewall_rule_capture.stdout.split(\"\\n\")\n",
    "rule_found = False\n",
    "for x in rules:\n",
    "    if 'allow-gui-accesssr1' in x:\n",
    "        rule_found = True\n",
    "        print(\"rule already exist\")\n",
    "if not rule_found:\n",
    "    subprocess.run(['gcloud','compute','firewall-rules','create','allow-gui-accesssr1','--allow=tcp:8081','--source-ranges='+ip+'/32','--description=\"allow-gui-access\"'])"
   ]
  },
  {
   "cell_type": "markdown",
   "id": "b05c45eb-6575-4806-9d2f-ec192c2d5e63",
   "metadata": {},
   "source": [
    "### Finally run this block"
   ]
  },
  {
   "cell_type": "code",
   "execution_count": 8,
   "id": "c0ba1532-8c11-49de-a51a-1cea08f091cd",
   "metadata": {
    "tags": []
   },
   "outputs": [
    {
     "data": {
      "text/html": [
       "Please access PyMOL at <a href=\"http://104.196.159.184:8081\">http://104.196.159.184:8081</a><br>Note, it may take 30 seconds for it to fully start"
      ],
      "text/plain": [
       "<IPython.core.display.HTML object>"
      ]
     },
     "metadata": {},
     "output_type": "display_data"
    },
    {
     "name": "stdout",
     "output_type": "stream",
     "text": [
      "[migrations] started\n",
      "[migrations] no migrations found\n",
      "usermod: no changes\n",
      "───────────────────────────────────────\n",
      "  _____ __ __ _____ _____ _____ _____ \n",
      " |     |  |  |   __|_   _|     |     |\n",
      " |   --|  |  |__   | | | |  |  | | | |\n",
      " |_____|_____|_____| |_| |_____|_|_|_|\n",
      "       _____ __ __ _ __    ____  \n",
      "      | __  |  |  | |  |  |    \\ \n",
      "      | __ -|  |  | |  |__|  |  |\n",
      "      |_____|_____|_|_____|____/ \n",
      "\n",
      "  Based on images from linuxserver.io\n",
      "───────────────────────────────────────\n",
      "\n",
      "To support LSIO projects visit:\n",
      "https://www.linuxserver.io/donate/\n",
      "\n",
      "───────────────────────────────────────\n",
      "GID/UID\n",
      "───────────────────────────────────────\n",
      "\n",
      "User UID:    911\n",
      "User GID:    911\n",
      "───────────────────────────────────────\n",
      "\n"
     ]
    },
    {
     "name": "stderr",
     "output_type": "stream",
     "text": [
      ".+.....+....+..+.......+.....+.+..+............+.+.....+.+........+......+..........+...........+...............+......+...+.+.....+.+........+....+...+.........+..............+....+...+++++++++++++++++++++++++++++++++++++++++++++++++++++++++++++++++*...+...............+++++++++++++++++++++++++++++++++++++++++++++++++++++++++++++++++*..+.........+.+...+..+...+.......+.................+.......+........+...+...+.+.........+.....+.......+...............+..............+.+...+..+..........+..+................+.........+......+..+....+..............+.+......+..+......+.+...+...+..+...+......................+..+..........+...+..+...+..........+...+..+......................+......+..+.+..+....+...+...+.....+.......+........+...+.......+.........+..............+....+.....+......+.+...+..+.+..............+....+.........+..+...+...+.............+..............+...+.........+...+.+......+++++++++++++++++++++++++++++++++++++++++++++++++++++++++++++++++\n",
      "..+++++++++++++++++++++++++++++++++++++++++++++++++++++++++++++++++*.+....+...+.........+.....+.+..+.......+......+++++++++++++++++++++++++++++++++++++++++++++++++++++++++++++++++*..+...+......................+.........+..+...+.......+.................+...............+.............+..+.+.....+......+......+....+......+........+.+.....+....+..+.........+.............+.....+.+..............+..........+.....+......+.......+..+...+.......+...+..+......+.+...+........+...+......+...+.......+...+..+......+....+...+...+...+..+.........+.+..+.+...............+.........+.....................+...........+.+..................+..+.......+...........+...............+.+........+......+............+.............+.........+..+.+..+.......+...........+....+...+...........+......+....+.....+.....................+.+.....+....+......+............+........+.........+...+.+.....+.+...+...........+.........+.+.....+.+....................+.+........+.+...+........+.........+....+..............+...+....+...........+.................................+.+...+..+...+......+....+..+...................+.................+....+...........+...+.......+..............+....+.........+..+.+...............+.....+.......+......+.........+..+....+.....+....+........+...+....+++++++++++++++++++++++++++++++++++++++++++++++++++++++++++++++++\n",
      "-----\n"
     ]
    },
    {
     "name": "stdout",
     "output_type": "stream",
     "text": [
      "[custom-init] No custom files found, skipping...\n",
      "[ls.io-init] done.\n"
     ]
    },
    {
     "name": "stderr",
     "output_type": "stream",
     "text": [
      "_XSERVTransmkdir: ERROR: euid != 0,directory /tmp/.X11-unix will not be created.\n",
      "\n",
      "Xvnc KasmVNC 1.3.2 - built Oct 26 2024 19:02:31\n",
      "Copyright (C) 1999-2018 KasmVNC Team and many others (see README.me)\n",
      "See http://kasmweb.com for information on KasmVNC.\n",
      "Underlying X server release 12014000, The X.Org Foundation\n",
      "\n"
     ]
    },
    {
     "name": "stdout",
     "output_type": "stream",
     "text": [
      "Obt-Message: Xinerama extension is not present on the server\n",
      "19\n"
     ]
    },
    {
     "name": "stderr",
     "output_type": "stream",
     "text": [
      "QStandardPaths: wrong permissions on runtime directory /config/.XDG, 0755 instead of 0700\n"
     ]
    },
    {
     "name": "stdout",
     "output_type": "stream",
     "text": [
      " PyMOL(TM) Molecular Graphics System, Version 2.5.0.\n",
      " Copyright (c) Schrodinger, LLC.\n",
      " All Rights Reserved.\n",
      " \n",
      "    Created by Warren L. DeLano, Ph.D. \n",
      " \n",
      "    PyMOL is user-supported open-source software.  Although some versions\n",
      "    are freely available, PyMOL is not in the public domain.\n",
      " \n",
      "    If PyMOL is helpful in your work or study, then please volunteer \n",
      "    support for our ongoing efforts to create open and affordable scientific\n",
      "    software by purchasing a PyMOL Maintenance and/or Support subscription.\n",
      "\n",
      "    More information can be found at \"http://www.pymol.org\".\n",
      " \n",
      "    Enter \"help\" for a list of commands.\n",
      "    Enter \"help <command-name>\" for information on a specific command.\n",
      "\n",
      " Hit ESC anytime to toggle between text and graphics.\n",
      "\n",
      " Detected OpenGL version 4.5. Shaders available.\n",
      " Geometry shaders not available\n",
      " Detected GLSL version 4.50.\n",
      " OpenGL graphics engine:\n",
      "  GL_VENDOR:   Mesa\n",
      "  GL_RENDERER: llvmpipe (LLVM 15.0.7, 256 bits)\n",
      "  GL_VERSION:  4.5 (Compatibility Profile) Mesa 23.2.1-1ubuntu3.1~22.04.2\n",
      " Detected 4 CPU cores.  Enabled multithreaded rendering.\n",
      "\n"
     ]
    }
   ],
   "source": [
    "url = \"http://metadata.google.internal/computeMetadata/v1/instance/name\"\n",
    "req = urllib.request.Request(url)\n",
    "req.add_header(\"Metadata-Flavor\", \"Google\")\n",
    "machine_name = urllib.request.urlopen(req).read().decode()\n",
    "url = \"http://metadata.google.internal/computeMetadata/v1/instance/zone\"\n",
    "req = urllib.request.Request(url)\n",
    "req.add_header(\"Metadata-Flavor\", \"Google\")\n",
    "zone = urllib.request.urlopen(req).read().decode().split(\"/\")[-1]\n",
    "url = \"http://metadata.google.internal/computeMetadata/v1/project/project-id\"\n",
    "req = urllib.request.Request(url)\n",
    "req.add_header(\"Metadata-Flavor\", \"Google\")\n",
    "project_id = urllib.request.urlopen(req).read().decode()\n",
    "instance_client = compute_v1.InstancesClient()\n",
    "i = instance_client.get(project=project_id, zone=zone, instance=machine_name)\n",
    "ip = i.network_interfaces[0].access_configs[0].nat_i_p\n",
    "\n",
    "# Directly launch PyMOL Docker container\n",
    "docker_out = subprocess.Popen(\n",
    "    ('docker run --rm -v /home/jupyter:/config/s3 -p 8081:3000 us-east4-docker.pkg.dev/nih-cl-shared-resources/nigms-sandbox/pymol').split(\" \")\n",
    ")\n",
    "\n",
    "\n",
    "display(HTML(f\"Please access PyMOL at <a href=\\\"http://{ip}:8081\\\">http://{ip}:8081</a><br>Note, it may take 30 seconds for it to fully start\"))"
   ]
  },
  {
   "cell_type": "code",
   "execution_count": null,
   "id": "0800955c-6842-4097-a552-8e7e3740071e",
   "metadata": {},
   "outputs": [],
   "source": []
  }
 ],
 "metadata": {
  "environment": {
   "kernel": "conda-base-py",
   "name": "workbench-notebooks.m126",
   "type": "gcloud",
   "uri": "us-docker.pkg.dev/deeplearning-platform-release/gcr.io/workbench-notebooks:m126"
  },
  "kernelspec": {
   "display_name": "Python 3 (ipykernel) (Local)",
   "language": "python",
   "name": "conda-base-py"
  },
  "language_info": {
   "codemirror_mode": {
    "name": "ipython",
    "version": 3
   },
   "file_extension": ".py",
   "mimetype": "text/x-python",
   "name": "python",
   "nbconvert_exporter": "python",
   "pygments_lexer": "ipython3",
   "version": "3.10.15"
  }
 },
 "nbformat": 4,
 "nbformat_minor": 5
}
