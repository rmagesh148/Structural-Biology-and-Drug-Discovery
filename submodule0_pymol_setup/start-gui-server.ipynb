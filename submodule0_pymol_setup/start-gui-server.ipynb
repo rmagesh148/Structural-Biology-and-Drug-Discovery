{
 "cells": [
  {
   "cell_type": "code",
   "execution_count": 1,
   "id": "4f80ce0b-c291-4d4a-aaa9-6a62f5cb61bd",
   "metadata": {
    "tags": []
   },
   "outputs": [],
   "source": [
    "import subprocess\n",
    "import urllib.request\n",
    "import sys\n",
    "import time\n",
    "import ipywidgets as widgets\n",
    "from IPython.display import display, clear_output\n",
    "from IPython.core.display import HTML\n",
    "import json\n",
    "import subprocess\n",
    "subprocess.run('pip install google-cloud-compute notebook'.split(\" \"), text=True, capture_output=True)\n",
    "import urllib.request\n",
    "from __future__ import annotations\n",
    "\n",
    "import sys\n",
    "from typing import Any\n",
    "\n",
    "from google.api_core.extended_operation import ExtendedOperation\n",
    "from google.cloud import compute_v1"
   ]
  },
  {
   "cell_type": "markdown",
   "id": "3054aacf-1d54-4a3d-8e37-e07d43d86cad",
   "metadata": {
    "tags": []
   },
   "source": [
    "# Run the below cell and copy its output to a new cell and run it"
   ]
  },
  {
   "cell_type": "code",
   "execution_count": 2,
   "id": "5bc64703-823c-4b51-9e40-a3c2ed09998d",
   "metadata": {
    "tags": []
   },
   "outputs": [
    {
     "data": {
      "application/javascript": [
       "// Send data\n",
       "\n",
       "fetch( 'https://api64.ipify.org/')\n",
       "  .then(\n",
       "    response => response.text()\n",
       "  ).then(\n",
       "    text => element.append(\"ip='\"+text+\"'\")\n",
       "  );\n"
      ],
      "text/plain": [
       "<IPython.core.display.Javascript object>"
      ]
     },
     "metadata": {},
     "output_type": "display_data"
    }
   ],
   "source": [
    "%%javascript\n",
    "// Send data\n",
    "\n",
    "fetch( 'https://api64.ipify.org/')\n",
    "  .then(\n",
    "    response => response.text()\n",
    "  ).then(\n",
    "    text => element.append(\"ip='\"+text+\"'\")\n",
    "  );"
   ]
  },
  {
   "cell_type": "markdown",
   "id": "b5944661-1c0a-4836-b222-d919ce48ac17",
   "metadata": {},
   "source": [
    "# Run the below to create a firewall rule to allow access to the GUI"
   ]
  },
  {
   "cell_type": "code",
   "execution_count": 4,
   "id": "561e3647-94cd-41c2-b950-b9404e12cb98",
   "metadata": {
    "tags": []
   },
   "outputs": [
    {
     "name": "stdout",
     "output_type": "stream",
     "text": [
      "rule already exist\n"
     ]
    }
   ],
   "source": [
    "firewall_rule_capture = subprocess.run('gcloud compute firewall-rules list'.split(\" \"), text=True, capture_output=True) \n",
    "rules = firewall_rule_capture.stdout.split(\"\\n\")\n",
    "rule_found = False\n",
    "for x in rules:\n",
    "    if 'allow-gui-access' in x:\n",
    "        rule_found = True\n",
    "        print(\"rule already exist\")\n",
    "if not rule_found:\n",
    "    subprocess.run(['gcloud','compute','firewall-rules','create','allow-gui-access','--allow=tcp:8081','--source-ranges='+ip+'/32','--description=\"allow-gui-access\"'])"
   ]
  },
  {
   "cell_type": "markdown",
   "id": "2ef493f6-d80b-4a50-ae81-9804f2d5a2ec",
   "metadata": {},
   "source": [
    "# Finally run this block and select the GUI you want"
   ]
  },
  {
   "cell_type": "code",
   "execution_count": 5,
   "id": "7adfc414-112a-4d32-8fb2-4ff2c6fabd0d",
   "metadata": {
    "tags": []
   },
   "outputs": [
    {
     "data": {
      "application/vnd.jupyter.widget-view+json": {
       "model_id": "914522dc302546dd8b9297722d424f9f",
       "version_major": 2,
       "version_minor": 0
      },
      "text/plain": [
       "Dropdown(description='GUI:', options=('bandage', 'pymol', 'molbobity'), value='bandage')"
      ]
     },
     "metadata": {},
     "output_type": "display_data"
    },
    {
     "data": {
      "application/vnd.jupyter.widget-view+json": {
       "model_id": "081241c7d91b439bba20b8244840c7fb",
       "version_major": 2,
       "version_minor": 0
      },
      "text/plain": [
       "Button(description='Start Gui', style=ButtonStyle())"
      ]
     },
     "metadata": {},
     "output_type": "display_data"
    },
    {
     "data": {
      "application/vnd.jupyter.widget-view+json": {
       "model_id": "f61f7ca15f0d4d32937ebcb04e20a9cd",
       "version_major": 2,
       "version_minor": 0
      },
      "text/plain": [
       "Output()"
      ]
     },
     "metadata": {},
     "output_type": "display_data"
    }
   ],
   "source": [
    "w = widgets.Dropdown(\n",
    "    options=['bandage', 'pymol', 'molbobity'],\n",
    "    value='bandage',\n",
    "    description='GUI:',\n",
    ")\n",
    "script_key = 'bandage'\n",
    "script={\n",
    "    'bandage':'bandage-gui',\n",
    "    'pymol':'pymol',\n",
    "    'molbobity':'molbobity',\n",
    "}\n",
    "def on_change(change):\n",
    "    if change['type'] == 'change' and change['name'] == 'value':\n",
    "        script_key = change['new']\n",
    "        print(\"changed to %s\" % change['new'])\n",
    "\n",
    "out = widgets.Output()\n",
    "\n",
    "# Get the current instances public IP address\n",
    "url = \"http://metadata.google.internal/computeMetadata/v1/instance/name\"\n",
    "req = urllib.request.Request(url)\n",
    "req.add_header(\"Metadata-Flavor\", \"Google\")\n",
    "machine_name = urllib.request.urlopen(req).read().decode()\n",
    "url = \"http://metadata.google.internal/computeMetadata/v1/instance/zone\"\n",
    "req = urllib.request.Request(url)\n",
    "req.add_header(\"Metadata-Flavor\", \"Google\")\n",
    "zone = urllib.request.urlopen(req).read().decode().split(\"/\")[-1]\n",
    "url = \"http://metadata.google.internal/computeMetadata/v1/project/project-id\"\n",
    "req = urllib.request.Request(url)\n",
    "req.add_header(\"Metadata-Flavor\", \"Google\")\n",
    "project_id = urllib.request.urlopen(req).read().decode()\n",
    "instance_client = compute_v1.InstancesClient()\n",
    "i = instance_client.get(project=project_id, zone=zone, instance=machine_name)\n",
    "ip = i.network_interfaces[0].access_configs[0].nat_i_p\n",
    "\n",
    "# Define a function\n",
    "def on_button_clicked(b):\n",
    "    with out:\n",
    "        script_key = list(script.keys())[w.get_state()['index']]\n",
    "        \n",
    "        clear_output()\n",
    "        docker_out = subprocess.Popen(('docker run --rm -v /home/jupyter:/config/s3 -p 8081:3000 us-east4-docker.pkg.dev/nih-cl-shared-resources/nigms-sandbox/'+script[script_key]).split(\" \"))\n",
    "        # if len(server_out.stdout) >0:\n",
    "        display(HTML(\"Please access the GUI at <a href=\\\"http://\"+ip+\":8081\\\">http://\"+ip+\":8081</a><br>Note, it may take 30 seconds for it to fully start \"+script_key))\n",
    "        #     print)\n",
    "        #     print()\n",
    "        # else:\n",
    "        #     display(HTML(server_out.stderr))\n",
    "        #     print(server_out.stderr)\n",
    "\n",
    "\n",
    "button = widgets.Button(description=\"Start Gui\")\n",
    "button.on_click(on_button_clicked)\n",
    "w.observe(on_change)\n",
    "display(w)\n",
    "display(button)\n",
    "display(out)\n"
   ]
  }
 ],
 "metadata": {
  "environment": {
   "kernel": "conda-base-py",
   "name": "workbench-notebooks.m126",
   "type": "gcloud",
   "uri": "us-docker.pkg.dev/deeplearning-platform-release/gcr.io/workbench-notebooks:m126"
  },
  "kernelspec": {
   "display_name": "Python 3 (ipykernel)",
   "language": "python",
   "name": "conda-base-py"
  },
  "language_info": {
   "codemirror_mode": {
    "name": "ipython",
    "version": 3
   },
   "file_extension": ".py",
   "mimetype": "text/x-python",
   "name": "python",
   "nbconvert_exporter": "python",
   "pygments_lexer": "ipython3",
   "version": "3.10.15"
  }
 },
 "nbformat": 4,
 "nbformat_minor": 5
}
