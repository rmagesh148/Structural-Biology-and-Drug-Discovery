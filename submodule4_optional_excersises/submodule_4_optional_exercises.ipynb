{
 "cells": [
  {
   "cell_type": "markdown",
   "id": "9f0803d2-4a99-4850-9491-95b0a55d6dbc",
   "metadata": {},
   "source": [
    "# Additional Optional Assignments\n",
    "-------------------"
   ]
  },
  {
   "cell_type": "markdown",
   "id": "3c9978a3-4dc2-42b5-b573-3f51d1a78de5",
   "metadata": {},
   "source": [
    "# Extra Assignments - Submodule 1\n",
    "## 📓 **Assignment 1.1**\n",
    "Use the pdb file peptide.pdb for this problem. Identify the secondary structure of the peptide. What us the secondary structure of the overall peptide? What is the secondary structural element at amino acid residues 87-88-89-90? Identify the hydrogen bonding pattern in the entire molecule. Measure the phi and psi angles at Thr88 and Lys89.\n",
    "\n",
    "Measure the chi () angle for all side chains in the peptide and report.\n",
    "Compare the most probable side chain conformation  angle from the article provided to you. Does the chi angles you have measured fall within the range described in the article?\n",
    "\n",
    "## 📓 **Assignment 1.2**\n",
    "Use 1NWQ.pdb file for this problem.  In the structure of the complex, one end  of the two helices interacts with DNA. Describe how is the non-DNA binding part of the helices are stabilized between the two helices. Identify the amino acid residue that is responsible for stabilizing the helices. How are DNA –and protein interact with one another. Identify the amino acids that interact with DNA. What type of non-covalent interaction is observed between DNA-and protein?\n",
    "\n",
    "## 📓 **Assignment 1.3**\n",
    "Use 1o86.pdb file for this problem.  Observe the helices from residues 215-225 and 228 to 261. What is the secondary structure connecting the two helices? Measure the phi and psi values at the secondary structure and report the secondary structure. In the helical structure between 228-261, there is a bend/kink in the structure. Why there is a kink/bend in the helical structure? Is there any end capping at the C-terminal part of the helix. How is the helical structure stabilized?\n",
    "\n",
    "## 📓 **Assignment 1.4**\n",
    "Use 1o86.pd file for this problem.  Display the structure of Lisinopril in the protein showing hydrogen bond and hydrophobic interactions. Describe the hydrophobic interaction that is formed by the protein that stabilizes the structure of the drug. Identify the amino acid residues that form the hydrophobic interactions with Lisinopril.\n",
    "\n",
    "What is the metal ion present in the protein? How is the metal ion bound to the protein? Identify the amino acid residues that bind to the metal ion.\n"
   ]
  },
  {
   "cell_type": "markdown",
   "id": "9013bcb2-ff9a-4dd1-bb50-22dd55cf4311",
   "metadata": {},
   "source": [
    "--------------------\n",
    "\n",
    "# Extra Assignments - Submodule 2\n",
    "\n",
    "## 📓 **Assignment 2.1**\n",
    "For this assigment start the PyMOL GUI before proceeding and then create and run the following PyMOL scripts (see below) to visualize protein-ligand interactions and their corresponding $K_d$ values. The assignment demonstrates how structural features of protein-ligand interactions influence binding affinities, which is critical in understanding molecular interactions in drug discovery. We will compare two complexes:\n",
    "1. A complex with a $K_d$ value in the nanomolar range, which is typically considered moderate binding affinity (gefitinib-receptor complex).\n",
    "2. A complex with a $K_d$ value in the femtomolar range ($10^{-15}$ M), which is typically considered extremely high binding affinity (biotin-avidin complex).<br>\n",
    "\n",
    "As you complete this assignment you should take note of the following observations:\n",
    "- Hydrogen bonding at both ends of the molecule.\n",
    "- Hydrophobic interactions between biotin and avidin.\n",
    "- The entire biotin molecule is trapped in a barrel-shaped protein.\n",
    "- The Kd value for the biotin-avidin complex is in the femtomolar (10^-15 M) range.\n",
    "\n",
    "<mark>NEED TO FIX LAST STEP IN SCRIPTS TO RUN LIGAND DISPLAY PRESETS</mark>"
   ]
  },
  {
   "cell_type": "code",
   "execution_count": null,
   "id": "e17b870d-023a-4dee-80c9-fd02c6472aff",
   "metadata": {},
   "outputs": [],
   "source": [
    "# PML Script: Proper Docking Visualization\n",
    "## run this code cell to write .pml script file and run analysis outlined step-by-step above\n",
    "## Once you write the file it can be run in the PyMOL GUI one of two ways:\n",
    "##    1. Select file run script and then the pml script within PyMOL -or-\n",
    "##    2. Set your directory into the folder and then run: pymol> @script.pml\n",
    "\n",
    "## Here we will visualize the avidin complex with biotin, which has one of the highest binding affinities known.\n",
    "\n",
    "with open(\"pml_scripts/2.1_nM_complex.pml\", \"w\") as scriptout:\n",
    "    scriptout.write(\"# Step 1: Visualize the Epidermal Growth Factor Receptor Kinase Complex with Gefitinib\\n\") #The crystal structure of epidermal growth factor receptor kinase complexed with the anticancer drug gefitinib will be used.\n",
    "    scriptout.write(\"fetch 4i22\\n\")  # fetch protien\n",
    "    scriptout.write(\"remove resn HOH\\n\")  # remove water molecules\n",
    "    scriptout.write(\"remove solvent\\n\")  # remove solvent molecules\n",
    "    scriptout.write(\"CHANGE\\n\")  # The ligand site is displayed - A > preset > ligand > cartoon"
   ]
  },
  {
   "cell_type": "code",
   "execution_count": null,
   "id": "1945df09-b995-4802-82e6-85d95aa25c35",
   "metadata": {},
   "outputs": [],
   "source": [
    "# PML Script: Proper Docking Visualization\n",
    "## run this code cell to write .pml script file and run analysis outlined step-by-step above\n",
    "## Once you write the file it can be run in the PyMOL GUI one of two ways:\n",
    "##    1. Select file run script and then the pml script within PyMOL -or-\n",
    "##    2. Set your directory into the folder and then run: pymol> @script.pml\n",
    "\n",
    "## Here we will visualize the avidin complex with biotin, which has one of the highest binding affinities known.\n",
    "\n",
    "with open(\"pml_scripts/2.1_fM_complex.pml\", \"w\") as scriptout:\n",
    "    scriptout.write(\"# Step 1: Visualize the Epidermal Growth Factor Receptor Kinase Complex with Gefitinib\\n\") #The crystal structure of epidermal growth factor receptor kinase complexed with the anticancer drug gefitinib will be used.\n",
    "    scriptout.write(\"reinitialize\\n\")  # reinitizlize before starting analysis of next complex\n",
    "    scriptout.write(\"fetch 6j6j\\n\")  # fetch protien\n",
    "    scriptout.write(\"remove chain C+D+E\\n\")  # Select chains and remove atoms: From the sequence display, select chains C, D, and E, and remove their atoms.\n",
    "    scriptout.write(\"remove resn HOH\\n\")  # remove water molecules\n",
    "    scriptout.write(\"remove solvent\\n\")  # remove water molecules\n",
    "    scriptout.write(\"CHANGE\\n\")  # The ligand site is displayed - A > preset > ligand > cartoon"
   ]
  },
  {
   "cell_type": "markdown",
   "id": "0770be11-e253-45a0-863b-06f981f906f3",
   "metadata": {
    "id": "w0d7qJWxJOJz"
   },
   "source": [
    "## 📓 **Assignment 2.2**\n",
    "\n",
    "Use the crystal structure of  CDK2 (2DS1.pdb) protein in complex with its inhibitor/ligand.  Use the crystal structure of the receptor without the ligand and the crystal structure of ligand to perform the docking of ligand to the receptor using Autodock. Notice that there are two steps in docking. 1) Creation of grid and, 2) docking. Use the PyMol software to remove water molecules from the receptor protein and prepare the grid for protein. To create the center of the grid you can use the crystal structure of the complex and decide the center of the grid.  Using autodock perform the docking calculations and based on output provide first five low energy docked structures of the ligand to the receptor. Use the Pymol to display docked structure with receptor and show the ligand site. Also, compare your docked structure to the crystal structure of the complex. Is there any difference in the docked structure and the crystal structure? Report the different components of docking energies for the lowest energy docked structure (Rank 1). The docking program also provides binding affinity of ligand. Report the binding affinity.\n",
    "\n",
    "## 📓 **Assignment 2.3**\n",
    "The crystal structure of the complex of Robo-1 and Slit2 proteins is elucidated. Use the PDB ID 2V9T. Using Pymol, open the crystal structure of the complex, separate the structures of Robo-1 and Slit-2 proteins in the complex, and save them as separate PDB files. Use the Cluspro for docking Robo-1 and Slit2. Analyze the results and choose the best model. Compare this model with the crystal structure of Robo-1 and Slit2."
   ]
  },
  {
   "cell_type": "markdown",
   "id": "5882da13-bf3a-4ac4-822d-c91538a9096b",
   "metadata": {},
   "source": [
    "--------------------\n",
    "\n",
    "# Extra Assignments - Submodule 3\n",
    "## 📓 **Assignment 3.1**\n",
    "The crystal structure of the protein complex **SARS-CoV-2 complexed with ACE2** is available:  \n",
    "**PDB ID**: 6VW1  \n",
    "**Reference**:  \n",
    "*Structure of SARS-CoV-2 chimeric receptor-binding domain complexed with its receptor human ACE2*  \n",
    "Shang, J., Ye, G., Shi, K., Wan, Y.S., Aihara, H., Li, F. (2020) *Nature* 581: 221-224.\n",
    "\n",
    "**ObjectiveS**:\n",
    "  1. View the details of the interface between the receptor-binding domain of SARS-CoV-2 and ACE2.\n",
    "  2. Design a peptide to inhibit the interaction between SARS-CoV-2 and ACE2.\n",
    "   \n",
    "**Steps**:\n",
    "   - Write the designed sequence.\n",
    "   - Use Google Colab to obtain the 3D structure of the peptide:\n",
    "     [Google Colab for Structure Prediction](https://colab.research.google.com/github/sokrypton/ColabDesign/blob/gamma/af/examples/predict.ipynb#scrollTo=xYXcKFPQyTQU)\n",
    "   - Download the first two PDB files.\n",
    "   - If structures have short contacts, clean them using PyMol.\n",
    "\n",
    "I. **FTMAP**:\n",
    "   - Use **FTMAP** to identify possible binding sites:\n",
    "     - If the peptide is designed from SARS-CoV-2, use **ACE2** for FTMAP.\n",
    "     - If the peptide is designed from ACE2, use **SARS-CoV-2** for FTMAP.\n",
    "   - Display the binding sites generated by FTMap.\n",
    "\n",
    "II. **Docking**:\n",
    "   - Dock the designed peptide structure:\n",
    "     - If the peptide is designed from SARS-CoV-2, use **ACE2** for docking.\n",
    "     - If the peptide is designed from ACE2, use **SARS-CoV-2** for docking.\n",
    "   \n",
    "   - Analyze the first 4 low-energy docking poses.\n",
    "   - Compare the docked structure to the crystal structure of SARS-CoV-2 and ACE2.\n",
    "     - **Question**: Is your peptide docked to the interface of SARS-CoV-2 and ACE2?\n",
    "\n",
    "## 📓 **Assignment 3.2**\n",
    "The crystal structure of **Streptomyces coelicolor holo-[Acyl-carrier-protein] Synthase (AcpS)** in complex with coenzyme A is available:  \n",
    "**PDB ID**: 2JB1.  \n",
    "\n",
    "**Reference**:  \n",
    "*Computer-aided drug design to generate a unique antibiotic family*:  \n",
    "[https://doi.org/10.1038/s41467-024-52797-2](https://doi.org/10.1038/s41467-024-52797-2)\n",
    "\n",
    "**Objective**:\n",
    "   1. View the details of the enzyme binding site in the interface of the crystal structure.\n",
    "   2. Describe the design of inhibitors based on the referenced publication.\n",
    "\n",
    "I. **FTMAP**:\n",
    "   - Use **FTMAP** to identify possible binding sites:\n",
    "     - Find the binding site on the surface of **AcpS** ?\n",
    "   - Display the binding sites generated by FTMap.\n",
    "\n",
    "II. **Molecular Modification**:\n",
    "   - Use the **Gen2: DNM0461** structure from the publication.\n",
    "   - Modify the structure by introducing functional groups such as:\n",
    "     - Methyl, propyl, butyl groups.\n",
    "     - Chlorine or bromine atoms on any aromatic ring.\n",
    "\n",
    "III. **Molecule Sketching and Conversion**:\n",
    "   - Use an online cheminformatics tool such as **e-Drug 3D**:\n",
    "     - Go to the \"Draw and Convert a Molecule\" section.\n",
    "     - Sketch the modified structure.\n",
    "     - Convert the sketched structure into a 3D molecule and save it as a **PDB file** (`ligand.pdb`).\n",
    "\n",
    "IV. **Docking**:\n",
    "   - Dock the modified ligand to the protein AcpS.\n",
    "   - Analyze the first 4 low-energy docking poses.\n",
    "   \n",
    "   **Question**: Does the docked structure have the same binding site as the published structure in the referenced publication?"
   ]
  },
  {
   "cell_type": "code",
   "execution_count": null,
   "id": "45422fb2-c522-487d-8ab8-9c18c564cb4f",
   "metadata": {},
   "outputs": [],
   "source": []
  }
 ],
 "metadata": {
  "environment": {
   "kernel": "conda-base-py",
   "name": "workbench-notebooks.m126",
   "type": "gcloud",
   "uri": "us-docker.pkg.dev/deeplearning-platform-release/gcr.io/workbench-notebooks:m126"
  },
  "kernelspec": {
   "display_name": "Python 3 (ipykernel)",
   "language": "python",
   "name": "conda-base-py"
  },
  "language_info": {
   "codemirror_mode": {
    "name": "ipython",
    "version": 3
   },
   "file_extension": ".py",
   "mimetype": "text/x-python",
   "name": "python",
   "nbconvert_exporter": "python",
   "pygments_lexer": "ipython3",
   "version": "3.10.15"
  }
 },
 "nbformat": 4,
 "nbformat_minor": 5
}
