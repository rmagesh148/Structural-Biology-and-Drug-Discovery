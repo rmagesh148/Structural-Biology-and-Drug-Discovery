{
 "cells": [
  {
   "cell_type": "markdown",
   "metadata": {
    "id": "o2XtHqjYjlTL",
    "tags": []
   },
   "source": [
    "# **Submodule 1.1 - Protein Basics**\n",
    "\n",
    "## **Learning Objectives:**\n",
    "*  To visualize the 3D structure of proteins and describe the details of secondary, tertiary, and quaternary structures.\n",
    "*  To visualize intramolecular interaction that stabilize the protein secondary and tertiary structures and intermolecular interactions that stablilizes protein quaternary structure and protein-prostehtic group.\n",
    "\n",
    "## **Prerequisites:**\n",
    "1. Familiarity with Python syntax and basic programming concepts.\n",
    "2. Basic understanding of using Biopython for sequence analysis and PDB file parsing.\n",
    "3. Basic knowledge of PDB file formats and how to access and interpret them.\n",
    "4. Basic knowledge of molecular visualization techniques and interpreting 3D protein structures.\n",
    "\n",
    "## **Introduction**\n",
    "This module serves as an introductory module for drug design, and any undergraduate student can use this module to learn the protein structure. The module starts with the learning of basic protein structure in detail from primary, secondary, tertiary, and quaternary structures with examples and also provides the physicochemical basis of principles of protein 3D structure. Each part involves examples and tutorials using visualization software. To test the user’s knowledge, assignments are provided, and users can utilize the tutorial they go through to solve the assignment problem. Public online software’s for protein sequence analysis such as Uniprot, a protein data bank is used for analysis. Visualization can be done by Pymol software. 3D visualization also involves binding site analysis of different protein-drug interactions and comparison of binding sites of different proteins. For proteins that do not have any 3D structures, a prediction is performed using Colab Alpha Fold.\n",
    "\n",
    "\n",
    "<center><img src=\"images/Protein_Structure_Summary.png\" width=800 /></center><br><br>"
   ]
  },
  {
   "cell_type": "markdown",
   "metadata": {
    "id": "Ku9QL8IjK7hG"
   },
   "source": [
    "## **Why Study Protein Structure for Drug Design?**\n",
    "Proteins are essential biological macromolecules, human cells are estimated to contain approximately 50,000 types of proteins facilitating various biological and physiological functions.The drug discovery process often focuses on specific protein structures like G-protein coupled receptors (GPCRs), enzymes, and ion channels. Each target class presents unique binding sites for drug molecules, and understanding the 3D structure allows scientists to design drugs that can specifically bind tp proteins and modulate biochemical pathways. Below is the breakdown of the frequency for the different drug targets:\n",
    "* **G-protein-coupled receptors (GPCRs):** 33% of drug targets\n",
    "* **Nuclear receptors:** 16% of drug targets\n",
    "* **Enzymes and kinases:** 30% of drug targets\n",
    "* **Ion channels and transporter proteins:** 18% of drug targets\n",
    "* **Other targets (e.g., DNA and miscellaneous):** 3%\n",
    "\n",
    "Ref:Santos et al. Nat. Rev. Drug Discov (2016) doi:10.1038/nrd.2016.230\n",
    "\n",
    "The high proportion of protein targets emphasizes the importance of understanding protein structure for designing effective drugs. Examples include the development of kinase inhibitors used in cancer therapy and beta-blockers that target GPCRs.\n"
   ]
  },
  {
   "cell_type": "markdown",
   "metadata": {
    "id": "3J0DhTsJjlTd"
   },
   "source": [
    "## **Amino Acids**\n",
    "Amino acids are the monomers of proteins, linked by peptide bonds to form long chains. They play a crucial role in determining the shape and function of the protein. The unique side chains (R-groups) of amino acids define their chemical properties (hydrophobic, hydrophilic, charged, or neutral), which in turn influence how a protein folds into its final structure. The chirality of amino acids (except glycine) also plays a role in how they interact with other molecules. There are 20 standard amino acids, each with distinct properties defined by their R-groups: <br>\n",
    "<center><img src=\"images/Amino_Acids.png\" width=800 /></center><br><br>\n",
    "    \n",
    "- **Nonpolar (Hydrophobic):** e.g., leucine, valine, and isoleucine, which prefer to be buried inside the protein away from water.\n",
    "- **Polar (Uncharged):** e.g., serine, threonine, and asparagine, which can form hydrogen bonds and are often found on the protein surface.\n",
    "- **Positively Charged (Basic):** e.g., lysine, arginine, and histidine, which participate in ionic interactions.\n",
    "- **Negatively Charged (Acidic):** e.g., aspartic acid and glutamic acid, which also engage in ionic bonds.\n",
    "- **Aromatic:** e.g., phenylalanine, tyrosine, and tryptophan, which can participate in hydrophobic and π-π interactions.\n",
    "\n",
    "These properties influence how amino acids interact with each other and how the overall protein folds and functions.\n",
    "\n",
    "Peptide Bonds and Protein Formation: Peptide bonds are formed through a condensation reaction between the carboxyl group of one amino acid and the amino group of another, releasing water. These bonds have partial double-bond character due to resonance, which restricts rotation and gives the peptide bond a planar configuration. This planarity is key in the formation of secondary structures like alpha helices and beta sheets. Proteins can be described using one-letter and three-letter abbreviations of amino acids, making sequence notation more compact for analysis.\n",
    "\n",
    "<center><img src=\"images/AA_Condensation.png\" width=600 /></center><br><br>\n",
    "\n",
    "Each amino acid has an α-carbon atom (see Figure above) as a backbone atom. R-group or side chain carbons are labeled by Greek alphabets starting from α carbon atom.\n"
   ]
  },
  {
   "cell_type": "markdown",
   "metadata": {
    "id": "uUvaGVi8jlTe"
   },
   "source": [
    "## **Protein Primary Structure**\n",
    "Refers to the linear sequence of amino acids in a polypeptide chain. The sequence is encoded by genes and ultimately determines the 3D structure and function of the protein. To give an example we will pull the sequence from the protein data bank and display the amino acid length and sequence.\n"
   ]
  },
  {
   "cell_type": "code",
   "execution_count": null,
   "metadata": {
    "colab": {
     "base_uri": "https://localhost:8080/"
    },
    "executionInfo": {
     "elapsed": 5094,
     "status": "ok",
     "timestamp": 1741354247089,
     "user": {
      "displayName": "LBRN LSU",
      "userId": "10341435109704356172"
     },
     "user_tz": -330
    },
    "id": "ZhumBLpYAL7K",
    "outputId": "315ab088-181e-407a-bcb2-1237e3b61113",
    "tags": []
   },
   "outputs": [],
   "source": [
    "%pip install biopython --quiet"
   ]
  },
  {
   "cell_type": "code",
   "execution_count": null,
   "metadata": {
    "colab": {
     "base_uri": "https://localhost:8080/"
    },
    "executionInfo": {
     "elapsed": 644,
     "status": "ok",
     "timestamp": 1741354247731,
     "user": {
      "displayName": "LBRN LSU",
      "userId": "10341435109704356172"
     },
     "user_tz": -330
    },
    "id": "-m-eBB-5jlTf",
    "outputId": "5ae82d74-985e-4fa1-98b9-44a18524abda",
    "tags": []
   },
   "outputs": [],
   "source": [
    "from Bio import SeqIO, Entrez\n",
    "\n",
    "# Set email for NCBI requests\n",
    "Entrez.email = \"your_email@example.com\"  # Replace with your actual email\n",
    "\n",
    "# Fetch protein sequence from NCBI\n",
    "def fetch_protein_sequence(accession):\n",
    "    handle = Entrez.efetch(db=\"protein\", id=accession, rettype=\"fasta\", retmode=\"text\")\n",
    "    seq_record = SeqIO.read(handle, \"fasta\")\n",
    "    handle.close()\n",
    "    return seq_record\n",
    "\n",
    "accession = \"YP_009724390.1\"  # Example accession number\n",
    "protein_seq_record = fetch_protein_sequence(accession)\n",
    "\n",
    "# Print sequence and basic properties\n",
    "print(f\"Sequence ID: {protein_seq_record.id}\")\n",
    "print(f\"Sequence Length: {len(protein_seq_record.seq)}\")\n",
    "print(f\"Sequence: {protein_seq_record.seq}\")"
   ]
  },
  {
   "cell_type": "markdown",
   "metadata": {
    "id": "TiqrY5M8jlTj"
   },
   "source": [
    "## **Protein Secondary Structure**\n",
    "Localized folding patterns within a protein, such as alpha helices and beta sheets, are stabilized by hydrogen bonds. These structures serve as building blocks for the protein's overall shape. Three important secondary structures are the Alpha-Helix, Beta-Sheet, and Beta-Turn.\n",
    "\n",
    "### **Alpha Helix**\n",
    "The alpha-helix is a coiled structure with the backbone at the center, and the sidechains spread out from the helical structure. The helix is usually a right handed-coil and is stabilized by the hydrogen bonds between the backbone N-H group of one amino acid and the C=O group four residues earlier. The alpha-helix is a common structural motif found in many proteins, including enzymes and transport proteins.\n",
    "\n"
   ]
  },
  {
   "cell_type": "code",
   "execution_count": 5,
   "metadata": {
    "id": "X4i5WbKNjlTm",
    "tags": []
   },
   "outputs": [],
   "source": [
    "!pip install -q py3Dmol"
   ]
  },
  {
   "cell_type": "code",
   "execution_count": 6,
   "metadata": {
    "id": "RoQ7oj8XjlTq",
    "tags": []
   },
   "outputs": [],
   "source": [
    "import py3Dmol\n",
    "from IPython.display import display\n",
    "\n",
    "def show_protein(pdbid):\n",
    "    # Create viewer\n",
    "    view = py3Dmol.view(query=pdbid)\n",
    "    view.setStyle({'cartoon': {'color': 'spectrum'}})\n",
    "    view.show()"
   ]
  },
  {
   "cell_type": "code",
   "execution_count": 8,
   "metadata": {
    "colab": {
     "base_uri": "https://localhost:8080/",
     "height": 514
    },
    "executionInfo": {
     "elapsed": 61,
     "status": "ok",
     "timestamp": 1741354373959,
     "user": {
      "displayName": "LBRN LSU",
      "userId": "10341435109704356172"
     },
     "user_tz": -330
    },
    "id": "WgThuLxlAL7N",
    "outputId": "900d98c0-a993-4986-b507-b1f5e9f53df3",
    "tags": []
   },
   "outputs": [
    {
     "name": "stdout",
     "output_type": "stream",
     "text": [
      "Protein ID: 1ZTA\n"
     ]
    },
    {
     "data": {
      "application/3dmoljs_load.v0": "<div id=\"3dmolviewer_17434013246972027\"  style=\"position: relative; width: 640px; height: 480px;\">\n        <p id=\"3dmolwarning_17434013246972027\" style=\"background-color:#ffcccc;color:black\">3Dmol.js failed to load for some reason.  Please check your browser console for error messages.<br></p>\n        </div>\n<script>\n\nvar loadScriptAsync = function(uri){\n  return new Promise((resolve, reject) => {\n    //this is to ignore the existence of requirejs amd\n    var savedexports, savedmodule;\n    if (typeof exports !== 'undefined') savedexports = exports;\n    else exports = {}\n    if (typeof module !== 'undefined') savedmodule = module;\n    else module = {}\n\n    var tag = document.createElement('script');\n    tag.src = uri;\n    tag.async = true;\n    tag.onload = () => {\n        exports = savedexports;\n        module = savedmodule;\n        resolve();\n    };\n  var firstScriptTag = document.getElementsByTagName('script')[0];\n  firstScriptTag.parentNode.insertBefore(tag, firstScriptTag);\n});\n};\n\nif(typeof $3Dmolpromise === 'undefined') {\n$3Dmolpromise = null;\n  $3Dmolpromise = loadScriptAsync('https://cdnjs.cloudflare.com/ajax/libs/3Dmol/2.4.2/3Dmol-min.js');\n}\n\nvar viewer_17434013246972027 = null;\nvar warn = document.getElementById(\"3dmolwarning_17434013246972027\");\nif(warn) {\n    warn.parentNode.removeChild(warn);\n}\n$3Dmolpromise.then(function() {\nviewer_17434013246972027 = $3Dmol.createViewer(document.getElementById(\"3dmolviewer_17434013246972027\"),{backgroundColor:\"white\"});\n$3Dmol.download(\"1ZTA\", viewer_17434013246972027, {}, function() {\nviewer_17434013246972027.zoomTo();\n\tviewer_17434013246972027.setStyle({\"cartoon\": {\"color\": \"spectrum\"}});\nviewer_17434013246972027.render();\n})\n});\n</script>",
      "text/html": [
       "<div id=\"3dmolviewer_17434013246972027\"  style=\"position: relative; width: 640px; height: 480px;\">\n",
       "        <p id=\"3dmolwarning_17434013246972027\" style=\"background-color:#ffcccc;color:black\">3Dmol.js failed to load for some reason.  Please check your browser console for error messages.<br></p>\n",
       "        </div>\n",
       "<script>\n",
       "\n",
       "var loadScriptAsync = function(uri){\n",
       "  return new Promise((resolve, reject) => {\n",
       "    //this is to ignore the existence of requirejs amd\n",
       "    var savedexports, savedmodule;\n",
       "    if (typeof exports !== 'undefined') savedexports = exports;\n",
       "    else exports = {}\n",
       "    if (typeof module !== 'undefined') savedmodule = module;\n",
       "    else module = {}\n",
       "\n",
       "    var tag = document.createElement('script');\n",
       "    tag.src = uri;\n",
       "    tag.async = true;\n",
       "    tag.onload = () => {\n",
       "        exports = savedexports;\n",
       "        module = savedmodule;\n",
       "        resolve();\n",
       "    };\n",
       "  var firstScriptTag = document.getElementsByTagName('script')[0];\n",
       "  firstScriptTag.parentNode.insertBefore(tag, firstScriptTag);\n",
       "});\n",
       "};\n",
       "\n",
       "if(typeof $3Dmolpromise === 'undefined') {\n",
       "$3Dmolpromise = null;\n",
       "  $3Dmolpromise = loadScriptAsync('https://cdnjs.cloudflare.com/ajax/libs/3Dmol/2.4.2/3Dmol-min.js');\n",
       "}\n",
       "\n",
       "var viewer_17434013246972027 = null;\n",
       "var warn = document.getElementById(\"3dmolwarning_17434013246972027\");\n",
       "if(warn) {\n",
       "    warn.parentNode.removeChild(warn);\n",
       "}\n",
       "$3Dmolpromise.then(function() {\n",
       "viewer_17434013246972027 = $3Dmol.createViewer(document.getElementById(\"3dmolviewer_17434013246972027\"),{backgroundColor:\"white\"});\n",
       "$3Dmol.download(\"1ZTA\", viewer_17434013246972027, {}, function() {\n",
       "viewer_17434013246972027.zoomTo();\n",
       "\tviewer_17434013246972027.setStyle({\"cartoon\": {\"color\": \"spectrum\"}});\n",
       "viewer_17434013246972027.render();\n",
       "})\n",
       "});\n",
       "</script>"
      ]
     },
     "metadata": {},
     "output_type": "display_data"
    }
   ],
   "source": [
    "#Run show_protein function to visualize three proteins below\n",
    "print(\"Protein ID: 1ZTA\") #alpha-helical segment of 1ZTA\n",
    "show_protein(\"1ZTA\")"
   ]
  },
  {
   "cell_type": "markdown",
   "metadata": {},
   "source": [
    "### **Beta Sheet**\n",
    "Beta sheets are fundamental secondary structure elements consisting of adjacent polypeptide strands connected by hydrogen bonds. These strands can run either parallel (same direction) or antiparallel (opposite directions), creating a pleated sheet-like structure. The hydrogen bonds formed between the C=O group of one strand and the N-H group of an adjacent strand creates a stable, rigid structure.\n"
   ]
  },
  {
   "cell_type": "code",
   "execution_count": 7,
   "metadata": {
    "colab": {
     "base_uri": "https://localhost:8080/",
     "height": 514
    },
    "executionInfo": {
     "elapsed": 12,
     "status": "ok",
     "timestamp": 1741354378078,
     "user": {
      "displayName": "LBRN LSU",
      "userId": "10341435109704356172"
     },
     "user_tz": -330
    },
    "id": "Pgr-rPgGzojd",
    "outputId": "f832ee1d-bce4-4de7-b08e-6b2a7a35ebb3",
    "tags": []
   },
   "outputs": [
    {
     "name": "stdout",
     "output_type": "stream",
     "text": [
      "Protein ID: 6D0T\n"
     ]
    },
    {
     "data": {
      "application/3dmoljs_load.v0": "<div id=\"3dmolviewer_17434013194362931\"  style=\"position: relative; width: 640px; height: 480px;\">\n        <p id=\"3dmolwarning_17434013194362931\" style=\"background-color:#ffcccc;color:black\">3Dmol.js failed to load for some reason.  Please check your browser console for error messages.<br></p>\n        </div>\n<script>\n\nvar loadScriptAsync = function(uri){\n  return new Promise((resolve, reject) => {\n    //this is to ignore the existence of requirejs amd\n    var savedexports, savedmodule;\n    if (typeof exports !== 'undefined') savedexports = exports;\n    else exports = {}\n    if (typeof module !== 'undefined') savedmodule = module;\n    else module = {}\n\n    var tag = document.createElement('script');\n    tag.src = uri;\n    tag.async = true;\n    tag.onload = () => {\n        exports = savedexports;\n        module = savedmodule;\n        resolve();\n    };\n  var firstScriptTag = document.getElementsByTagName('script')[0];\n  firstScriptTag.parentNode.insertBefore(tag, firstScriptTag);\n});\n};\n\nif(typeof $3Dmolpromise === 'undefined') {\n$3Dmolpromise = null;\n  $3Dmolpromise = loadScriptAsync('https://cdnjs.cloudflare.com/ajax/libs/3Dmol/2.4.2/3Dmol-min.js');\n}\n\nvar viewer_17434013194362931 = null;\nvar warn = document.getElementById(\"3dmolwarning_17434013194362931\");\nif(warn) {\n    warn.parentNode.removeChild(warn);\n}\n$3Dmolpromise.then(function() {\nviewer_17434013194362931 = $3Dmol.createViewer(document.getElementById(\"3dmolviewer_17434013194362931\"),{backgroundColor:\"white\"});\n$3Dmol.download(\"6D0T\", viewer_17434013194362931, {}, function() {\nviewer_17434013194362931.zoomTo();\n\tviewer_17434013194362931.setStyle({\"cartoon\": {\"color\": \"spectrum\"}});\nviewer_17434013194362931.render();\n})\n});\n</script>",
      "text/html": [
       "<div id=\"3dmolviewer_17434013194362931\"  style=\"position: relative; width: 640px; height: 480px;\">\n",
       "        <p id=\"3dmolwarning_17434013194362931\" style=\"background-color:#ffcccc;color:black\">3Dmol.js failed to load for some reason.  Please check your browser console for error messages.<br></p>\n",
       "        </div>\n",
       "<script>\n",
       "\n",
       "var loadScriptAsync = function(uri){\n",
       "  return new Promise((resolve, reject) => {\n",
       "    //this is to ignore the existence of requirejs amd\n",
       "    var savedexports, savedmodule;\n",
       "    if (typeof exports !== 'undefined') savedexports = exports;\n",
       "    else exports = {}\n",
       "    if (typeof module !== 'undefined') savedmodule = module;\n",
       "    else module = {}\n",
       "\n",
       "    var tag = document.createElement('script');\n",
       "    tag.src = uri;\n",
       "    tag.async = true;\n",
       "    tag.onload = () => {\n",
       "        exports = savedexports;\n",
       "        module = savedmodule;\n",
       "        resolve();\n",
       "    };\n",
       "  var firstScriptTag = document.getElementsByTagName('script')[0];\n",
       "  firstScriptTag.parentNode.insertBefore(tag, firstScriptTag);\n",
       "});\n",
       "};\n",
       "\n",
       "if(typeof $3Dmolpromise === 'undefined') {\n",
       "$3Dmolpromise = null;\n",
       "  $3Dmolpromise = loadScriptAsync('https://cdnjs.cloudflare.com/ajax/libs/3Dmol/2.4.2/3Dmol-min.js');\n",
       "}\n",
       "\n",
       "var viewer_17434013194362931 = null;\n",
       "var warn = document.getElementById(\"3dmolwarning_17434013194362931\");\n",
       "if(warn) {\n",
       "    warn.parentNode.removeChild(warn);\n",
       "}\n",
       "$3Dmolpromise.then(function() {\n",
       "viewer_17434013194362931 = $3Dmol.createViewer(document.getElementById(\"3dmolviewer_17434013194362931\"),{backgroundColor:\"white\"});\n",
       "$3Dmol.download(\"6D0T\", viewer_17434013194362931, {}, function() {\n",
       "viewer_17434013194362931.zoomTo();\n",
       "\tviewer_17434013194362931.setStyle({\"cartoon\": {\"color\": \"spectrum\"}});\n",
       "viewer_17434013194362931.render();\n",
       "})\n",
       "});\n",
       "</script>"
      ]
     },
     "metadata": {},
     "output_type": "display_data"
    }
   ],
   "source": [
    "print(\"Protein ID: 6D0T\")\n",
    "show_protein(\"6D0T\")"
   ]
  },
  {
   "cell_type": "markdown",
   "metadata": {
    "id": "5ocKbmPw0oLk"
   },
   "source": [
    "### **Beta turn**\n",
    "Beta turns (β-turns) are essential structural elements that allow the polypeptide chain to change direction, often connecting adjacent strands in antiparallel beta sheets. These turns typically consist of four amino acid residues, with specific amino acids such as proline and glycine commonly found in these positions due to their unique structural properties. The first and fourth residues of the turn are connected by a characteristic hydrogen bond, stabilizing the turn structure."
   ]
  },
  {
   "cell_type": "code",
   "execution_count": 9,
   "metadata": {
    "colab": {
     "base_uri": "https://localhost:8080/",
     "height": 514
    },
    "executionInfo": {
     "elapsed": 13,
     "status": "ok",
     "timestamp": 1741354382607,
     "user": {
      "displayName": "LBRN LSU",
      "userId": "10341435109704356172"
     },
     "user_tz": -330
    },
    "id": "TRyYKo1izq_O",
    "outputId": "ac5836f1-3ffb-4c2f-a464-0eafa697c41d",
    "tags": []
   },
   "outputs": [
    {
     "name": "stdout",
     "output_type": "stream",
     "text": [
      "Protein ID: 1LE1\n"
     ]
    },
    {
     "data": {
      "application/3dmoljs_load.v0": "<div id=\"3dmolviewer_1743401342330906\"  style=\"position: relative; width: 640px; height: 480px;\">\n        <p id=\"3dmolwarning_1743401342330906\" style=\"background-color:#ffcccc;color:black\">3Dmol.js failed to load for some reason.  Please check your browser console for error messages.<br></p>\n        </div>\n<script>\n\nvar loadScriptAsync = function(uri){\n  return new Promise((resolve, reject) => {\n    //this is to ignore the existence of requirejs amd\n    var savedexports, savedmodule;\n    if (typeof exports !== 'undefined') savedexports = exports;\n    else exports = {}\n    if (typeof module !== 'undefined') savedmodule = module;\n    else module = {}\n\n    var tag = document.createElement('script');\n    tag.src = uri;\n    tag.async = true;\n    tag.onload = () => {\n        exports = savedexports;\n        module = savedmodule;\n        resolve();\n    };\n  var firstScriptTag = document.getElementsByTagName('script')[0];\n  firstScriptTag.parentNode.insertBefore(tag, firstScriptTag);\n});\n};\n\nif(typeof $3Dmolpromise === 'undefined') {\n$3Dmolpromise = null;\n  $3Dmolpromise = loadScriptAsync('https://cdnjs.cloudflare.com/ajax/libs/3Dmol/2.4.2/3Dmol-min.js');\n}\n\nvar viewer_1743401342330906 = null;\nvar warn = document.getElementById(\"3dmolwarning_1743401342330906\");\nif(warn) {\n    warn.parentNode.removeChild(warn);\n}\n$3Dmolpromise.then(function() {\nviewer_1743401342330906 = $3Dmol.createViewer(document.getElementById(\"3dmolviewer_1743401342330906\"),{backgroundColor:\"white\"});\n$3Dmol.download(\"1LE1\", viewer_1743401342330906, {}, function() {\nviewer_1743401342330906.zoomTo();\n\tviewer_1743401342330906.setStyle({\"cartoon\": {\"color\": \"spectrum\"}});\nviewer_1743401342330906.render();\n})\n});\n</script>",
      "text/html": [
       "<div id=\"3dmolviewer_1743401342330906\"  style=\"position: relative; width: 640px; height: 480px;\">\n",
       "        <p id=\"3dmolwarning_1743401342330906\" style=\"background-color:#ffcccc;color:black\">3Dmol.js failed to load for some reason.  Please check your browser console for error messages.<br></p>\n",
       "        </div>\n",
       "<script>\n",
       "\n",
       "var loadScriptAsync = function(uri){\n",
       "  return new Promise((resolve, reject) => {\n",
       "    //this is to ignore the existence of requirejs amd\n",
       "    var savedexports, savedmodule;\n",
       "    if (typeof exports !== 'undefined') savedexports = exports;\n",
       "    else exports = {}\n",
       "    if (typeof module !== 'undefined') savedmodule = module;\n",
       "    else module = {}\n",
       "\n",
       "    var tag = document.createElement('script');\n",
       "    tag.src = uri;\n",
       "    tag.async = true;\n",
       "    tag.onload = () => {\n",
       "        exports = savedexports;\n",
       "        module = savedmodule;\n",
       "        resolve();\n",
       "    };\n",
       "  var firstScriptTag = document.getElementsByTagName('script')[0];\n",
       "  firstScriptTag.parentNode.insertBefore(tag, firstScriptTag);\n",
       "});\n",
       "};\n",
       "\n",
       "if(typeof $3Dmolpromise === 'undefined') {\n",
       "$3Dmolpromise = null;\n",
       "  $3Dmolpromise = loadScriptAsync('https://cdnjs.cloudflare.com/ajax/libs/3Dmol/2.4.2/3Dmol-min.js');\n",
       "}\n",
       "\n",
       "var viewer_1743401342330906 = null;\n",
       "var warn = document.getElementById(\"3dmolwarning_1743401342330906\");\n",
       "if(warn) {\n",
       "    warn.parentNode.removeChild(warn);\n",
       "}\n",
       "$3Dmolpromise.then(function() {\n",
       "viewer_1743401342330906 = $3Dmol.createViewer(document.getElementById(\"3dmolviewer_1743401342330906\"),{backgroundColor:\"white\"});\n",
       "$3Dmol.download(\"1LE1\", viewer_1743401342330906, {}, function() {\n",
       "viewer_1743401342330906.zoomTo();\n",
       "\tviewer_1743401342330906.setStyle({\"cartoon\": {\"color\": \"spectrum\"}});\n",
       "viewer_1743401342330906.render();\n",
       "})\n",
       "});\n",
       "</script>"
      ]
     },
     "metadata": {},
     "output_type": "display_data"
    }
   ],
   "source": [
    "print(\"Protein ID: 1LE1\")\n",
    "show_protein(\"1LE1\")"
   ]
  },
  {
   "cell_type": "markdown",
   "metadata": {
    "id": "M6K7X0VbjlT6"
   },
   "source": [
    "## **Protein Tertiary Structure**\n",
    "The overall 3D arrangement of the entire polypeptide chain, formed through interactions between side chains, including hydrophobic interactions, hydrogen bonds, ionic bonds, and disulfide bridges. Side chains (R-groups) play a crucial role in protein folding and stability. They participate in interactions such as:\n",
    "* Hydrogen bonds between polar side chains.\n",
    "* Ionic interactions (salt bridges) between positively and negatively charged residues.\n",
    "* Hydrophobic interactions, where nonpolar side chains aggregate in the interior of the protein, away from the aqueous environment.\n",
    "* Disulfide bridges between cysteine residues, providing covalent stabilization.\n",
    "\n",
    "These interactions collectively determine the protein's final structure and function.\n",
    "\n",
    "<center><img src=\"images/Tertiary_Structures.png\" width=800 /></center><br><br>\n",
    "\n",
    "\n",
    "In addition to side chain interactions, tertiary structure encompasses recurring combinations of secondary structure elements that form distinct architectural motifs. These modular building blocks are fundamental to protein function and stability. The Beta-Alpha-Beta (βαβ) motif, consisting of two parallel β-strands connected by an α-helix, is commonly found in nucleotide-binding proteins, with the Rossmann fold (three or more beta strands connected by an alpha helix) being a classic example (Hanukoglu Biochem. Mol. Biol. Edu. 43:206-209, (2015) https://doi.org/10.1002/bmb.20849). Another prevalent arrangement is the Alpha/Beta (α/β) barrel, also known as the triose-phosphate isomerase (TIM) barrel, which features eight parallel β-strands surrounded by eight α-helices. This versatile structure often houses enzymatic active sites at the C-terminal end of the β-strands."
   ]
  },
  {
   "cell_type": "markdown",
   "metadata": {
    "id": "33CO82SyjlT7"
   },
   "source": [
    "## **Protein Quaternary Structure**\n",
    "Quaternary structure represents the highest level of protein organization, describing how multiple protein subunits (polypeptide chains) come together to form a functional protein complex. This structure is crucial for many proteins to perform their biological functions. (e.g., hemoglobin consists of four subunits). The assembly of subunits can be either homologous (identical subunits) or heterologous (different subunits), each serving specific biological functions."
   ]
  },
  {
   "cell_type": "code",
   "execution_count": 4,
   "metadata": {
    "colab": {
     "base_uri": "https://localhost:8080/",
     "height": 497
    },
    "executionInfo": {
     "elapsed": 62,
     "status": "ok",
     "timestamp": 1741354253515,
     "user": {
      "displayName": "LBRN LSU",
      "userId": "10341435109704356172"
     },
     "user_tz": -330
    },
    "id": "TQQ_VVijjlT8",
    "outputId": "d586f496-e8ad-4c78-abc1-ef81966f2441",
    "tags": []
   },
   "outputs": [
    {
     "data": {
      "application/3dmoljs_load.v0": "<div id=\"3dmolviewer_174318541403032\"  style=\"position: relative; width: 640px; height: 480px;\">\n        <p id=\"3dmolwarning_174318541403032\" style=\"background-color:#ffcccc;color:black\">3Dmol.js failed to load for some reason.  Please check your browser console for error messages.<br></p>\n        </div>\n<script>\n\nvar loadScriptAsync = function(uri){\n  return new Promise((resolve, reject) => {\n    //this is to ignore the existence of requirejs amd\n    var savedexports, savedmodule;\n    if (typeof exports !== 'undefined') savedexports = exports;\n    else exports = {}\n    if (typeof module !== 'undefined') savedmodule = module;\n    else module = {}\n\n    var tag = document.createElement('script');\n    tag.src = uri;\n    tag.async = true;\n    tag.onload = () => {\n        exports = savedexports;\n        module = savedmodule;\n        resolve();\n    };\n  var firstScriptTag = document.getElementsByTagName('script')[0];\n  firstScriptTag.parentNode.insertBefore(tag, firstScriptTag);\n});\n};\n\nif(typeof $3Dmolpromise === 'undefined') {\n$3Dmolpromise = null;\n  $3Dmolpromise = loadScriptAsync('https://cdnjs.cloudflare.com/ajax/libs/3Dmol/2.4.2/3Dmol-min.js');\n}\n\nvar viewer_174318541403032 = null;\nvar warn = document.getElementById(\"3dmolwarning_174318541403032\");\nif(warn) {\n    warn.parentNode.removeChild(warn);\n}\n$3Dmolpromise.then(function() {\nviewer_174318541403032 = $3Dmol.createViewer(document.getElementById(\"3dmolviewer_174318541403032\"),{backgroundColor:\"white\"});\n$3Dmol.download(\"3bcq\", viewer_174318541403032, {}, function() {\nviewer_174318541403032.zoomTo();\n\tviewer_174318541403032.setStyle({\"cartoon\": {\"color\": \"spectrum\"}});\n\tviewer_174318541403032.addStyle({\"resn\": \"HEM\"},{\"stick\": {\"colorscheme\": \"Jmol\"}});\nviewer_174318541403032.render();\n})\n});\n</script>",
      "text/html": [
       "<div id=\"3dmolviewer_174318541403032\"  style=\"position: relative; width: 640px; height: 480px;\">\n",
       "        <p id=\"3dmolwarning_174318541403032\" style=\"background-color:#ffcccc;color:black\">3Dmol.js failed to load for some reason.  Please check your browser console for error messages.<br></p>\n",
       "        </div>\n",
       "<script>\n",
       "\n",
       "var loadScriptAsync = function(uri){\n",
       "  return new Promise((resolve, reject) => {\n",
       "    //this is to ignore the existence of requirejs amd\n",
       "    var savedexports, savedmodule;\n",
       "    if (typeof exports !== 'undefined') savedexports = exports;\n",
       "    else exports = {}\n",
       "    if (typeof module !== 'undefined') savedmodule = module;\n",
       "    else module = {}\n",
       "\n",
       "    var tag = document.createElement('script');\n",
       "    tag.src = uri;\n",
       "    tag.async = true;\n",
       "    tag.onload = () => {\n",
       "        exports = savedexports;\n",
       "        module = savedmodule;\n",
       "        resolve();\n",
       "    };\n",
       "  var firstScriptTag = document.getElementsByTagName('script')[0];\n",
       "  firstScriptTag.parentNode.insertBefore(tag, firstScriptTag);\n",
       "});\n",
       "};\n",
       "\n",
       "if(typeof $3Dmolpromise === 'undefined') {\n",
       "$3Dmolpromise = null;\n",
       "  $3Dmolpromise = loadScriptAsync('https://cdnjs.cloudflare.com/ajax/libs/3Dmol/2.4.2/3Dmol-min.js');\n",
       "}\n",
       "\n",
       "var viewer_174318541403032 = null;\n",
       "var warn = document.getElementById(\"3dmolwarning_174318541403032\");\n",
       "if(warn) {\n",
       "    warn.parentNode.removeChild(warn);\n",
       "}\n",
       "$3Dmolpromise.then(function() {\n",
       "viewer_174318541403032 = $3Dmol.createViewer(document.getElementById(\"3dmolviewer_174318541403032\"),{backgroundColor:\"white\"});\n",
       "$3Dmol.download(\"3bcq\", viewer_174318541403032, {}, function() {\n",
       "viewer_174318541403032.zoomTo();\n",
       "\tviewer_174318541403032.setStyle({\"cartoon\": {\"color\": \"spectrum\"}});\n",
       "\tviewer_174318541403032.addStyle({\"resn\": \"HEM\"},{\"stick\": {\"colorscheme\": \"Jmol\"}});\n",
       "viewer_174318541403032.render();\n",
       "})\n",
       "});\n",
       "</script>"
      ]
     },
     "metadata": {},
     "output_type": "display_data"
    }
   ],
   "source": [
    "# Py3dmol for Hemoglobin\n",
    "view = py3Dmol.view(query='3bcq')\n",
    "view.setStyle({'cartoon': {'color': 'spectrum'}})\n",
    "view.addStyle({'resn': 'HEM'}, {'stick': {'colorscheme': 'Jmol'}})\n",
    "view.show()"
   ]
  },
  {
   "cell_type": "markdown",
   "metadata": {
    "id": "WU_icmpAjlT-"
   },
   "source": [
    "---------------\n",
    "# 📊 Tutorials\n",
    "In these tutorials, we will use the PyMOL to work through <u>**five**</u> activities to visualize how secondary structures such as helicies, beta sheets and turns are stabilized by hydrogen bonds. You will also visualize and analyze tertiary and, quartenary structure of hemoglobin\n",
    "\n",
    "\n",
    "## Before you begin:\n",
    "- Run the PyMOL GUI by following the directions provided in the Submodule 0 notebook, provided here: [pymol_notebook](../submodule0_pymol_setup/pymol_notebook.ipynb)\n"
   ]
  },
  {
   "cell_type": "code",
   "execution_count": null,
   "metadata": {
    "colab": {
     "base_uri": "https://localhost:8080/"
    },
    "executionInfo": {
     "elapsed": 58,
     "status": "ok",
     "timestamp": 1741354253575,
     "user": {
      "displayName": "LBRN LSU",
      "userId": "10341435109704356172"
     },
     "user_tz": -330
    },
    "id": "3huWAe0QAL7O",
    "outputId": "ee221d54-ec81-404f-c3cd-dccd934f051f",
    "tags": []
   },
   "outputs": [],
   "source": [
    "#should print out directory current directory that ends with `submodule1_protein_structure`\n",
    "!pwd"
   ]
  },
  {
   "cell_type": "code",
   "execution_count": null,
   "metadata": {
    "colab": {
     "base_uri": "https://localhost:8080/"
    },
    "executionInfo": {
     "elapsed": 61,
     "status": "ok",
     "timestamp": 1741354253638,
     "user": {
      "displayName": "LBRN LSU",
      "userId": "10341435109704356172"
     },
     "user_tz": -330
    },
    "id": "o60_NCQ6AL7O",
    "outputId": "9eb9838e-7b5f-4010-fa02-996e18e25448",
    "tags": []
   },
   "outputs": [],
   "source": [
    "#make pml_script output directory\n",
    "!mkdir /home/jupyter/Dev_Branch/Structural-Biology-and-Drug-Discovery/submodule1_protein_structure/pml_scripts"
   ]
  },
  {
   "cell_type": "code",
   "execution_count": null,
   "metadata": {
    "id": "3CAuspXAAL7P",
    "tags": []
   },
   "outputs": [],
   "source": [
    "#enables write access from GUI to subfolders within `submodule1_protein_structure`\n",
    "!chmod -R 777 ."
   ]
  },
  {
   "cell_type": "markdown",
   "metadata": {
    "id": "LGa7ozTqjlT_"
   },
   "source": [
    "## 🌟 **Activity 1: Visualizing Hydrogen Bonding and Stabilization of Helical Structure**\n",
    "\n",
    "### **Objective:**  \n",
    "To visualize *hydrogen bonding* and understand the stabilization pattern of a helical structure using PyMOL.\n",
    "\n",
    "### **Steps to Perform the Activity**\n",
    "\n",
    "#### **Step 1: Prepare the PDB File**\n",
    "1. Load the File in using the PyMOL GUI by accessing the menu and navigating to:  \n",
    "    `File > open> config>bucket> Structural Biology and Drug Discovery> sub module 1 protein structure> data> helix.pdb`\n",
    "    \n",
    "2. If the molecule is displayed with a cartoon helical structure<br>\n",
    "    `PyMol>hide cartoon`<br>\n",
    "    `PyMol>show lines`\n",
    "    \n",
    "Hydrogen bond interaction table can be generated using the following:\n",
    "https://psa-lab.github.io/HbindViz/user_guide/  \n",
    "\n",
    "\n",
    "#### **Step 2: Display the Protein Sequence**\n",
    "1. To show sequence navigate to:<br>\n",
    "     `Display > Sequence`\n",
    "   - The *protein sequence* will appear at the top of the PyMOL interface.\n",
    "\n",
    "2. Select the specific sequence by using the *left mouse button* to select a region of the sequence displayed at the top.\n",
    "\n",
    "#### **Step 3: Highlight Hydrogen Bonds**\n",
    "1. Find Polar Contacts with the selected sequence by navigating to: <br>  \n",
    "    `Sele > Action > Find > Polar Contacts > Within Selection` <br>\n",
    "   - This will highlight the *hydrogen bonds* (yellow lines) within the selection.\n",
    "\n",
    "2. Label the residues by navigating to:  <br>\n",
    "     `Sele > Label > Residues`  \n",
    "   - The labels of the residues will now appear.\n",
    "\n",
    "#### **Step 4: Visualize and Analyze the Structure**\n",
    "1. Adjust the zoom to observe the *yellow lines* representing hydrogen bonds."
   ]
  },
  {
   "cell_type": "markdown",
   "metadata": {
    "id": "9ws1QMU59KHE"
   },
   "source": [
    "### **Alternative Method for Activity 1 - Write and Load PML Script**"
   ]
  },
  {
   "cell_type": "code",
   "execution_count": null,
   "metadata": {
    "colab": {
     "base_uri": "https://localhost:8080/"
    },
    "executionInfo": {
     "elapsed": 33,
     "status": "ok",
     "timestamp": 1741356691089,
     "user": {
      "displayName": "LBRN LSU",
      "userId": "10341435109704356172"
     },
     "user_tz": -330
    },
    "id": "hP0E3A_2HUca",
    "outputId": "85d96258-4728-47b2-d7ce-e038e050dac2",
    "tags": []
   },
   "outputs": [],
   "source": [
    "# PML Script: Protein Hydrogen Bond Analysis\n",
    "## Run this code cell to write the .pml script file and execute the analysis outlined step-by-step above.\n",
    "## Once you write the file, it can be run in the PyMOL GUI in one of two ways:\n",
    "##    1. Select File > Run Script and then the pml script within PyMOL -or-\n",
    "##    2. Set your directory to the folder and then run: pymol> @helix_analysis.pml\n",
    "\n",
    "with open(\"/home/jupyter/Structural-Biology-and-Drug-Discovery/submodule1_protein_structure/pml_scripts/helix_analysis.pml\", \"w\") as scriptout:\n",
    "    scriptout.write(\"# Step 1: Prepare the PDB File\\n\")\n",
    "    scriptout.write(\"load /config/bucket/Structural-Biology-and-Drug-Discovery/submodule1_protein_structure/data/helix.pdb\\n\")  # Load the helix PDB file\n",
    "\n",
    "    scriptout.write(\"# Hide cartoon representation and show lines\\n\")\n",
    "    scriptout.write(\"hide cartoon\\n\")\n",
    "    scriptout.write(\"show lines\\n\")\n",
    "\n",
    "    scriptout.write(\"# Step 2: Display the Protein Sequence\\n\")\n",
    "    scriptout.write(\"set seq_view, on\\n\")  # Enable sequence display at the top of the interface\n",
    "\n",
    "    scriptout.write(\"# Step 3: Highlight Hydrogen Bonds\\n\")\n",
    "    scriptout.write(\"select helix_region, resi 10-20 and name CA\\n\")  # Selecting only the alpha-carbons of residues\n",
    "\n",
    "    scriptout.write(\"select polar_contacts, (helix_region) and (byres helix_region expand 3) and hydro\\n\")\n",
    "\n",
    "    scriptout.write(\"# Find polar contacts within the selected region\\n\")\n",
    "    scriptout.write(\"distance hbonds, (helix_region), (byres helix_region expand 3), mode=2\\n\")\n",
    "\n",
    "    scriptout.write(\"# Label only the selected residues involved in hydrogen bonding\\n\")\n",
    "    scriptout.write(\"label helix_region, resn + resi\\n\")\n",
    "\n",
    "    scriptout.write(\"# Adjust the label size for better visibility\\n\")\n",
    "    scriptout.write(\"set label_size, 20\\n\")\n",
    "\n",
    "    scriptout.write(\"# Final step: Zoom into the selected region for better visualization\\n\")\n",
    "    scriptout.write(\"zoom helix_region\\n\")\n",
    "\n",
    "print(\"PML script 'helix_analysis.pml' has been updated. Run it in PyMOL to perform the analysis.\")\n"
   ]
  },
  {
   "cell_type": "markdown",
   "metadata": {
    "id": "51dSAHVCAiWw"
   },
   "source": [
    "### **Key Observations and Understanding the Visualization**\n",
    "\n",
    "- **Hydrogen Bonds (Yellow Lines):**  \n",
    "  - Notice that *Trp14 NH* forms a hydrogen bond with *Ile10 C=O*, following an *i to i+4 pattern*, where `i` represents the first residue (*Ile10*) and *Trp14* is *4 residues away*.  \n",
    "  - Similarly, *Phe13 C=O* is hydrogen bonded to *Ile17 NH*, which stabilizes the helical structure.  \n",
    "  - These hydrogen bonds play a crucial role in maintaining the integrity of the alpha-helix.\n",
    "\n",
    "- **Residue Labeling:**  \n",
    "  - Labels help identify specific residues involved in hydrogen bonding, facilitating a better understanding of their interactions.\n",
    "\n",
    "- **Helical Backbone and Side Chains:**  \n",
    "  - The *backbone* is positioned at the center of the helix, providing the structural core.  \n",
    "  - The *side chains* extend outward, ensuring space for interactions and functionality in the tertiary structure, further contributing to overall stability.  \n",
    "  - This outward orientation supports the structural and functional properties of the protein.\n"
   ]
  },
  {
   "cell_type": "markdown",
   "metadata": {
    "id": "S7kpym6cjlUA"
   },
   "source": [
    "--------------\n",
    "## 🌟 **Activity 2: Visualizing the Hydrogen Bonding Pattern in a Beta-Sheet Structure**\n",
    "\n",
    "### **Objective:**  \n",
    "To visualize the **hydrogen bonding pattern** that stabilizes a **beta-sheet structure** (secondary protein structure) using PyMOL.\n",
    "\n",
    "#### **Beta Sheet Structures:**\n",
    "* <u>Parallel</u>: Strands run in the same direction, resulting in weaker hydrogen bonds due to a non-linear alignment.\n",
    "* <u>Antiparallel</u>: Strands run in opposite directions, leading to stronger, more linear hydrogen bonds."
   ]
  },
  {
   "cell_type": "code",
   "execution_count": null,
   "metadata": {
    "colab": {
     "base_uri": "https://localhost:8080/",
     "height": 497
    },
    "executionInfo": {
     "elapsed": 61,
     "status": "ok",
     "timestamp": 1741355002276,
     "user": {
      "displayName": "LBRN LSU",
      "userId": "10341435109704356172"
     },
     "user_tz": -330
    },
    "id": "zSBdv7OSjlUB",
    "outputId": "deb070c6-7a76-4e25-8999-982277cb9634",
    "tags": []
   },
   "outputs": [],
   "source": [
    "#Run the show_protein function defined above (make sure you ran the cell to create the function) to visualize `6D0T` protein again\n",
    "show_protein(\"6D0T\")"
   ]
  },
  {
   "cell_type": "markdown",
   "metadata": {
    "id": "2AhV99lSjlUD"
   },
   "source": [
    "### **Steps to Perform the Activity**\n",
    "\n",
    "#### **Step 1: Load the Protein with a Beta-Sheet Structure**\n",
    "1. Fetch protein structure PDB file using the `fetch` PyMOL command:<br>\n",
    "     `PyMol> fetch 5GV0`\n",
    "\n",
    "#### **Step 2: Display the Protein Sequence**\n",
    "1. Display the protein sequence (top of the PyMOL interface) by using the PyMOL GUI to navigate to:  \n",
    "     `Display > Sequence`\n",
    "\n",
    "2. Select only the beta-sheet portion of the protein sequence using the *left mouse button*.\n",
    "   \n",
    "3. To hide everything except the selected portion, enter the following command in the PyMOL command line:<br>\n",
    "`pymol> hide everything, not sele`\n",
    "\n",
    "#### **Step 3: Highlight Hydrogen Bonds**\n",
    "1. With the protein sequence selected, find the polar contacts by navigating and selecting the following option:  \n",
    "    `Sele > Action > Find > Polar Contacts > Within Selection`\n",
    "   - The *hydrogen bonds* (yellow lines) should now be displayed.\n",
    "   \n",
    "### **Beta-Sheet Hydrogen Bonding: Key Characteristics and Visualization**\n",
    "\n",
    "- **Hydrogen Bonds (Yellow Lines):** The beta-sheet structure is stabilized by hydrogen bonds that connect the backbone atoms of neighboring strands.These bonds are arranged in a **ladder-like pattern**, running parallel between adjacent strands, providing structural integrity.\n",
    "\n",
    "- **Inter-chain Hydrogen Bonds:** Hydrogen bonds form between adjacent chains of the beta-sheet, contributing to overall stability and rigidity.\n",
    "\n",
    "- **Structural Stabilization:** The arrangement of hydrogen bonds ensures the beta-sheet remains a stable, functional component of the protein structure.\n"
   ]
  },
  {
   "cell_type": "code",
   "execution_count": null,
   "metadata": {
    "colab": {
     "base_uri": "https://localhost:8080/",
     "height": 497
    },
    "executionInfo": {
     "elapsed": 24,
     "status": "ok",
     "timestamp": 1741355010051,
     "user": {
      "displayName": "LBRN LSU",
      "userId": "10341435109704356172"
     },
     "user_tz": -330
    },
    "id": "YojvNnuwjlUF",
    "outputId": "2e0144e8-37cb-44f9-d7e2-f98fbe001de3",
    "tags": []
   },
   "outputs": [],
   "source": [
    "# Run the show_protein function defined above (make sure you ran the cell to create the function) to visualize `1LE1` protein again\n",
    "show_protein(\"1LE1\")"
   ]
  },
  {
   "cell_type": "markdown",
   "metadata": {
    "id": "g6gqFQi6jlUG"
   },
   "source": [
    "---------------------------\n",
    "## 🌟 **Activity 3: Visualizing the Beta-Turn in a Protein Structure**\n",
    "\n",
    "### **Objective:**  \n",
    "To identify and visualize a **beta-turn** structure in the hemoglobin protein using PyMOL.\n",
    "\n",
    "#### Beta-Turn:\n",
    "A tight loop that allows the polypeptide chain to reverse direction. Beta-turns are stabilised by hydrogen bonds and are often located on the protein surface, helping proteins form compact shapes.\n",
    "\n",
    "<center><img src=\"images/beta_turn.png\" width=600 /><br><br></center>\n",
    "\n",
    "### **Steps to Perform the Activity**\n",
    "\n",
    "#### **Step 1: Load the Hemoglobin Protein Structure**\n",
    "1. Fetch the hemoglobin structure PDB file:<br>\n",
    "     `PyMol> fetch 3BCQ`\n",
    "\n",
    "#### **Step 2: Simplify the Structure**\n",
    "1. Remove chains *B, C, and D* to focus on chain *A*:<br>\n",
    "     `PyMol> remove chain B+C+D`\n",
    "\n",
    "2. Delete Residues Outside the Range of Interest by removing residues *1 to 30* and *71 to the end*:\n",
    "     `PyMol> remove resi 1-30` <br>\n",
    "     `PyMol> remove resi 71-999`\n",
    "\n",
    "#### **Step 3: Focus on the Beta-Turn**\n",
    "1. The loop structure from residues *44 to 53* contains the beta-turn between two helices. In this step select the key residues in the Beta-Turn (residues *50, 51, 52, and 53*):<br>\n",
    "     `PyMol> select resi 50+51+52+53`\n",
    "\n",
    "3. Set the display mode to *sticks* for the selected residues to display the Beta-Turn in Stick Representation:<br>\n",
    "     `PyMol> show sticks, sele`\n",
    "\n",
    "4. Add labels to the selected residues:<br>\n",
    "     `PyMol> label sele, resn+resi`\n",
    "   \n",
    "### **Alternative Method for Activity 3 - Write and Load PML Script**\n",
    "\n"
   ]
  },
  {
   "cell_type": "code",
   "execution_count": null,
   "metadata": {},
   "outputs": [],
   "source": [
    "#### Alternative\n",
    "# PML Script: Beta turn visualization\n",
    "## Run this code cell to write the .pml script file and execute the analysis outlined step-by-step above.\n",
    "## Once you write the file, it can be run in the PyMOL GUI in one of two ways:\n",
    "##    1. Select File > Run Script and then the pml script within PyMOL -or-\n",
    "##    2. Set your directory to the folder and then run: pymol> @activity3.pml\n",
    "\n",
    "with open(\"/home/jupyter/Structural-Biology-and-Drug-Discovery/submodule1_protein_structure/pml_scripts/activity3.pml\", \"w\") as scriptout:\n",
    "    scriptout.write(\"# Step 1: Load Hemoglobin Structure\\n\")\n",
    "    scriptout.write(\"fetch 3bcq\\n\")  #  PDB file\n",
    "    scriptout.write(\"# Step 2: Isolate Chain A With Heme Group\\n\")\n",
    "    scriptout.write(\"remove chain B+C+D\\n\")\n",
    "    scriptout.write(\"remove resi 71-999\\n\")\n",
    "    scriptout.write(\"select resi 50+51+52+53\\n\")\n",
    "    scriptout.write(\"show sticks, sele\\n\")\n",
    "    scriptout.write(\"label sele, resn+resi\\n\")\n",
    "\n",
    "print(\"PML script 'activity3.pml' has been updated. Run it in PyMOL to perform the analysis.\")\n"
   ]
  },
  {
   "cell_type": "markdown",
   "metadata": {},
   "source": [
    "### **Beta-Turn: Key Characteristics and Visualization**\n",
    "\n",
    "- **Beta-Turn Structure:** The residues *Ser50, Pro51, Gly52, Ser53* form a beta-turn, which enables a sharp directional change in the protein chain between two helices. This structure ensures the protein retains its compact and functional shape.\n",
    "\n",
    "- **Structural Stabilization:** Beta-turns provide stability by maintaining the tight folding necessary for protein functionality.\n",
    "\n",
    "- **Beta-Turn Residues:**\n",
    "The selected residues (*Ser50-Pro51-Gly52-Ser53*) stabilize the corner structure of the protein. **Functional Role:** This turn connects helices, contributing to the overall compact architecture of the hemoglobin molecule."
   ]
  },
  {
   "cell_type": "markdown",
   "metadata": {
    "id": "SY1q3I12jlUH"
   },
   "source": [
    "-------------\n",
    "## 🌟 **Activity 4: How Disulfide Bonds Stabilize Two Chains of Insulin**\n",
    "Disulfide bonds are formed by the oxidation of two cysteine residues, creating a covalent bond that stabilizes protein structure. For example, with insulin disulfide bonds link two polypeptide chains, contributing to its 3D structure. In antibodies, disulfide bonds provide flexibility in the hinge region, facilitating antigen binding.\n",
    "\n",
    "### **Objective:**  \n",
    "To visualize and understand the role of **disulfide bonds** in stabilizing the two chains of insulin using PyMOL.\n",
    "\n",
    "### **Steps to Perform the Activity**\n",
    "\n",
    "#### **Step 1: Load the Insulin Structure**\n",
    "1. Fetch the PDB File to retrieve the insulin structure:<br>\n",
    "     `PyMol> fetch 3I3Z`\n",
    "   - This will display the insulin structure, showing its two chains.\n",
    "\n",
    "#### **Step 2: Visualize Disulfide Bonds**\n",
    "1. Highlight disulfide bonds by navigating to the *S menu* in PyMOL and selecting (the option for selecting disulfide is at the bottom of the selection menu):<br>\n",
    "     ` S > Disulfide > Lines`\n",
    "   - This will display the *disulfide bonds* as lines connecting sulfur atoms between the two chains.\n",
    "   \n",
    "2. Rotate and zoom the visualized structure to observe how the disulfide bonds link specific residues in the two chains.\n",
    "\n",
    "#### **Step 3: Analyze the Stabilization**\n",
    "1. Observe that the disulfide bonds form *covalent links* between sulfur atoms of cysteine residues, one on each chain.\n",
    "2. Note that these disulfide bonds stabilize the insulin molecule by holding the two chains together in a fixed orientation.\n",
    "3. Disulfide bonds are essential for the functional conformation of insulin because they ensure the protein remains stable under physiological conditions, enabling proper interaction with insulin receptors."
   ]
  },
  {
   "cell_type": "markdown",
   "metadata": {
    "id": "lK74-SZAjlUI"
   },
   "source": [
    "#### ❓ **Additional Discussion Questions**\n",
    "Click through the flashcards below to explore additional questions about disulfide bonds."
   ]
  },
  {
   "cell_type": "code",
   "execution_count": null,
   "metadata": {
    "id": "nJq-CwJKjlUI",
    "tags": []
   },
   "outputs": [],
   "source": [
    "#Render flashcards\n",
    "from IPython.display import IFrame\n",
    "IFrame('quiz/question_flashcards_1.1.4.html', width=600, height=500)"
   ]
  },
  {
   "cell_type": "markdown",
   "metadata": {
    "id": "AnsU1wHHjlUL"
   },
   "source": [
    "------------------\n",
    "### 🌟 **Activity 5: Understanding the Heme Group Binding Pocket in Hemoglobin**\n",
    "\n",
    "### **Objective:**  \n",
    "To explore the *heme group binding pocket* in hemoglobin using the PyMOL visualization tool.\n",
    "\n",
    "### **Steps to Perform the Activity**\n",
    "\n",
    "#### **Step 1: Load the Hemoglobin Structure**\n",
    "1. Fetch the PDB File using the following PyMOL command to retrieve the hemoglobin structure:<br>\n",
    "     `PyMol> fetch 3BCQ`\n",
    "\n",
    "2. Display the hemoglobin sequence (at the top of the PyMOL interface) by navigating to:<br>\n",
    "     `PyMol> Display > Sequence`\n",
    "\n",
    "#### **Step 2: Isolate Chain A with the Heme Group**\n",
    "1. Run the following commands to remove Chains B, C, and D:<br>\n",
    "     `PyMol> select b_chain, chain B`<br>\n",
    "     `PyMol> remove b_chain`<br>\n",
    "     `PyMol> select c_chain, chain C`<br>\n",
    "     `PyMol> remove c_chain`<br>\n",
    "     `PyMol> select d_chain, chain D`<br>\n",
    "     `PyMol> remove d_chain`\n",
    "\n",
    "2. Select water molecules (shown as red 0s in the sequence) and delete them:<br>\n",
    "     `PyMol> select water, resn HOH`<br>\n",
    "     `PyMol> remove water`\n",
    "\n",
    "3. Select and remove *HEME* and *oxygen molecules* that are not associated with the protein:<br>\n",
    "         `PyMol> select free_heme, resn HEM and not (byres chain A around 5)`<br>\n",
    "         `PyMol> remove free_heme`<br>\n",
    "         `PyMol> select free_oxygen, resn O2 and not within 5 of chain A`<br>\n",
    "         `PyMol> remove free_oxygen`<br>\n",
    "\n",
    "### **Alternative Method for Activity 4 - Write and Load PML Script**"
   ]
  },
  {
   "cell_type": "code",
   "execution_count": null,
   "metadata": {},
   "outputs": [],
   "source": [
    "#### Alternative\n",
    "# PML Script: Hemoglobin binding pocket analysis\n",
    "## Run this code cell to write the .pml script file and execute the analysis outlined step-by-step above.\n",
    "## Once you write the file, it can be run in the PyMOL GUI in one of two ways:\n",
    "##    1. Select File > Run Script and then the pml script within PyMOL -or-\n",
    "##    2. Set your directory to the folder and then run: pymol> @helix_analysis.pml\n",
    "\n",
    "with open(\"/home/jupyter/Structural-Biology-and-Drug-Discovery/submodule1_protein_structure/pml_scripts/activity5.pml\", \"w\") as scriptout:\n",
    "    scriptout.write(\"# Step 1: Load Hemoglobin Structure\\n\")\n",
    "    scriptout.write(\"fetch 3bcq\\n\")  #  PDB file\n",
    "    scriptout.write(\"# Step 2: Isolate Chain A With Heme Group\\n\")\n",
    "    scriptout.write(\"select b_chain, chain B\\n\")\n",
    "    scriptout.write(\"remove b_chain\\n\")\n",
    "    scriptout.write(\"select c_chain, chain C\\n\")\n",
    "    scriptout.write(\"remove c_chain\\n\")\n",
    "    scriptout.write(\"select d_chain, chain D\\n\")\n",
    "    scriptout.write(\"remove d_chain\\n\")\n",
    "    scriptout.write(\"select water, resn HOH\\n\")\n",
    "    scriptout.write(\"remove water\\n\")\n",
    "\n",
    "    scriptout.write(\"select free_heme, resn HEM and not (byres chain A around 5)\\n\")\n",
    "    scriptout.write(\"remove free_heme\\n\")\n",
    "    scriptout.write(\"select free_oxygen, resn O2 and not within 5 of chain A\\n\")\n",
    "    scriptout.write(\"remove free_oxygen\\n\")\n",
    "\n",
    "print(\"PML script 'activity5.pml' has been updated. Run it in PyMOL to perform the analysis.\")\n"
   ]
  },
  {
   "cell_type": "markdown",
   "metadata": {},
   "source": [
    "#### **Step 3: Analyze the Binding Pocket**\n",
    "1. For the resulting structure, only the *A chain* of hemoglobin with its bound *heme* group and *oxygen* should be displayed.\n",
    "2. Explore the Heme Binding Pocket by rotating and zooming into the heme group to observe:\n",
    "     - How the *heme group* is embedded within the protein structure.\n",
    "     - The *interactions* between the *heme group* and surrounding amino acid residues."
   ]
  },
  {
   "cell_type": "markdown",
   "metadata": {
    "id": "ZhG7fwW8jlUN"
   },
   "source": [
    "---------------\n",
    "## Conclusions\n",
    "Upon completing this module, users should be able to analyze the primary, secondary, tertiary, and quaternary protein structures in detail. Users should be able to run the scripts and use PyMol in GUI and command mode. They should be able to identify and analyze non-covalent interaction involved in stabilizing the protein structure, such as hydrogen bonding and hydrophobic interactions analysis. With this training users will be ready to analyse protein structure for the design of drugs.\n",
    "## Clean Up\n",
    "<div class=\"alert alert-block alert-warning\"> <b>Attention:</b> Remember to shutdown VM and delete any relevant resources</a>. </div>"
   ]
  },
  {
   "cell_type": "code",
   "execution_count": null,
   "metadata": {
    "id": "2cTY9-X6AL7R"
   },
   "outputs": [],
   "source": []
  }
 ],
 "metadata": {
  "colab": {
   "provenance": []
  },
  "environment": {
   "kernel": "conda-base-py",
   "name": "workbench-notebooks.m126",
   "type": "gcloud",
   "uri": "us-docker.pkg.dev/deeplearning-platform-release/gcr.io/workbench-notebooks:m126"
  },
  "kernelspec": {
   "display_name": "Python 3 (ipykernel) (Local)",
   "language": "python",
   "name": "conda-base-py"
  },
  "language_info": {
   "codemirror_mode": {
    "name": "ipython",
    "version": 3
   },
   "file_extension": ".py",
   "mimetype": "text/x-python",
   "name": "python",
   "nbconvert_exporter": "python",
   "pygments_lexer": "ipython3",
   "version": "3.10.15"
  }
 },
 "nbformat": 4,
 "nbformat_minor": 4
}
