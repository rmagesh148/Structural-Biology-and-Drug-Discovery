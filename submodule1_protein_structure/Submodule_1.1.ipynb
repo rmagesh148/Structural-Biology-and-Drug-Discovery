{
 "cells": [
  {
   "cell_type": "markdown",
   "metadata": {
    "id": "o2XtHqjYjlTL",
    "tags": []
   },
   "source": [
    "# **Submodule 1.1 - Protein Basics**\n",
    "\n",
    "## **Learning Objectives:**\n",
    "*   To visualize the 3D structure of proteins and describe the details of secondary, tertiary, and quaternary structures.\n",
    "*   To compare protein sequences and explain the similarity in protein sequences. To model the 3D structure of proteins based on homology modeling. To analyze the quality of protein structure generated from modeling tools\n",
    "*   To analyze the interface of protein-protein interactions by visualization of protein surfaces between the two interacting proteins. Find the secondary structure elements responsible for holding the ligand and the receptor proteins. Analyze the protein surfaces for charge and hydrophobicity using 3D structure tools.\n",
    "*   Using web-based tools to identify the hot spots in protein surfaces suitable for binding to hydrophobic, hydrophilic, or lipophilic molecules.\n",
    "\n",
    "## **Prerequisites:**\n",
    "1. Familiarity with Python syntax and basic programming concepts.\n",
    "2. Basic understanding of using Biopython for sequence analysis and PDB file parsing.\n",
    "3. Basic knowledge of PDB file formats and how to access and interpret them.\n",
    "4. Basic knowledge of molecular visualization techniques and interpreting 3D protein structures.\n",
    "\n",
    "## **Introduction**\n",
    "This module serves as an introductory module for drug design, and any undergraduate student can use this module to learn the protein structure. The module starts with the learning of basic protein structure in detail from primary, secondary, tertiary, and quaternary structures with examples and also provides the physicochemical basis of principles of protein 3D structure. Each part involves examples and tutorials using visualization software. To test the user’s knowledge, assignments are provided, and users can utilize the tutorial they go through to solve the assignment problem. Public online software’s for protein sequence analysis such as Uniprot, a protein data bank is used for analysis. Visualization can be done by Chimera or Pymol software. 3D visualization also involves binding site analysis of different protein-drug interactions and comparison of binding sites of different proteins. For proteins that do not have any 3D structures, experimental data such as secondary structure data is used to analyze the structure and a prediction is performed using homology modeling using Colab Alpha Fold.\n",
    "\n",
    "\n",
    "<center><img src=\"images/Protein_Structure_Summary.png\" width=800 /></center><br><br>"
   ]
  },
  {
   "cell_type": "markdown",
   "metadata": {
    "id": "Ku9QL8IjK7hG"
   },
   "source": [
    "## **Why Study Protein Structure for Drug Design?**\n",
    "Proteins are essential biological macromolecules, human cells are estimated to contain approximately 50,000 types of proteins facilitating various biological and physiological functions.The drug discovery process often focuses on specific protein structures like G-protein coupled receptors (GPCRs), enzymes, and ion channels. Each target class presents unique binding sites for drug molecules, and understanding the 3D structure allows scientists to design drugs that can specifically bind and modulate these proteins. Bellow is the breakdown of the frequency for the different drug targets:\n",
    "* **G-protein-coupled receptors (GPCRs):** 33% of drug targets\n",
    "* **Nuclear receptors:** 16% of drug targets\n",
    "* **Enzymes and kinases:** 30% of drug targets\n",
    "* **Ion channels and transporter proteins:** 18% of drug targets\n",
    "* **Other targets (e.g., DNA and miscellaneous):** 3%\n",
    "\n",
    "The high proportion of protein targets emphasizes the importance of understanding protein structure for designing effective drugs. Examples include the development of kinase inhibitors used in cancer therapy and beta-blockers that target GPCRs.\n"
   ]
  },
  {
   "cell_type": "markdown",
   "metadata": {
    "id": "3J0DhTsJjlTd"
   },
   "source": [
    "## **Amino Acids**\n",
    "Amino acids are the monomers of proteins, linked by peptide bonds to form long chains. They play a crucial role in determining the shape and function of the protein. The unique side chains (R-groups) of amino acids define their chemical properties (hydrophobic, hydrophilic, charged, or neutral), which in turn influence how a protein folds into its final structure. The chirality of amino acids (except glycine) also plays a role in how they interact with other molecules. There are 20 standard amino acids, each with distinct properties defined by their R-groups: <br>\n",
    "<center><img src=\"images/Amino_Acids.png\" width=800 /></center><br><br>\n",
    "    \n",
    "- **Nonpolar (Hydrophobic):** e.g., leucine, valine, and isoleucine, which prefer to be buried inside the protein away from water.\n",
    "- **Polar (Uncharged):** e.g., serine, threonine, and asparagine, which can form hydrogen bonds and are often found on the protein surface.\n",
    "- **Positively Charged (Basic):** e.g., lysine, arginine, and histidine, which participate in ionic interactions.\n",
    "- **Negatively Charged (Acidic):** e.g., aspartic acid and glutamic acid, which also engage in ionic bonds.\n",
    "- **Aromatic:** e.g., phenylalanine, tyrosine, and tryptophan, which can participate in hydrophobic and π-π interactions.\n",
    "\n",
    "These properties influence how amino acids interact with each other and how the overall protein folds and functions.\n",
    "\n",
    "Peptide Bonds and Protein Formation: Peptide bonds are formed through a condensation reaction between the carboxyl group of one amino acid and the amino group of another, releasing water. These bonds have partial double-bond character due to resonance, which restricts rotation and gives the peptide bond a planar configuration. This planarity is key in the formation of secondary structures like alpha helices and beta sheets. Proteins can be described using one-letter and three-letter abbreviations of amino acids, making sequence notation more compact for analysis.\n",
    "\n",
    "<center><img src=\"images/AA_Condensation.png\" width=600 /></center><br><br>\n",
    "\n",
    "Each amino acid has an α-carbon atom (see Figure below) as a backbone atom. R-group or side chain carbons are labeled by Greek alphabets starting from α carbon atom.\n"
   ]
  },
  {
   "cell_type": "markdown",
   "metadata": {
    "id": "uUvaGVi8jlTe"
   },
   "source": [
    "## **Protein Primary Structure**\n",
    "Refers to the linear sequence of amino acids in a polypeptide chain. The sequence is encoded by genes and ultimately determines the 3D structure and function of the protein. To give an example we will pull the sequence from the protein data bank and display the amino acid length and sequence.\n"
   ]
  },
  {
   "cell_type": "code",
   "execution_count": null,
   "metadata": {},
   "outputs": [],
   "source": [
    "%pip install biopython --quiet"
   ]
  },
  {
   "cell_type": "code",
   "execution_count": null,
   "metadata": {
    "id": "-m-eBB-5jlTf"
   },
   "outputs": [],
   "source": [
    "from Bio import SeqIO, Entrez\n",
    "\n",
    "# Fetch protein sequence from NCBI\n",
    "def fetch_protein_sequence(accession):\n",
    "    handle = Entrez.efetch(db=\"protein\", id=accession, rettype=\"fasta\", retmode=\"text\")\n",
    "    seq_record = SeqIO.read(handle, \"fasta\")\n",
    "    handle.close()\n",
    "    return seq_record\n",
    "\n",
    "accession = \"YP_009724390.1\"  # Example accession number\n",
    "protein_seq_record = fetch_protein_sequence(accession)\n",
    "\n",
    "# Print sequence and basic properties\n",
    "print(f\"Sequence ID: {protein_seq_record.id}\")\n",
    "print(f\"Sequence Length: {len(protein_seq_record.seq)}\")\n",
    "print(f\"Sequence: {protein_seq_record.seq}\")"
   ]
  },
  {
   "cell_type": "markdown",
   "metadata": {
    "id": "TiqrY5M8jlTj"
   },
   "source": [
    "## **Protein Secondary Structure**\n",
    "Localised folding patterns within a protein, such as alpha helices and beta sheets, stabilised by hydrogen bonds. These structures serve as building blocks for the protein's overall shape. Three important secondary structures are the Alpha-Helix, Beta-Sheet, and Beta-Turn.\n",
    "\n",
    "### **Alpha Helix**\n",
    "The alpha-helix is a coiled structure with the backbone at the center and the sidechains spread our from the helical structure. The helix is usually a right handed-coil and is stabalized by the hydrogen bonds between the backbone N-H group of one amino acid and the C=O group four residues earlier. The alpha-helix is a common structural motif found in many proteins, including enzymes and transport proteins.\n",
    "\n",
    "### **Beta Sheet**\n",
    "Beta sheets are fundamental secondary structure elements consisting of adjacent polypeptide strands connected by hydrogen bonds. These strands can run either parallel (same direction) or antiparallel (opposite directions), creating a pleated sheet-like structure. The hydrogen bonds form between the C=O group of one strand and the N-H group of an adjacent strand, creating a stable, rigid structure.\n",
    "\n",
    "### **Beta turn**\n",
    "Beta turns (β-turns) are essential structural elements that allow the polypeptide chain to change direction, often connecting adjacent strands in antiparallel beta sheets. These turns typically consist of four amino acid residues, with specific amino acids like proline and glycine commonly found in these positions due to their unique structural properties. The first and fourth residues of the turn are connected by a characteristic hydrogen bond, stabilizing the turn structure."
   ]
  },
  {
   "cell_type": "code",
   "execution_count": null,
   "metadata": {
    "id": "X4i5WbKNjlTm",
    "tags": []
   },
   "outputs": [],
   "source": [
    "!pip install -q py3Dmol"
   ]
  },
  {
   "cell_type": "code",
   "execution_count": null,
   "metadata": {
    "id": "RoQ7oj8XjlTq",
    "tags": []
   },
   "outputs": [],
   "source": [
    "import py3Dmol\n",
    "from IPython.display import display\n",
    "\n",
    "def show_protein(pdbid):\n",
    "    # Create viewer\n",
    "    view = py3Dmol.view(query=pdbid)\n",
    "    view.setStyle({'cartoon': {'color': 'spectrum'}})\n",
    "    view.show()"
   ]
  },
  {
   "cell_type": "code",
   "execution_count": null,
   "metadata": {
    "tags": []
   },
   "outputs": [],
   "source": [
    "#Run show_protein function to visualize three proteins below\n",
    "print(\"Protein ID: 1ZTA\")\n",
    "show_protein(\"1ZTA\")\n",
    "print(\"Protein ID: 6D0T\")\n",
    "show_protein(\"6D0T\")\n",
    "print(\"Protein ID: 1LE1\")\n",
    "show_protein(\"1LE1\")"
   ]
  },
  {
   "cell_type": "markdown",
   "metadata": {
    "id": "M6K7X0VbjlT6"
   },
   "source": [
    "## **Protein Tertiary Structure**\n",
    "The overall 3D arrangement of the entire polypeptide chain, formed through interactions between side chains, including hydrophobic interactions, hydrogen bonds, ionic bonds, and disulfide bridges. Side chains (R-groups) play a crucial role in protein folding and stability. They participate in interactions such as:\n",
    "* Hydrogen bonds between polar side chains.\n",
    "* Ionic interactions (salt bridges) between positively and negatively charged residues.\n",
    "* Hydrophobic interactions, where nonpolar side chains aggregate in the interior of the protein, away from the aqueous environment.\n",
    "* Disulfide bridges between cysteine residues, providing covalent stabilization.\n",
    "\n",
    "These interactions collectively determine the protein's final structure and function.\n",
    "\n",
    "<center><img src=\"images/Tertiary_Structures.png\" width=800 /></center><br><br>\n",
    "\n",
    "\n",
    "In addition to side chain interactions, tertiary structure encompasses recurring combinations of secondary structure elements that form distinct architectural motifs. These modular building blocks are fundamental to protein function and stability. The Beta-Alpha-Beta (βαβ) motif, consisting of two parallel β-strands connected by an α-helix, is commonly found in nucleotide-binding proteins, with the Rossmann fold being a classic example. Another prevalent arrangement is the Alpha/Beta (α/β) barrel, also known as the TIM barrel, which features eight parallel β-strands surrounded by eight α-helices. This versatile structure often houses enzymatic active sites at the C-terminal end of the β-strands."
   ]
  },
  {
   "cell_type": "markdown",
   "metadata": {
    "id": "33CO82SyjlT7"
   },
   "source": [
    "## **Protein Quaternary Structure**\n",
    "Quaternary structure represents the highest level of protein organization, describing how multiple protein subunits (polypeptide chains) come together to form a functional protein complex. This structure is crucial for many proteins to perform their biological functions. (e.g., hemoglobin consists of four subunits) The assembly of subunits can be either homologous (identical subunits) or heterologous (different subunits), each serving specific biological functions."
   ]
  },
  {
   "cell_type": "code",
   "execution_count": null,
   "metadata": {
    "id": "TQQ_VVijjlT8",
    "tags": []
   },
   "outputs": [],
   "source": [
    "# Py3dmol for Hemoglobin\n",
    "view = py3Dmol.view(query='3bcq')\n",
    "view.setStyle({'cartoon': {'color': 'spectrum'}})\n",
    "view.addStyle({'resn': 'HEM'}, {'stick': {'colorscheme': 'Jmol'}})\n",
    "view.show()"
   ]
  },
  {
   "cell_type": "markdown",
   "metadata": {
    "id": "WU_icmpAjlT-"
   },
   "source": [
    "---------------\n",
    "# 📊 Tutorials\n",
    "In these tutorials, we will use the PyMOL to work through <u>**five**</u> applied activities to:\n",
    "- Understand Helical stabalization\n",
    "- Understand beta sheet stabilization\n",
    "- Understand beta turn stabilization\n",
    "- Understand disulfide stabilization and its role in insulin\n",
    "- Analyze tertiary and quartenary structure of hemoglobin\n",
    "\n",
    "## Before you begin:\n",
    "- Run the PyMOL GUI by following the directions provided in the Submodule 0 notebook, provided here: [pymol_notebook](../submodule0_pymol_setup/pymol_notebook.ipynb)\n"
   ]
  },
  {
   "cell_type": "code",
   "execution_count": null,
   "metadata": {
    "tags": []
   },
   "outputs": [],
   "source": [
    "#should print out directory current directory that ends with `submodule1_protein_structure`\n",
    "!pwd"
   ]
  },
  {
   "cell_type": "code",
   "execution_count": null,
   "metadata": {
    "tags": []
   },
   "outputs": [],
   "source": [
    "#make pml_script output directory\n",
    "!mkdir /home/jupyter/Structural-Biology-and-Drug-Discovery/submodule1_protein_structure/pml_scripts"
   ]
  },
  {
   "cell_type": "code",
   "execution_count": null,
   "metadata": {
    "tags": []
   },
   "outputs": [],
   "source": [
    "#enables write access from GUI to subfolders within `submodule1_protein_structure`\n",
    "!chmod -R 777 . "
   ]
  },
  {
   "cell_type": "markdown",
   "metadata": {
    "id": "LGa7ozTqjlT_"
   },
   "source": [
    "## 🌟 **Activity 1: Visualizing Hydrogen Bonding and Stabilization of Helical Structure**\n",
    "\n",
    "### **Objective:**  \n",
    "To visualize *hydrogen bonding* and understand the stabilization pattern of a helical structure using PyMOL.\n",
    "\n",
    "### **Steps to Perform the Activity**\n",
    "\n",
    "#### **Step 1: Prepare the PDB File**\n",
    "1. Load the File in using the PyMOL GUI by accessing the menu and navigating to:  \n",
    "    `File > Open > data > helix.pdb`\n",
    "    \n",
    "2. If the molecule is displayed with a cartoon helical structure<br>\n",
    "    `PyMol>hide cartoon`<br>\n",
    "    `PyMol>show lines`\n",
    "    \n",
    "Hydrogen bond interaction table can be generated using the following:\n",
    "https://psa-lab.github.io/HbindViz/user_guide/  \n",
    "\n",
    "\n",
    "#### **Step 2: Display the Protein Sequence**\n",
    "1. To show sequence navigate to:<br>\n",
    "     `Display > Sequence`\n",
    "   - The *protein sequence* will appear at the top of the PyMOL interface.\n",
    "\n",
    "2. Select the specific sequence by using the *left mouse button* to select a region of the sequence displayed at the top.\n",
    "\n",
    "#### **Step 3: Highlight Hydrogen Bonds**\n",
    "1. Find Polar Contacts with the selected sequence by navigating to: <br>  \n",
    "    `Sele > Action > Find > Polar Contacts > Within Selection` <br>\n",
    "   - This will highlight the *hydrogen bonds* (yellow lines) within the selection.\n",
    "\n",
    "2. Label the residues by navigating to:  <br>\n",
    "     `Sele > Label > Residues`  \n",
    "   - The labels of the residues will now appear.\n",
    "\n",
    "#### **Step 4: Visualize and Analyze the Structure**\n",
    "1. Adjust the zoom to observe the *yellow lines* representing hydrogen bonds.\n",
    "\n",
    "### **Alternative Method for Activity 1 - Write and Load PML Script**"
   ]
  },
  {
   "cell_type": "code",
   "execution_count": null,
   "metadata": {
    "colab": {
     "base_uri": "https://localhost:8080/"
    },
    "executionInfo": {
     "elapsed": 394,
     "status": "ok",
     "timestamp": 1737451576313,
     "user": {
      "displayName": "LBRN LSU",
      "userId": "10341435109704356172"
     },
     "user_tz": -330
    },
    "id": "hP0E3A_2HUca",
    "outputId": "530853f7-cf12-41a0-85ae-806d209facf9",
    "tags": []
   },
   "outputs": [],
   "source": [
    "# PML Script: Protein Hydrogen Bond Analysis\n",
    "## Run this code cell to write the .pml script file and execute the analysis outlined step-by-step above.\n",
    "## Once you write the file, it can be run in the PyMOL GUI in one of two ways:\n",
    "##    1. Select File > Run Script and then the pml script within PyMOL -or-\n",
    "##    2. Set your directory to the folder and then run: pymol> @helix_analysis.pml\n",
    "\n",
    "with open(\"/home/jupyter/Structural-Biology-and-Drug-Discovery/submodule1_protein_structure/pml_scripts/helix_analysis.pml\", \"w\") as scriptout:\n",
    "    scriptout.write(\"# Step 1: Prepare the PDB File\\n\")\n",
    "    scriptout.write(\"load /home/jupyter/Structural-Biology-and-Drug-Discovery/submodule1_protein_structure/data/helix.pdb\\n\")  # Load the helix PDB file\n",
    "\n",
    "    scriptout.write(\"# Hide cartoon representation and show lines\\n\")\n",
    "    scriptout.write(\"hide cartoon\\n\")\n",
    "    scriptout.write(\"show lines\\n\")\n",
    "\n",
    "    scriptout.write(\"# Step 2: Display the Protein Sequence\\n\")\n",
    "    scriptout.write(\"set seq_view, on\\n\")  # Enable sequence display at the top of the interface\n",
    "\n",
    "    scriptout.write(\"# Step 3: Highlight Hydrogen Bonds\\n\")\n",
    "    scriptout.write(\"select helix_region, resi 10-20\\n\")  # Example selection, modify based on actual sequence\n",
    "    scriptout.write(\"select polar_contacts, (helix_region) and (byres helix_region expand 3) and hydro\\n\")\n",
    "\n",
    "    scriptout.write(\"# Find polar contacts within the selected region\\n\")\n",
    "    scriptout.write(\"distance hbonds, (helix_region), (byres helix_region expand 3), mode=2\\n\")\n",
    "\n",
    "    scriptout.write(\"# Label the residues involved in hydrogen bonding\\n\")\n",
    "    scriptout.write(\"label helix_region, resn + resi\\n\")\n",
    "\n",
    "    scriptout.write(\"# Adjust the label size for better visibility\\n\")\n",
    "    scriptout.write(\"set label_size, 20\\n\")\n",
    "\n",
    "    scriptout.write(\"# Final step: Zoom into the selected region for better visualization\\n\")\n",
    "    scriptout.write(\"zoom helix_region\\n\")\n",
    "\n",
    "print(\"PML script 'helix_analysis.pml' has been created. Run it in PyMOL to perform the analysis.\")"
   ]
  },
  {
   "cell_type": "markdown",
   "metadata": {
    "id": "51dSAHVCAiWw"
   },
   "source": [
    "### **Key Observations and Understanding the Visualization**\n",
    "\n",
    "- **Hydrogen Bonds (Yellow Lines):**  \n",
    "  - Notice that *Trp14 NH* forms a hydrogen bond with *Ile10 C=O*, following an *i to i+4 pattern*, where `i` represents the first residue (*Ile10*) and *Trp14* is *4 residues away*.  \n",
    "  - Similarly, *Phe13 C=O* is hydrogen bonded to *Ile17 NH*, which stabilizes the helical structure.  \n",
    "  - These hydrogen bonds play a crucial role in maintaining the integrity of the alpha-helix.\n",
    "\n",
    "- **Residue Labeling:**  \n",
    "  - Labels help identify specific residues involved in hydrogen bonding, facilitating a better understanding of their interactions.\n",
    "\n",
    "- **Helical Backbone and Side Chains:**  \n",
    "  - The *backbone* is positioned at the center of the helix, providing the structural core.  \n",
    "  - The *side chains* extend outward, ensuring space for interactions and functionality in the tertiary structure, further contributing to overall stability.  \n",
    "  - This outward orientation supports the structural and functional properties of the protein.\n"
   ]
  },
  {
   "cell_type": "markdown",
   "metadata": {
    "id": "S7kpym6cjlUA"
   },
   "source": [
    "--------------\n",
    "## 🌟 **Activity 2: Visualizing the Hydrogen Bonding Pattern in a Beta-Sheet Structure**\n",
    "\n",
    "### **Objective:**  \n",
    "To visualize the **hydrogen bonding pattern** that stabilizes a **beta-sheet structure** (secondary protein structure) using PyMOL.\n",
    "\n",
    "#### **Beta Sheet Structures:**\n",
    "* <u>Parallel</u>: Strands run in the same direction, resulting in weaker hydrogen bonds due to a non-linear alignment.\n",
    "* <u>Antiparallel</u>: Strands run in opposite directions, leading to stronger, more linear hydrogen bonds."
   ]
  },
  {
   "cell_type": "code",
   "execution_count": null,
   "metadata": {
    "id": "zSBdv7OSjlUB",
    "tags": []
   },
   "outputs": [],
   "source": [
    "#Run the show_protein function defined above (make sure you ran the cell to create the function) to visualize `6D0T` protein again\n",
    "show_protein(\"6D0T\")"
   ]
  },
  {
   "cell_type": "markdown",
   "metadata": {
    "id": "2AhV99lSjlUD"
   },
   "source": [
    "### **Steps to Perform the Activity**\n",
    "\n",
    "#### **Step 1: Load the Protein with a Beta-Sheet Structure**\n",
    "1. Fetch protein structure PDB file using the `fetch` PyMOL command:<br>\n",
    "     `PyMol> fetch 5GV0`\n",
    "\n",
    "#### **Step 2: Display the Protein Sequence**\n",
    "1. Display the protein sequence (top of the PyMOL interface) by using the PyMOL GUI to navigate to:  \n",
    "     `Display > Sequence`\n",
    "\n",
    "2. Select only the beta-sheet portion of the protein sequence using the *left mouse button*.\n",
    "   \n",
    "3. Hide all unselected sequence portions:\n",
    "     `PyMol> hide unselected`\n",
    "\n",
    "#### **Step 3: Highlight Hydrogen Bonds**\n",
    "1. With the protein sequence selected, find the polar contacts by navigating and selecting the following option:  \n",
    "    `Sele > Action > Find > Polar Contacts > Within Selection`\n",
    "   - The *hydrogen bonds* (yellow lines) should now be displayed.\n",
    "   \n",
    "### **Beta-Sheet Hydrogen Bonding: Key Characteristics and Visualization**\n",
    "\n",
    "- **Hydrogen Bonds (Yellow Lines):** The beta-sheet structure is stabilized by hydrogen bonds that connect the backbone atoms of neighboring strands.These bonds are arranged in a **ladder-like pattern**, running parallel between adjacent strands, providing structural integrity.\n",
    "\n",
    "- **Inter-chain Hydrogen Bonds:** Hydrogen bonds form between adjacent chains of the beta-sheet, contributing to overall stability and rigidity.\n",
    "\n",
    "- **Structural Stabilization:** The arrangement of hydrogen bonds ensures the beta-sheet remains a stable, functional component of the protein structure.\n"
   ]
  },
  {
   "cell_type": "code",
   "execution_count": null,
   "metadata": {
    "id": "YojvNnuwjlUF",
    "tags": []
   },
   "outputs": [],
   "source": [
    "# Run the show_protein function defined above (make sure you ran the cell to create the function) to visualize `1LE1` protein again\n",
    "show_protein(\"1LE1\")"
   ]
  },
  {
   "cell_type": "markdown",
   "metadata": {
    "id": "g6gqFQi6jlUG"
   },
   "source": [
    "---------------------------\n",
    "## 🌟 **Activity 3: Visualizing the Beta-Turn in a Protein Structure**\n",
    "\n",
    "### **Objective:**  \n",
    "To identify and visualize a **beta-turn** structure in the hemoglobin protein using PyMOL.\n",
    "\n",
    "#### Beta-Turn:\n",
    "A tight loop that allows the polypeptide chain to reverse direction. Beta-turns are stabilised by hydrogen bonds and are often located on the protein surface, helping proteins form compact shapes.\n",
    "\n",
    "<center><img src=\"images/beta_turn.png\" width=600 /><br><br></center>\n",
    "\n",
    "### **Steps to Perform the Activity**\n",
    "\n",
    "#### **Step 1: Load the Hemoglobin Protein Structure**\n",
    "1. Fetch the hemoglobin structure PDB file:<br>\n",
    "     `PyMol> fetch 3BCQ`\n",
    "\n",
    "#### **Step 2: Simplify the Structure**\n",
    "1. Remove chains *B, C, and D* to focus on chain *A*:<br>\n",
    "     `PyMol> remove chain B+C+D`\n",
    "\n",
    "2. Delete Residues Outside the Range of Interest by removing residues *1 to 30* and *71 to the end*:\n",
    "     `PyMol> remove resi 1-30` <br>\n",
    "     `PyMol> remove resi 71-999`\n",
    "\n",
    "#### **Step 3: Focus on the Beta-Turn**\n",
    "1. The loop structure from residues *44 to 53* contains the beta-turn between two helices. In this step select the key residues in the Beta-Turn (residues *50, 51, 52, and 53*):<br>\n",
    "     `PyMol> select resi 50+51+52+53`\n",
    "\n",
    "3. Set the display mode to *sticks* for the selected residues to display the Beta-Turn in Stick Representation:<br>\n",
    "     `PyMol> show sticks, sele`\n",
    "\n",
    "4. Add labels to the selected residues:<br>\n",
    "     `PyMol> label sele, resn+resi`\n",
    "   \n",
    "### **Beta-Turn: Key Characteristics and Visualization**\n",
    "\n",
    "- **Beta-Turn Structure:** The residues *Ser50, Pro51, Gly52, Ser53* form a beta-turn, which enables a sharp directional change in the protein chain between two helices. This structure ensures the protein retains its compact and functional shape.\n",
    "\n",
    "- **Structural Stabilization:** Beta-turns provide stability by maintaining the tight folding necessary for protein functionality.\n",
    "\n",
    "- **Beta-Turn Residues:**\n",
    "The selected residues (*Ser50-Pro51-Gly52-Ser53*) stabilize the corner structure of the protein. **Functional Role:** This turn connects helices, contributing to the overall compact architecture of the hemoglobin molecule.\n"
   ]
  },
  {
   "cell_type": "markdown",
   "metadata": {
    "id": "SY1q3I12jlUH"
   },
   "source": [
    "-------------\n",
    "## 🌟 **Activity 4: How Disulfide Bonds Stabilize Two Chains of Insulin**\n",
    "Disulfide bonds are formed by the oxidation of two cysteine residues, creating a covalent bond that stabilizes protein structure. For example, with insulin disulfide bonds link two polypeptide chains, contributing to its quaternary structure. In antibodies, disulfide bonds provide flexibility in the hinge region, facilitating antigen binding.\n",
    "\n",
    "### **Objective:**  \n",
    "To visualize and understand the role of **disulfide bonds** in stabilizing the two chains of insulin using PyMOL.\n",
    "\n",
    "### **Steps to Perform the Activity**\n",
    "\n",
    "#### **Step 1: Load the Insulin Structure**\n",
    "1. Fetch the PDB File to retrieve the insulin structure:<br>\n",
    "     `PyMol> fetch 3I3Z`\n",
    "   - This will display the insulin structure, showing its two chains.\n",
    "\n",
    "#### **Step 2: Visualize Disulfide Bonds**\n",
    "1. Highlight disulfide bonds by navigating to the *S menu* in PyMOL and selecting:<br>\n",
    "     ` S > Disulfide > Lines`\n",
    "   - This will display the *disulfide bonds* as lines connecting sulfur atoms between the two chains.\n",
    "   \n",
    "2. Rotate and zoom the visualized structure to observe how the disulfide bonds link specific residues in the two chains.\n",
    "\n",
    "#### **Step 3: Analyze the Stabilization**\n",
    "1. Observe that the disulfide bonds form *covalent links* between sulfur atoms of cysteine residues, one on each chain.\n",
    "2. Note that these disulfide bonds stabilize the insulin molecule by holding the two chains together in a fixed orientation.\n",
    "3. Disulfide bonds are essential for the functional conformation of insulin because they ensure the protein remains stable under physiological conditions, enabling proper interaction with insulin receptors."
   ]
  },
  {
   "cell_type": "markdown",
   "metadata": {
    "id": "lK74-SZAjlUI"
   },
   "source": [
    "#### ❓ **Additional Discussion Questions**\n",
    "Click through the flashcards below to explore additional questions about disulfide bonds."
   ]
  },
  {
   "cell_type": "code",
   "execution_count": null,
   "metadata": {
    "id": "nJq-CwJKjlUI",
    "outputId": "a47368ef-0cf3-45e1-ff52-3846f7bb59d4",
    "tags": []
   },
   "outputs": [],
   "source": [
    "#Render flashcards\n",
    "from IPython.display import IFrame\n",
    "IFrame('quiz/question_flashcards_1.1.4.html', width=600, height=500)"
   ]
  },
  {
   "cell_type": "markdown",
   "metadata": {
    "id": "AnsU1wHHjlUL"
   },
   "source": [
    "------------------\n",
    "### 🌟 **Activity 5: Understanding the Heme Group Binding Pocket in Hemoglobin**\n",
    "\n",
    "### **Objective:**  \n",
    "To explore the *heme group binding pocket* in hemoglobin using the PyMOL visualization tool.\n",
    "\n",
    "### **Steps to Perform the Activity**\n",
    "\n",
    "#### **Step 1: Load the Hemoglobin Structure**\n",
    "1. Fetch the PDB File using the following PyMOL command to retrieve the hemoglobin structure:<br>\n",
    "     `PyMol> fetch 3BCQ`\n",
    "\n",
    "2. Display the hemoglobin sequence (at the top of the PyMOL interface) by navigating to:<br>\n",
    "     `PyMol> Display > Sequence`\n",
    "\n",
    "#### **Step 2: Isolate Chain A with the Heme Group**\n",
    "1. Run the following commands to remove Chains B, C, and D:<br>\n",
    "     `PyMol> select b_chain, chain B`<br>\n",
    "     `PyMol> remove b_chain`<br>\n",
    "     `PyMol> select c_chain, chain C`<br>\n",
    "     `PyMol> remove c_chain`<br>\n",
    "     `PyMol> select d_chain, chain D`<br>\n",
    "     `PyMol> remove d_chain`\n",
    "\n",
    "2. Select water molecules (shown as red 0s in the sequence) and delete them:<br>\n",
    "     `PyMol> select water, resn HOH`<br>\n",
    "     `PyMol> remove water`\n",
    "\n",
    "3. Select and remove *HEME* and *oxygen molecules* that are not associated with the protein:<br>\n",
    "     `PyMol> select free_heme, resn HEM and not within 5 of chain A`<br>\n",
    "     `PyMol> remove free_heme`<br>\n",
    "     `PyMol> select free_oxygen, resn O2 and not within 5 of chain A`<br>\n",
    "     `PyMol> remove free_oxygen`\n",
    "\n",
    "#### **Step 3: Analyze the Binding Pocket**\n",
    "1. For the resulting structure, only the *A chain* of hemoglobin with its bound *heme* group and *oxygen* should be displayed.\n",
    "2. Explore the Heme Binding Pocket by rotating and zooming into the heme group to observe:\n",
    "     - How the *heme group* is embedded within the protein structure.\n",
    "     - The *interactions* between the *heme group* and surrounding amino acid residues."
   ]
  },
  {
   "cell_type": "markdown",
   "metadata": {
    "id": "ZhG7fwW8jlUN"
   },
   "source": [
    "---------------\n",
    "## Conclusions\n",
    "Upon completing this module, users should be able to analyze the primary, secondary, tertiary, and quaternary protein structures in detail. Users should be able to run the scripts adn use PyMol in GUI and command mode. They should be able to identify and analyze non-covalent interaction involved in stabilizing the protein structure, such as hydrogen bonding and hydrophobic interactions analysis. With this training users will be ready to analyse protein structure for the design of drugs.\n",
    "## Clean Up\n",
    "<div class=\"alert alert-block alert-warning\"> <b>Attention:</b> Remember to shutdown VM and delete any relevant resources</a>. </div>"
   ]
  },
  {
   "cell_type": "code",
   "execution_count": null,
   "metadata": {},
   "outputs": [],
   "source": []
  }
 ],
 "metadata": {
  "colab": {
   "provenance": []
  },
  "environment": {
   "kernel": "conda-base-py",
   "name": "workbench-notebooks.m128",
   "type": "gcloud",
   "uri": "us-docker.pkg.dev/deeplearning-platform-release/gcr.io/workbench-notebooks:m128"
  },
  "kernelspec": {
   "display_name": "Python 3 (ipykernel) (Local)",
   "language": "python",
   "name": "conda-base-py"
  },
  "language_info": {
   "codemirror_mode": {
    "name": "ipython",
    "version": 3
   },
   "file_extension": ".py",
   "mimetype": "text/x-python",
   "name": "python",
   "nbconvert_exporter": "python",
   "pygments_lexer": "ipython3",
   "version": "3.10.16"
  }
 },
 "nbformat": 4,
 "nbformat_minor": 4
}
