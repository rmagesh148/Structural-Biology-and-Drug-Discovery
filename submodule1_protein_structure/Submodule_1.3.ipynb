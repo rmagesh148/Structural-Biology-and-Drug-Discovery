{
 "cells": [
  {
   "cell_type": "markdown",
   "id": "a3dd5517-4642-4c09-b249-27c40247c81e",
   "metadata": {
    "id": "a3dd5517-4642-4c09-b249-27c40247c81e"
   },
   "source": [
    "# **Submodule 1.3 - Protein-Protein Interactions**\n",
    "\n",
    "## **Learning Objectives:**\n",
    "* Become familiar with protein-protein interface\n",
    "* Be able to use software to identify key protein-protein interactions\n",
    "\n",
    "## **Prerequisites:**\n",
    "* Understand the protein structure basics covered in 1.1/1.2\n",
    "* PyMol\n",
    "\n",
    "## **Introduction**\n",
    "This submodule explores the diverse world of protein-protein interactions (PPIs) and their critical role in biological systems and drug discovery. Using PyMOL as our visualization platform, we'll investigate how proteins recognize and interact with each other. Through hands-on exercises, you'll learn to analyze interaction interfaces, identify key binding hotspots, and understand the various forces that govern protein-protein recognition."
   ]
  },
  {
   "cell_type": "markdown",
   "id": "d3851ae0-60e6-4fdc-a9bb-ba10c3a80367",
   "metadata": {
    "id": "d3851ae0-60e6-4fdc-a9bb-ba10c3a80367"
   },
   "source": [
    "## **Protein-Protein Interaction Overview**\n",
    "Protein-protein interactions represent crucial control points in biological systems, mediating everything from signal transduction to enzyme regulation. These interactions typically involve large contact surfaces (1,000-2,000 Å²) with multiple binding hotspots, creating both challenges and opportunities for drug design. Unlike traditional small molecule binding pockets, PPI interfaces are often flat, extended, and more dynamic, requiring innovative approaches for therapeutic intervention.\n",
    "\n",
    "PPIs can be targeted through various strategies:\n",
    "\n",
    "- Small molecules targeting hotspot regions\n",
    "- Peptide-based inhibitors mimicking interface regions\n",
    "- Protein-based therapeutics (biologics)\n",
    "- Allosteric modulators affecting interface formation\n",
    "\n",
    "Understanding PPI interfaces is critical for drug development because:\n",
    "- Many disease states involve dysregulated protein-protein interactions\n",
    "- PPI interfaces are often highly specific, potentially reducing off-target effects\n",
    "- Different classes of PPIs may require different therapeutic approaches\n",
    "- Interface dynamics can provide multiple druggable states\n",
    "\n",
    "Recent successes in targeting PPIs, such as Bcl-2 family inhibitors and PD-1/PD-L1 blocking antibodies, have validated these interactions as therapeutic targets. Modern drug discovery increasingly relies on detailed structural understanding of protein-protein interfaces, combined with computational methods to identify druggable sites and design appropriate therapeutic agents.\n"
   ]
  },
  {
   "cell_type": "markdown",
   "id": "eb271fcc-79b9-4006-a0e2-e2937670c0f4",
   "metadata": {
    "id": "eb271fcc-79b9-4006-a0e2-e2937670c0f4"
   },
   "source": [
    "-----------------\n",
    "# 📊 Tutorials\n",
    "In these tutorials, we will use the PyMOL, ClusPro, and other cheminformatic tools to work through <u>**four**</u> applied activities to:\n",
    "- Build a small molecule ligand when a pulic *.pdb* file is not available.\n",
    "- Learn the nuances of generating a grid for a molecule with reactive atoms.\n",
    "- Use ClusPro for Protein-Protein docking.\n",
    "- Protein modeling using Alpha-fold server.\n",
    "\n",
    "## Before you begin:\n",
    "- Run the PyMOL GUI by following the directions provided in the Submodule 0 notebook, provided here: [pymol_notebook](../submodule0_pymol_setup/pymol_notebook.ipynb)\n"
   ]
  },
  {
   "cell_type": "markdown",
   "id": "9d189ab4-5e30-4322-b554-9d2327780340",
   "metadata": {
    "id": "9d189ab4-5e30-4322-b554-9d2327780340"
   },
   "source": [
    "## 🌟 **Activity 1: Visualizing Protein-Protein Interaction Interface**\n",
    "In this activity, you will use PyMOL to identify and analyze the protein-protein interaction interface in the *p53-MDM2 complex*.\n",
    "\n",
    "### **Objectives:**\n",
    "Explore the secondary structure elements of the *p53-MDM2 complex*, highlight key amino acid residues, and analyze the non-covalent interactions stabilizing the complex.\n",
    "\n",
    "### **Steps to Complete Activity**\n",
    "\n",
    "### **Step 1: Load the PDB File**\n",
    "1. Load the PDB file using the following PyMOL command:<br>\n",
    "     `fetch 1YCR` <br>\n",
    "     - The 3D structure of the p53-MDM2 complex will load, showing both protein chains in a basic cartoon representation.\n",
    "     - Both MDM2 and p53 have helical secondary structures.\n",
    "\n",
    "### **Step 2: Highlight p53 Peptide**\n",
    "1. Color the p53 peptide in blue:<br>\n",
    "   `color blue, /1YCR/B/B/`\n",
    "\n",
    "### **Step 3: Identify and Analyze Secondary Structures**\n",
    "1. Identify the secondary structure elements involved in the interaction. Note that p53 interacts with MDM2 through its helical secondary structure.\n",
    "\n",
    "### **Step 6: Change Display Modes**\n",
    "1. Hide the cartoon representation:<br>\n",
    "   `hide cartoon`\n",
    "2. Show the structure as lines:<br>\n",
    "   `show lines`\n",
    "\n",
    "### **Step 7: Display Sequence and Find Polar Contacts**\n",
    "1. Display the sequence:<br>\n",
    "   `Display > Sequence`\n",
    "2. Select the entire sequence:<br>\n",
    "   `sele > A > find polar contacts > within selection`\n",
    "3. Hydrogen bonds will be displayed.\n",
    "\n",
    "\n",
    "### **Step 8: Label Residues**\n",
    "1. Label all residues in the structure:<br>\n",
    "   `(1YCR) > L > residues`\n",
    "\n",
    "### **Step 9: Highlight Key Residues**\n",
    "#### MDM2 (Green Color)\n",
    "1. Select and highlight the following residues:<br>\n",
    "   `L54, L57, I61, Y67, V75, F86, F91, I99, and Y100`\n",
    "2. Use the following command:<br>\n",
    "   `sele > S > sticks`\n",
    "3. Deselect by clicking on any blank area of the screen.\n",
    "\n",
    "#### p53 (Blue Color)\n",
    "1. Select and highlight the following residues:<br>\n",
    "   `F19, W23, L26, and P27`\n",
    "2. Use the following command:<br>\n",
    "   `sele > S > sticks`\n",
    "\n",
    "### **Step 10: Analyze the Interaction**\n",
    "1. Observe the polar contacts, hydrogen bonds, and other non-covalent interactions stabilizing the complex.\n",
    "2. Note the hydrophobic interactions between residues in *MDM2* and *p53*.\n",
    "3. You can move the center mouse roll up and down to adjust the slab position of the structure so that you get minimum overlap of residues. Using the middle roller on the mouse adjust the structure such a way that only sticks ar eclearly visible and some part of the protein is out of the view\n",
    "4. In the 3D structure observe that L57, I99, F86, F91 and V75 of MDM2 form a hydrophobic pocket  that accomodates F19, W23, L26 as shown in the figure\n",
    "\n",
    "<center><img src=\"images/protein_interactions.png\" width=800 /></center><br><br>\n",
    "\n",
    "- Hydrogen bonding (yellow line)  is observed between W23 side chain of P53 to L54 of MDM2\n",
    "- E17 of P53 formed hydrogen bond K94 of MDM2\n",
    "- N29 of P52 formed hydrogen bon with Y100 of MDM2\n",
    "\n",
    "### **Step 11: Generate Hydrogen Bonds Table**\n",
    "1. To generate a comprehensive hydrogen bonds table within the protein and between the two interacting proteins, you can optionally use the VADAR web server. Upload the 1YCR PDB file to VADAR to obtain a detailed hydrogen bonding table along with other structural analyses.\n",
    "2. When you Submit the *1YCR* PDB file you will get a calculated Ramachandran map, side chain torsion angles, and hydrogen bonding table.\n",
    "3. Click on hydrogen bonding Table, to see all hydrogen bonding interactions between the two molecules.\n",
    "\n",
    "<center><img src=\"images/vadar.png\" width=600 /></center><br><br>\n",
    "\n",
    "### **Key Takeaway(s)**\n",
    "The interaction between the proteins or interaction of proteins with ligands depends on the complementarity of shapes, surface properties such as hydrophobic, hydrophilic and electrostatic. While designing a ligand drug for a protein surface knowledge of protein surface is very crucial. Here we demonstrate the representation of protein surface based on the properties of amino acid residues."
   ]
  },
  {
   "cell_type": "markdown",
   "id": "785407b7-4f86-4fd2-8a36-d61c2a0d06f0",
   "metadata": {},
   "source": [
    "## 🌟 **Activity 2: Visualizing Protein Surface Chemistry with YRB Highlighting in PyMOL**\n",
    "The YRB script was developed to emphasize important functional groups on protein surfaces, such as hydrophobic groups and charged residues, which play crucial roles in protein-protein interactions and ligand binding.\n",
    "\n",
    "### **Overview of YRB Highlighting Scheme**\n",
    "\n",
    "The YRB highlighting scheme colors protein surfaces as follows:\n",
    "\n",
    "- **Yellow:** Carbon atoms in non-polar (hydrophobic) groups, such as CH, CH2, CH3, that are not bound to nitrogen or oxygen atoms.\n",
    "- **Red:** Negatively charged atoms, such as those found in aspartate (D) and glutamate (E).\n",
    "- **Blue:** Positively charged atoms, such as those found in lysine (K) and arginine (R).\n",
    "- **Grey:** Backbone atoms, polar atoms, and any remaining atoms.\n",
    "\n",
    "This color scheme helps to visualize and understand which areas of the protein are involved in hydrophobic interactions, charged interactions, and potential binding regions.\n",
    "\n",
    "### **Objectives:**\n",
    "In this activity, we will learn how to use the YRB script in PyMOL to visualize the surface hydrophobicity and charge distribution of a protein structure.\n",
    "\n",
    "### **Steps to Complete Activity**\n",
    "\n",
    "#### **Step 1: Load the Protein Structure in PyMOL**\n",
    "1. Open PyMOL and load your protein structure of interest from PDB using the following command:<br>\n",
    "  `PyMol> fetch 1A3N, async=0  # Replace '1A3N' with your desired PDB code`\n",
    "\n",
    "#### **Step 2: Set Up the Visual Representation**\n",
    "1. Hide all default representations to keep the display clean:<br>\n",
    "  `PyMol> hide everything, all`\n",
    "\n",
    "2. Set the representation to surface:<br>\n",
    "  `PyMol> show surface, all`\n",
    "  \n",
    "#### **Step 3: Obtain the YRB Script**\n",
    "1. The YRB script is a script which colors the molecule using the YRB(Yellow-Red-Blue) color scheme. The script below performs this action and was obtained from a publication by [Hagemans et al](https://www.frontiersin.org/journals/molecular-biosciences/articles/10.3389/fmolb.2015.00056/full). "
   ]
  },
  {
   "cell_type": "code",
   "execution_count": 2,
   "id": "ea3109ee-8f56-4c43-af53-d6fcc1199ce6",
   "metadata": {
    "tags": []
   },
   "outputs": [],
   "source": [
    "# Open the script.pml file in write mode\n",
    "with open(\"pml_scripts/YRB.pml\", \"w\") as scriptout:\n",
    "    # Remove all hydrogen atoms from the visualization for better clarity\n",
    "    scriptout.write(\"remove hydro\\n\")\n",
    "\n",
    "    # Set custom colors for different functional groups\n",
    "    scriptout.write(\"set_color yellow, [0.950, 0.78, 0.0]\\n\")  # Hydrophobic regions\n",
    "    scriptout.write(\"set_color grey, [0.95, 0.95, 0.95]\\n\")    # Backbone atoms and polar groups\n",
    "    scriptout.write(\"set_color red, [1.0, 0.4, 0.4]\\n\")        # Negatively charged regions (e.g., acidic residues)\n",
    "    scriptout.write(\"set_color blue, [0.2, 0.5, 0.8]\\n\")       # Positively charged regions (e.g., basic residues)\n",
    "\n",
    "    # Define a dictionary to map specific amino acids to their atoms and corresponding colors\n",
    "    mapping = {\n",
    "        'arg': [('NE,NH2,NH1', 'blue'), ('CD,CZ', 'grey'), ('CG', 'yellow')],  # Arginine\n",
    "        'asn': [('CG,OD1,ND2', 'grey')],  # Asparagine\n",
    "        'asp': [('CG', 'grey'), ('OD2,OD1', 'red')],  # Aspartic acid (negatively charged)\n",
    "        'cys': [('SG', 'grey')],  # Cysteine\n",
    "        'gln': [('CG', 'yellow'), ('CD,OE1,NE2', 'grey')],  # Glutamine\n",
    "        'glu': [('CG', 'yellow'), ('CD', 'grey'), ('OE1,OE2', 'red')],  # Glutamic acid (negatively charged)\n",
    "        'his': [('CG,CD2,ND1,NE2,CE1', 'grey')],  # Histidine\n",
    "        'ile': [('CG1,CG2,CD1', 'yellow')],  # Isoleucine (hydrophobic)\n",
    "        'leu': [('CG,CD1,CD2', 'yellow')],  # Leucine (hydrophobic)\n",
    "        'lys': [('CG,CD', 'yellow'), ('CE', 'grey'), ('NZ', 'blue')],  # Lysine (positively charged)\n",
    "        'met': [('CG,CE', 'yellow'), ('SD', 'grey')],  # Methionine\n",
    "        'phe': [('CG,CD1,CE1,CZ,CE2,CD2', 'yellow')],  # Phenylalanine (aromatic)\n",
    "        'pro': [('CG', 'yellow'), ('CD', 'grey')],  # Proline\n",
    "        'ser': [('CB,OG', 'grey')],  # Serine (polar)\n",
    "        'thr': [('CB,OG1', 'grey'), ('CG2', 'yellow')],  # Threonine (polar)\n",
    "        'trp': [('CG,CD2,CZ2,CH2,CZ3,CE3', 'yellow'), ('CD1,NE1,CE2', 'grey')],  # Tryptophan (aromatic)\n",
    "        'tyr': [('CG,CE1,CD1,CE2,CD2', 'yellow'), ('CZ,OH', 'grey')],  # Tyrosine (aromatic and polar)\n",
    "        'val': [('CG1,CG2', 'yellow')]  # Valine (hydrophobic)\n",
    "    }\n",
    "\n",
    "    # Set the selection name to 'all' to apply coloring to all molecular objects\n",
    "    selection = 'all'\n",
    "    scriptout.write(\"set selection_name, \" + selection + \"\\n\")\n",
    "\n",
    "    # Color the backbone atoms (N, C, CA, O) in grey for the selected objects\n",
    "    scriptout.write(\"color grey, (n. N,C,CA,O and \" + selection + \")\\n\")\n",
    "\n",
    "    # Color the beta-carbon (CB) atoms in yellow for the selected objects\n",
    "    scriptout.write(\"color yellow, (n. CB and \" + selection + \")\\n\")\n",
    "\n",
    "    # Apply specific colors based on the amino acid type and atom name for the selected objects\n",
    "    for key in mapping:\n",
    "        for (atom, color) in mapping[key]:\n",
    "            scriptout.write(\"color \" + color + \", (n. \" + atom + \" and r. \" + key + \" and \" + selection + \")\\n\")"
   ]
  },
  {
   "cell_type": "markdown",
   "id": "7eeaa564-3f5b-4893-9339-92fbe4011dea",
   "metadata": {},
   "source": [
    "#### **Step 4: Run the YRB Script in PyMOL**\n",
    "1. In PyMOL, navigate to the menu:<br>\n",
    "    `File > Run...`\n",
    "2. Select the `yrb.py` script you saved earlier.\n",
    "3. Apply the YRB highlighting scheme to all loaded structures:<br>\n",
    "  `PyMol> yrb`\n",
    "  - This will color all structures in the session based on the YRB scheme.\n",
    "4. (Optional) To apply the scheme to a specific structure:<br>\n",
    "  `PyMol> yrb 1A3N  # Replace '1A3N' with the name of your specific structure`\n",
    "  \n",
    "#### **Step 5: Adjust Visualization Settings for Better Viewing (Optional)**\n",
    "1. Adjust the transparency of the surface to make internal features visible:<br>\n",
    "  `PyMol> set transparency, 0.3, all`\n",
    "\n",
    "2. Show the cartoon view alongside the surface to understand how the surface features relate to the protein backbone:<br>\n",
    "  `PyMol> show cartoon, all`<br>\n",
    "  `PyMol> set transparency, 0.5, all`"
   ]
  },
  {
   "cell_type": "markdown",
   "id": "e22e3353-c61a-4274-af7b-89be775c2121",
   "metadata": {
    "id": "e22e3353-c61a-4274-af7b-89be775c2121"
   },
   "source": [
    "---------------------\n",
    "## 🌟 **Activity 3: Interaction Analysis**\n",
    "\n",
    "### **Objectives:**\n",
    "With the analysis conducted in this activity, we can understand how the ligand interacts with its binding site through different types of interactions, such as:\n",
    "\n",
    "- <u>Binding Affinity</u>: By analyzing π-π and ionic interactions, we can infer how strong the ligand binds to the active site.\n",
    "- <u>Stability of Interaction</u>: Understanding the nature of interactions (hydrophobic, ionic) helps predict the stability of the ligand-protein complex.\n",
    "- <u>Binding Pocket Characterization</u>: The surface representation highlights the spatial fit and accessibility of the ligand within the active site.\n",
    "- <u>Ligand Optimization:</u> Identifying key interactions aids in optimizing ligand modifications to enhance binding efficacy or reduce undesired interactions.\n",
    "\n",
    "<center><img src=\"images/interactions.png\" width=600 /></center><br><br>\n",
    "\n",
    "### **Steps to Complete Activity**\n",
    "\n",
    "#### **Step 1. Visualize Van der Waals Interactions**\n",
    "1. Select and visualize atoms within Van der Waals contact distance of the ligand:<br>\n",
    "    `PyMol> select vdW_contacts, ligand around 3.5 and not ligand  # Select atoms within 3.5 Å distance for Van der Waals interactions`<br>\n",
    "    `PyMol> show spheres, vdW_contacts                             # Show these selected atoms as spheres`<br>\n",
    "    `PyMol> color cyan, vdW_contacts                               # Color spheres cyan for visualization`<br>\n",
    "\n",
    "#### **Step 2. Ionic Interaction Analysis**\n",
    "1. Select and display ionic interactions:<br>\n",
    "    `PyMol> select charged_residues, resn ARG+LYS+ASP+GLU                       # Select positively and negatively charged residues`<br>\n",
    "    `PyMol> select ionic_interactions, ligand around 5.0 and charged_residues   # Select charged residues within 5 Å of ligand`<br>\n",
    "    `PyMol> show sticks, ionic_interactions                                     # Show ionic interactions as sticks`<br>\n",
    "    `PyMol> color red, ionic_interactions                                       # Color ionic interactions red for easy visualization`\n",
    "\n",
    "#### **Step 3. π-π Stacking and Cation-π Interaction Analysi**\n",
    "1. Identify aromatic interactions with the ligand:<br>\n",
    "    `PyMol> select aromatic_residues, resn PHE+TYR+TRP                          # Select aromatic residues`<br>\n",
    "    `PyMol> select pi_interactions, ligand around 5.0 and aromatic_residues     # Select aromatic residues within 5 Å of ligand`<br>\n",
    "    `PyMol> show sticks, pi_interactions                                        # Show aromatic residues as sticks`<br>\n",
    "    `PyMol> color purple, pi_interactions                                       # Color aromatic interactions purple`\n",
    "\n",
    "#### **Step 4. Adjust Visualization for Better Clarity**\n",
    "1. Zoom into the ligand and binding site:<br>\n",
    "    `PyMol> zoom (ligand or active_site)        # Zoom into the ligand and binding site for better visualization`\n",
    "2. Adjust transparency for a better view of interactions.<br>\n",
    "    `PyMol> set transparency, 0.5, active_site  # Set transparency for active site residues`"
   ]
  },
  {
   "cell_type": "markdown",
   "id": "ba1d7fd7-5bb3-4949-8bf4-110e58615c1c",
   "metadata": {
    "id": "ba1d7fd7-5bb3-4949-8bf4-110e58615c1c"
   },
   "source": [
    "------------\n",
    "## 🌟 **Activity 4: Protein modeling with Alphafold server**\n",
    "The 3D structure of a protein that you download from protein data bank is elucidated from one of the experimental methods namely, X-ray crystallography, Nuclear magnetic Resonance (NMR) or by Cryo-electron Microscopy (Cryo-EM). If you want a 3D structure of a protein that is not available on PDB you have to model the protein. There are different protein modeling methods available. Most of these methods work well when part of the protein structure you plan to model is similar to the existing 3D protein structure in the database or if there is a sequence similarity between the protein of unknown 3D structure and a known structure. If sequence similarity is more than 40% then model generated from theoretical methods works well. Higher the sequence similarity between known and unknown, the better the model is.\n",
    "\n",
    "### **Objectives:**\n",
    "Here, we take the sequence of a protein from the Uniprot database and model it using the Alphafold server. We will model human proprotein *convertase subtilisin/kexin type 7 (PCSK7)*.\n",
    "\n",
    "### **Steps to Complete Activity**\n",
    "\n",
    "#### **Step 1. Navigate to protein database**\n",
    "1. Go to Uniprot https://www.uniprot.org/\n",
    "\n",
    "#### **Step 2. Download protein sequence**\n",
    "1. At UniProtKB  enter `PCSK7` and check for entry `Q16549  Homo sapiens (human)`.\n",
    "2. Scroll down to the sequence\n",
    "3. Download (or cut and paste into text editor) the fasta formatted sequence (should be displayed).\n",
    "4. Save the file as *PCSK7.txt*\n",
    "    - <u>Note</u>: The protein should have 785 amino acids.\n",
    "\n",
    "#### **Step 3. Navigating to Alphafold Server**\n",
    "1. Go to Alphafold server: https://alphafoldserver.com/fold/7c80de223b02907d\n",
    "2. Continue with Google and accept the terms. You will see the following window (below). Paste the sequence you saved in the notepad\n",
    "\n",
    "<center><img src=\"images/alphafold_request.png\" width=800 /></center><br><br>\n",
    "\n",
    "#### **Step 4. Submitting to Alphafold Server**\n",
    "1. Continue to preview job and submit.\n",
    "2. Once the job is completed you will see the date and time and click that and use the download option to download the zip folder.\n",
    "3. On the same screen you will see the structure of the molecule displayed and very high to very low pIDDT. Low and very low are displayed in yellow and orange. On the structure the chains having yellow and orange are low and very low. Those structures that look similar to sphagetti are not reliable structures.\n",
    "\n",
    "<center><img src=\"images/alphafold_output.png\" width=800 /></center><br><br>\n",
    "\n",
    "#### **Step 5. Next Steps**\n",
    "1. Within the downloaded folder named fold-xxxx different structures are downloaded and are named model 0, model 1, etc.  For the purpose of drug design you can remove the sphagetti type of structures using PyMOL and use the proper folded structure for analysis.  You can check the quality of the structure using a Ramachandran Map.\n",
    "\n"
   ]
  },
  {
   "cell_type": "markdown",
   "id": "57b4ada6-1524-4264-8d20-f8fab42c469d",
   "metadata": {
    "id": "57b4ada6-1524-4264-8d20-f8fab42c469d"
   },
   "source": [
    "------------------------\n",
    "# 📖 **Submodule 1 QUIZ**"
   ]
  },
  {
   "cell_type": "code",
   "execution_count": null,
   "id": "e306b3a6-2e29-4884-8448-604e45110814",
   "metadata": {
    "id": "e306b3a6-2e29-4884-8448-604e45110814",
    "outputId": "431a4776-7c57-4507-dd30-4e829fe42d46",
    "tags": []
   },
   "outputs": [
    {
     "data": {
      "text/html": [
       "\n",
       "        <iframe\n",
       "            width=\"600\"\n",
       "            height=\"400\"\n",
       "            src=\"quiz/quiz_Q1.html\"\n",
       "            frameborder=\"0\"\n",
       "            allowfullscreen\n",
       "            \n",
       "        ></iframe>\n",
       "        "
      ],
      "text/plain": [
       "<IPython.lib.display.IFrame at 0x7fd5235ca2f0>"
      ]
     },
     "execution_count": 6,
     "metadata": {},
     "output_type": "execute_result"
    }
   ],
   "source": [
    "#Render Quiz: Q1\n",
    "from IPython.display import IFrame\n",
    "IFrame('quiz/quiz_Q1.html', width=600, height=400)"
   ]
  },
  {
   "cell_type": "markdown",
   "id": "da0075c8-e414-466e-b28b-4865d865957b",
   "metadata": {
    "id": "da0075c8-e414-466e-b28b-4865d865957b"
   },
   "source": [
    "### Image for Q2 - Peptide Bonds\n",
    "<center><img src=\"images/sub1_q2.png\" width=400 /></center><br><br>"
   ]
  },
  {
   "cell_type": "code",
   "execution_count": null,
   "id": "a61d2a5e-ec84-415c-ae8d-803caf297f8d",
   "metadata": {
    "id": "a61d2a5e-ec84-415c-ae8d-803caf297f8d",
    "outputId": "1fed047c-e81e-4b0f-f745-5a79be92057f",
    "tags": []
   },
   "outputs": [
    {
     "data": {
      "text/html": [
       "\n",
       "        <iframe\n",
       "            width=\"800\"\n",
       "            height=\"800\"\n",
       "            src=\"quiz/quiz_Q2_Q6.html\"\n",
       "            frameborder=\"0\"\n",
       "            allowfullscreen\n",
       "            \n",
       "        ></iframe>\n",
       "        "
      ],
      "text/plain": [
       "<IPython.lib.display.IFrame at 0x7fd5235cbee0>"
      ]
     },
     "execution_count": 8,
     "metadata": {},
     "output_type": "execute_result"
    }
   ],
   "source": [
    "#Render Quiz: Q2-Q6\n",
    "from IPython.display import IFrame\n",
    "IFrame('quiz/quiz_Q2_Q6.html', width=800, height=800)"
   ]
  },
  {
   "cell_type": "markdown",
   "id": "151a246e-4661-458b-a583-079a7dd83b24",
   "metadata": {
    "id": "151a246e-4661-458b-a583-079a7dd83b24"
   },
   "source": [
    "### Image for Q6 - Insulin Structure\n",
    "<center><img src=\"images/sub1_q6.jpg\" width=300 /></center><br><br>"
   ]
  },
  {
   "cell_type": "code",
   "execution_count": null,
   "id": "5f07ab6f-4a19-41b2-a81b-dd6733b6c6ce",
   "metadata": {
    "id": "5f07ab6f-4a19-41b2-a81b-dd6733b6c6ce",
    "outputId": "7df62871-d5c7-4d07-f336-bcd43acbadef",
    "tags": []
   },
   "outputs": [
    {
     "data": {
      "text/html": [
       "\n",
       "        <iframe\n",
       "            width=\"800\"\n",
       "            height=\"300\"\n",
       "            src=\"quiz/quiz_Q7.html\"\n",
       "            frameborder=\"0\"\n",
       "            allowfullscreen\n",
       "            \n",
       "        ></iframe>\n",
       "        "
      ],
      "text/plain": [
       "<IPython.lib.display.IFrame at 0x7fd5235ca770>"
      ]
     },
     "execution_count": 13,
     "metadata": {},
     "output_type": "execute_result"
    }
   ],
   "source": [
    "#Render Quiz: Q7\n",
    "from IPython.display import IFrame\n",
    "IFrame('quiz/quiz_Q7.html', width=800, height=300)"
   ]
  },
  {
   "cell_type": "markdown",
   "id": "53948774-aa51-44bc-8626-99fcfc121ce0",
   "metadata": {
    "id": "53948774-aa51-44bc-8626-99fcfc121ce0",
    "tags": []
   },
   "source": [
    "### Image for Q7 - Insulin Structure\n",
    "<center><img src=\"images/sub1_q7.jpg\" width=250 /></center><br><br>"
   ]
  },
  {
   "cell_type": "markdown",
   "id": "0dacc693-0458-4b8e-9ad1-865d0fd64768",
   "metadata": {
    "id": "0dacc693-0458-4b8e-9ad1-865d0fd64768"
   },
   "source": [
    "---------------\n",
    "## Conclusions\n",
    "Users shoud be able to visualize complex interactions of protein surface usign PyMol. Identify the amino acid residues involved in stabilizing teh protein-protein interaction and details of the nature of interaction, such as hydrogen bonding and hydrophobic interaction between two proteins. Users should also be able to perform protein modeling of unknown 3D structures from protein sequences data using the Alphafold server and analyze the quality of 3D structures produced from Alphafold.\n",
    "## Clean Up\n",
    "<div class=\"alert alert-block alert-warning\"> <b>Attention:</b> Remember to shutdown VM and delete any relevant resources</a>. </div>"
   ]
  },
  {
   "cell_type": "code",
   "execution_count": null,
   "id": "20452d6d-3401-4c86-b547-76d11e4b09de",
   "metadata": {},
   "outputs": [],
   "source": []
  }
 ],
 "metadata": {
  "colab": {
   "provenance": []
  },
  "environment": {
   "kernel": "conda-base-py",
   "name": "workbench-notebooks.m126",
   "type": "gcloud",
   "uri": "us-docker.pkg.dev/deeplearning-platform-release/gcr.io/workbench-notebooks:m126"
  },
  "kernelspec": {
   "display_name": "Python 3 (ipykernel)",
   "language": "python",
   "name": "conda-base-py"
  },
  "language_info": {
   "codemirror_mode": {
    "name": "ipython",
    "version": 3
   },
   "file_extension": ".py",
   "mimetype": "text/x-python",
   "name": "python",
   "nbconvert_exporter": "python",
   "pygments_lexer": "ipython3",
   "version": "3.10.15"
  }
 },
 "nbformat": 4,
 "nbformat_minor": 5
}
