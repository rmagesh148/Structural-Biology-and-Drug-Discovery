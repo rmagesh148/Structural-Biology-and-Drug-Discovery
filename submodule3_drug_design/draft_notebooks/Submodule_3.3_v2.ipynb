{
 "cells": [
  {
   "cell_type": "markdown",
   "metadata": {},
   "source": [
    "# **Submodule 3.3 - Peptide-based drug design**\n",
    "\n",
    "## **Learning Objectives:**\n",
    "<mark> ADD </mark>\n",
    "\n",
    "## **Prerequisites:** \n",
    "<mark> ADD </mark>\n",
    "\n",
    "## **Introduction**\n",
    "\n",
    "## **Learning Objectives:**\n",
    "<mark> Write learning objectives specific to 3.2 <mark>"
   ]
  },
  {
   "cell_type": "markdown",
   "metadata": {},
   "source": [
    "## Overview\n",
    "\n",
    "\n",
    "\n",
    "## Core Concepts\n",
    "* terminal truncation\n",
    "* Peptide fragmentation\n",
    "* Alanine Scanning\n",
    "* Shuffled sequence"
   ]
  },
  {
   "cell_type": "code",
   "execution_count": null,
   "metadata": {},
   "outputs": [],
   "source": [
    "### Terminal truncation"
   ]
  },
  {
   "cell_type": "code",
   "execution_count": 3,
   "metadata": {
    "tags": []
   },
   "outputs": [
    {
     "name": "stdout",
     "output_type": "stream",
     "text": [
      "Random Overlap Strategy:\n",
      "Peptide 1: APLLRTYWESDFGKNVVQEATR\n",
      "Peptide 2: SDFGKNVVQEATRDDFYILLNP\n",
      "Peptide 3: ILLNPGTKLLT\n",
      "\n",
      "Sliding Window Strategy:\n",
      "Peptide 1: APLLRTYWESDF\n",
      "Peptide 2: YWESDFGKNVVQ\n",
      "Peptide 3: GKNVVQEATRDD\n"
     ]
    }
   ],
   "source": [
    "##### Peptide Fragmentation\n",
    "import random\n",
    "import numpy as np\n",
    "\n",
    "def generate_controlled_peptides(parent_peptide, n_peptides, overlap_strategy='random'):\n",
    "\n",
    "    peptide_length = len(parent_peptide)\n",
    "    peptides = []\n",
    "    \n",
    "    if overlap_strategy == 'random':\n",
    "        # Divide peptide into roughly equal segments with some randomness\n",
    "        segment_length = peptide_length // n_peptides\n",
    "        \n",
    "        for i in range(n_peptides):\n",
    "            # Random start with some overlap\n",
    "            start = max(0, min(i * segment_length + random.randint(-5, 5), peptide_length))\n",
    "            \n",
    "            # Ensure subsequence length is reasonable\n",
    "            end = min(start + segment_length + 10, peptide_length)\n",
    "            \n",
    "            subsequence = parent_peptide[start:end]\n",
    "            peptides.append(subsequence)\n",
    "    \n",
    "    elif overlap_strategy == 'sliding_window':\n",
    "        # Use sliding window approach\n",
    "        window_size = peptide_length // n_peptides\n",
    "        step_size = window_size // 2  # 50% overlap\n",
    "        \n",
    "        for i in range(n_peptides):\n",
    "            start = i * step_size\n",
    "            end = min(start + window_size, peptide_length)\n",
    "            \n",
    "            subsequence = parent_peptide[start:end]\n",
    "            peptides.append(subsequence)\n",
    "    \n",
    "    return peptides\n",
    "\n",
    "# Example usage\n",
    "parent_peptide = \"APLLRTYWESDFGKNVVQEATRDDFYILLNPGTKLLT\"\n",
    "\n",
    "# Random overlap strategy\n",
    "print(\"Random Overlap Strategy:\")\n",
    "random_peptides = generate_controlled_peptides(parent_peptide, n_peptides=3, overlap_strategy='random')\n",
    "for i, peptide in enumerate(random_peptides, 1):\n",
    "    print(f\"Peptide {i}: {peptide}\")\n",
    "\n",
    "print(\"\\nSliding Window Strategy:\")\n",
    "sliding_peptides = generate_controlled_peptides(parent_peptide, n_peptides=3, overlap_strategy='sliding_window')\n",
    "for i, peptide in enumerate(sliding_peptides, 1):\n",
    "    print(f\"Peptide {i}: {peptide}\")"
   ]
  },
  {
   "cell_type": "code",
   "execution_count": 4,
   "metadata": {
    "tags": []
   },
   "outputs": [
    {
     "name": "stdout",
     "output_type": "stream",
     "text": [
      "{'position': 1, 'original_aa': 'E', 'substituted_sequence': 'ASDFG'}\n",
      "{'position': 2, 'original_aa': 'S', 'substituted_sequence': 'EADFG'}\n",
      "{'position': 3, 'original_aa': 'D', 'substituted_sequence': 'ESAFG'}\n",
      "{'position': 4, 'original_aa': 'F', 'substituted_sequence': 'ESDAG'}\n",
      "{'position': 5, 'original_aa': 'G', 'substituted_sequence': 'ESDFA'}\n"
     ]
    }
   ],
   "source": [
    "# Alanine screening\n",
    "def alanine_scan(peptide_sequence):\n",
    "    \"\"\"\n",
    "    Perform alanine scanning mutagenesis on a peptide sequence\n",
    "    \n",
    "    Args:\n",
    "        peptide_sequence (str): Original peptide sequence\n",
    "    \n",
    "    Returns:\n",
    "        list: List of peptide sequences with each amino acid replaced by Alanine\n",
    "    \"\"\"\n",
    "    # List to store all alanine-substituted sequences\n",
    "    alanine_substitutions = []\n",
    "    \n",
    "    # Iterate through each position in the peptide\n",
    "    for position in range(len(peptide_sequence)):\n",
    "        # Create a list from the original sequence\n",
    "        mutated_sequence = list(peptide_sequence)\n",
    "        \n",
    "        # Replace the amino acid at current position with Alanine\n",
    "        mutated_sequence[position] = 'A'\n",
    "        \n",
    "        # Convert back to string\n",
    "        alanine_substitution = ''.join(mutated_sequence)\n",
    "        \n",
    "        # Add to list of substitutions\n",
    "        alanine_substitutions.append({\n",
    "            'position': position + 1,  # 1-based indexing\n",
    "            'original_aa': peptide_sequence[position],\n",
    "            'substituted_sequence': alanine_substitution\n",
    "        })\n",
    "    \n",
    "    return alanine_substitutions\n",
    "example = alanine_scan(\"ESDFG\")\n",
    "for i in example:\n",
    "    print(i)"
   ]
  },
  {
   "cell_type": "code",
   "execution_count": 2,
   "metadata": {
    "tags": []
   },
   "outputs": [
    {
     "name": "stdout",
     "output_type": "stream",
     "text": [
      "Original: hello world\n",
      "Shuffled: lldlrhooe w\n",
      "Same character count: True\n"
     ]
    }
   ],
   "source": [
    "# Shuffled sequence\n",
    "\n",
    "import random\n",
    "\n",
    "def shuffle_string(input_string):\n",
    "    # Convert string to list of characters\n",
    "    char_list = list(input_string)\n",
    "    \n",
    "    # Randomly shuffle the list\n",
    "    random.shuffle(char_list)\n",
    "    \n",
    "    # Convert back to string\n",
    "    return ''.join(char_list)\n",
    "\n",
    "# Example usage\n",
    "original = \"hello world\"\n",
    "shuffled = shuffle_string(original)\n",
    "\n",
    "print(f\"Original: {original}\")\n",
    "print(f\"Shuffled: {shuffled}\")\n",
    "print(f\"Same character count: {sorted(original) == sorted(shuffled)}\")"
   ]
  },
  {
   "cell_type": "code",
   "execution_count": null,
   "metadata": {},
   "outputs": [],
   "source": []
  }
 ],
 "metadata": {
  "colab": {
   "authorship_tag": "ABX9TyOQxQ6dppvVedUekyyB6f6x",
   "provenance": []
  },
  "environment": {
   "kernel": "conda-base-py",
   "name": "workbench-notebooks.m126",
   "type": "gcloud",
   "uri": "us-docker.pkg.dev/deeplearning-platform-release/gcr.io/workbench-notebooks:m126"
  },
  "kernelspec": {
   "display_name": "Python 3 (ipykernel)",
   "language": "python",
   "name": "conda-base-py"
  },
  "language_info": {
   "codemirror_mode": {
    "name": "ipython",
    "version": 3
   },
   "file_extension": ".py",
   "mimetype": "text/x-python",
   "name": "python",
   "nbconvert_exporter": "python",
   "pygments_lexer": "ipython3",
   "version": "3.10.15"
  }
 },
 "nbformat": 4,
 "nbformat_minor": 4
}
