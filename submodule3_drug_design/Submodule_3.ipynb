{
  "nbformat": 4,
  "nbformat_minor": 0,
  "metadata": {
    "colab": {
      "provenance": []
    },
    "kernelspec": {
      "name": "python3",
      "display_name": "Python 3"
    },
    "language_info": {
      "name": "python"
    }
  },
  "cells": [
    {
      "cell_type": "markdown",
      "source": [
        "# **Submodule 3 - Drug Design**"
      ],
      "metadata": {
        "id": "tQIqVsVtiykH"
      }
    },
    {
      "cell_type": "markdown",
      "source": [
        "In this module, the users learn different types of drug design with examples, visualization, and tutorials. Enzyme-based drug design, receptor-based drug design, and natural product drug design are covered. Finally, protein-protein interaction and drug design and peptide-based drug design are demonstrated. This module uses all the software and knowledge used in Modules 1 and 2 and combines this knowledge to study the design of drugs. This module requires Modules 1 and 2 as prerequisites if the users are unfamiliar with the analysis of protein structure, binding cavity, docking, and protein-protein interactions. We will create a Google Colab notebook covering different drug design approaches, including enzyme-based, receptor-based, and natural product drug design. When creating these notebooks, we will consider embedding explanations, code snippets, visualizations, and interactive elements to enhance the learning experience.  We will also incorporate links to external resources, datasets, and tools to supplement the content provided in the notebooks."
      ],
      "metadata": {
        "id": "KR0X9HsajAG3"
      }
    },
    {
      "cell_type": "markdown",
      "source": [
        "# **Learning Objectives:**"
      ],
      "metadata": {
        "id": "8i58Dl0DkWwH"
      }
    },
    {
      "cell_type": "markdown",
      "source": [
        "* To analyze the ligand docking and protein cavity for modification of ligand.\n",
        "* To perform protein-protein docking and analyze the binding surface of two proteins for protein-protein interaction.\n",
        "* To design peptides and natural products-based molecules for inhibiting protein-protein interactions as possible drugs."
      ],
      "metadata": {
        "id": "jujh6ugZkuzO"
      }
    },
    {
      "cell_type": "markdown",
      "source": [
        "# **Prerequisites**"
      ],
      "metadata": {
        "id": "Ny4UTp4MkYqT"
      }
    },
    {
      "cell_type": "markdown",
      "source": [],
      "metadata": {
        "id": "p6sLvgLIk94y"
      }
    },
    {
      "cell_type": "markdown",
      "source": [
        "# **Lecture Series**"
      ],
      "metadata": {
        "id": "Yi5kq5fHkaV0"
      }
    },
    {
      "cell_type": "code",
      "source": [
        "# Example of Enzyme-Based Drug Design\n",
        "\n",
        "from IPython.display import YouTubeVideo\n",
        "\n",
        "# Youtube\n",
        "YouTubeVideo(id='T9fbAkgINf0', height=200, width=400)"
      ],
      "metadata": {
        "id": "YtkBdnAuk-uh"
      },
      "execution_count": null,
      "outputs": []
    },
    {
      "cell_type": "code",
      "source": [
        "# Example of Receptor-Based Drug Design\n",
        "\n",
        "from IPython.display import YouTubeVideo\n",
        "\n",
        "# Youtube\n",
        "YouTubeVideo(id='T9fbAkgINf0', height=200, width=400)"
      ],
      "metadata": {
        "id": "Won8bqfAk-zh"
      },
      "execution_count": null,
      "outputs": []
    },
    {
      "cell_type": "code",
      "source": [
        "# Protein-Protein Interaction of Drug Design\n",
        "\n",
        "from IPython.display import YouTubeVideo\n",
        "\n",
        "# Youtube\n",
        "YouTubeVideo(id='T9fbAkgINf0', height=200, width=400)"
      ],
      "metadata": {
        "id": "3c3hqcbpk-4h"
      },
      "execution_count": null,
      "outputs": []
    },
    {
      "cell_type": "markdown",
      "source": [
        "# **Tutorials Video and text instructions:**"
      ],
      "metadata": {
        "id": "r9Gp3dTAkdnH"
      }
    },
    {
      "cell_type": "markdown",
      "source": [
        "**Example of enzyme inhibitor**\n",
        "* *Analysis of angiotensin converting enzyme inhibitor.*\n",
        "\n",
        "**Example of receptor-based drug design**\n",
        "\n",
        "**Example of protein-protein interaction and drug design**\n",
        "*   *Analysis of P53-MDM2 drug design*\n",
        "\n",
        "**Example of peptide-based drug design  **\n",
        "* *CD2-CD58*\n",
        "\n",
        "**Natural product drug design**\n",
        " Taxol"
      ],
      "metadata": {
        "id": "OWB7tyIulWKp"
      }
    },
    {
      "cell_type": "markdown",
      "source": [
        "# **Hands-on Software**"
      ],
      "metadata": {
        "id": "q6V37yh5kggb"
      }
    },
    {
      "cell_type": "markdown",
      "source": [
        "*  Chemical structure sketching\n",
        "*  Autodock, Autodock vina\n",
        "*  Cluspro\n",
        "*  Patchdock\n",
        "*  PyMol\n",
        "*  FTMAP"
      ],
      "metadata": {
        "id": "wHwduXPll9qC"
      }
    },
    {
      "cell_type": "markdown",
      "source": [
        "# **Assignments**"
      ],
      "metadata": {
        "id": "TlST6W_Ekk6Z"
      }
    },
    {
      "cell_type": "markdown",
      "source": [
        "*  ***Design for PCSK7 enzyme***\n",
        "*  ***Design peptide for ROB***"
      ],
      "metadata": {
        "id": "o9W2R7kymcsX"
      }
    },
    {
      "cell_type": "markdown",
      "source": [
        "# **Practical Hands-on with Python for**"
      ],
      "metadata": {
        "id": "unBzVdfAknAF"
      }
    }
  ]
}