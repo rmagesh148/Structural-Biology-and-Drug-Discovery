{
 "cells": [
  {
   "cell_type": "markdown",
   "metadata": {
    "id": "TTLfcX9rma4C"
   },
   "source": [
    "# **Submodule 2.2 - DOCKING using Autodock**\n",
    "\n",
    "## **Learning Objectives:**\n",
    "1. To undestand the methods used in autodock for calculations of ligand binding to a receptor <mark>.\n",
    "2. To calculate the possible binding sites of ligand on a protein using FTMap\n",
    "3. To prepare the 3D structure of a ligand and receptor for grid and docking calculations\n",
    "\n",
    "\n",
    "## **Prerequisites:**\n",
    "- PyMol\n",
    "- Preferred: Experience downloading 3D protein and ligand structures from protein data bank (PDB)\n",
    "\n",
    "## **Introduction**\n",
    "There are different docking calculation methods described in the literature (GOLD, Glide, UCSF Dock), and some of these methods are free for academic users (with registration), and commercial software is available (MOE-Dock, Discovery Studio, and many others). Some of these methods are useful only for small molecules. Methods such as autodock can be used for small molecules and peptides. Autodock4 with GPUs is also available (Accelerating Autodock4 with GPUs and Gradient based local Search. J. Chem. Theory Comput, 2021).\n",
    "\n",
    "In auto dock, a grid is created on the receptor (3D structure from PDB) at the possible binding site, or if the protein is relatively small, the grid can cover the entire protein. Ligand molecule moves within the grid for calculations. Using genetic algorithm different poses (orientation adn shape of the ligand) of the ligands are calculated. Then, the ligand moves on the grid points on the protein surface/binding site and energy of interaction between ligand and receptor is calculated using and emphirican funtion. Based on the scoring obtained from this function liagnd poses on the protein is analyzed and 50 low energy structures are provided as possible docking poses of the liagdn with the receptor.\n",
    "\n",
    "PLEASE PROVIDE brief information about which AUTODOCK used and what i sused Python, GUI etc.\n",
    "\n",
    "In Autodock first a grid is created on the entire protein or binding site of the protein. Different atoms of the possible ligand (C, N,O, S, H) are considered as probe atoms roll over on the surface of the protein within the grid, and interaction energy between the atoms for each grid point is calculated and stored in grid files.\n",
    "\n",
    "<center><img src=\"images/fig7_mol_grid.png\" width=400/>\n",
    "\n",
    "Secondly, the conformational space available for ligand-receptor system is explored using Autodock and scoring is performed. For generating different poses or shapes of the molecule (conformational search), Autodock adopts a Genetic Algorithm. Ligand translation, rotation, and configuration variables constitute the genes. The energy scoring function determines fitness. If the ligand-receptor interaction energy is positive, the conformation or pose is removed; if the ligand-receptor interaction energy is negative, the pose is passed over to the next generation (fitness). The figure illustrates ligand conformational exploration during docking, where diverse poses (shown as yoga positions) represent the ligand's flexibility. AutoDock uses a Genetic Algorithm (GA) to adjust ligand translation, rotation, and configuration, scoring each pose based on interaction energy with the receptor. Positive energy (unfavorable binding) discards the pose, while negative energy (favorable binding) advances it to the next generation. The process refines poses iteratively, selecting the optimal fit (final pose) with the best interaction energy for receptor binding.\n",
    "<center><img src=\"images/fig8_mol_poses.png\" width=600/>\n",
    "    \n",
    "The empirical scoring function is used to calculate the ligand-receptor interaction fit. The figure illustrates the Genetic Algorithm used in ligand docking. Initial ligand poses (parents) are evaluated for binding energy, with unfavorable poses (positive energy) removed. Favorable poses (negative energy) are recombined and mutated to generate new conformations (children). The process iterates through generations, refining ligand poses to identify the conformation with the lowest binding energy and optimal receptor fit.\n",
    "<center><img src=\"images/fig9_empirical_scoring.png\" width=500/>\n",
    "\n",
    "Change in free energy upon binding is used as a criterion for the selection of low-energy structures in the docking pose and is calculated using the following equation:\n",
    "```math\n",
    "ΔG=-RTlnKd\n",
    "```\n",
    "<center><img src=\"images/fig10_energies.png\" width=500/>\n",
    "    \n",
    "Visually, the free energy change between solvated and bound state  is calculated. The figures show how the energy changes when a ligand binds to a protein. In the unbound state, both the ligand and protein are surrounded by water (solvent), which contributes to their energy. When the ligand binds to the protein, some of the water is pushed away, and new interactions form between the ligand and the protein, like hydrogen bonds or van der Waals forces. The free energy change (\n",
    "Δ\n",
    "𝐺\n",
    "ΔG) is the difference in energy between the bound and unbound states. A negative\n",
    "Δ\n",
    "𝐺\n",
    "ΔG means the binding is strong and favorable. This process explains how ligands and proteins interact energetically.\n",
    "<center><img src=\"images/fig11_energy_changes.png\" width=500/>"
   ]
  },
  {
   "cell_type": "markdown",
   "metadata": {
    "id": "Om4Qa1s-PIWs"
   },
   "source": [
    "To learn more about Autodock refer to the article from [Morris et al. (2009)](https://pubmed.ncbi.nlm.nih.gov/19399780/)"
   ]
  },
  {
   "cell_type": "markdown",
   "metadata": {
    "id": "CElgjgoTVu3c"
   },
   "source": [
    "-------------\n",
    "# 📊 Tutorials\n",
    "## In these tutorials, we will use FTMAP, AutoDock, and PyMOL to guide you through <u>**six**</u> applied activities to:\n",
    "- Familiarize you with binding site identification using FTMAP\n",
    "- Conducting grid calculations\n",
    "- Use Autodock for ligand:receptor docking\n",
    "\n",
    "## Before you begin:\n",
    "- Run PyMOL and Autodock GUIs by following the directions provided in the Submodule 0 notebook, provided here: [start_gui-server](../submodule0_pymol_setup/start-gui-server.ipynb)\n",
    "\n",
    "## 🌟 **Activity 1: Before Docking - Analyzing and Preparing the HIV Protease Enzyme for Binding Site Analysis Using PyMOL**\n",
    "### **Background on binding sites**\n",
    "In the case of enzymes, the binding site of substrate in the enzyme is known. In some cases, the binding site on the protein is not known. In such cases, we have to predict the possible binding site. This activity involves identifying and preparing the binding site of the HIV protease enzyme using PyMOL. It focuses on removing the ligand and other unwanted molecules, then saving the cleaned protein structure for further docking or analysis.\n",
    "\n",
    "### **Objectives**\n",
    "1. Identify the binding site of HIV protease enzyme using PyMOL.\n",
    "2. Remove the ligand and prepare the protein structure for binding site analysis.\n",
    "3. Save the cleaned protein structure in PDB format.\n",
    "\n",
    "### **Steps to Perform Activites**\n",
    "#### **Step 1. Download the Protein Structure**\n",
    "1. Type the following command in PyMOL to fetch the HIV protease enzyme structure: <br>\n",
    "     `PyMol> fetch 1QBR, async=0`\n",
    "\n",
    "#### **Step 2. Display the Sequence**\n",
    "1. Set display to sequence view:<br>\n",
    "    `PyMol> set seq_view, 1`\n",
    "\n",
    "#### **Step 3. Identify and Remove the Ligand and Unwanted Molecules (Water and Solvents)**\n",
    "1. Type the following command in PyMOL to remove ligand (XV6), water, and solvents: <br>\n",
    "     `PyMol> remove resn XV6`\n",
    "     `PyMol> remove solvent`\n",
    "\n",
    "#### **Step 4. Ensure Only Protein is Displayed**\n",
    "1. Type the following command in PyMOL to display protein only: <br>\n",
    "     `PyMol> hide everything` <br>\n",
    "     `PyMol> show cartoon`\n",
    "\n",
    "#### **Step 5. Export the Cleaned Protein Structure**\n",
    "1. Save the structure as a *.pdb* file: <br>\n",
    "    `PyMol> save hivbinding.pdb`\n",
    "\n",
    "### **Alternative Method for Steps 1-5 - Write and Load PML Script**"
   ]
  },
  {
   "cell_type": "code",
   "execution_count": null,
   "metadata": {
    "id": "Mm32jkF9PIWx"
   },
   "outputs": [],
   "source": [
    "# PML Script: Proper Docking Visualization\n",
    "## run this code cell to write .pml script file and run analysis outlined step-by-step above\n",
    "## Once you write the file it can be run in the PyMOL GUI one of two ways:\n",
    "##    1. Select file run script and then the pml script within PyMOL -or-\n",
    "##    2. Set your directory into the folder and then run: pymol> @script.pml\n",
    "\n",
    "with open(\"2.2_docking_protein_ligand_analysis.pml\", \"w\") as scriptout:\n",
    "    scriptout.write(\"# Step 1: Fetch the Protein Structure\\n\")\n",
    "    scriptout.write(\"fetch 1QBR, receptor, async=0\\n\")  # Fetch receptor protein (HIV Protease)\n",
    "\n",
    "    scriptout.write(\"# Step 2: Identify and Remove the Ligand and Unwanted Molecules \\n\")\n",
    "    scriptout.write(\"remove resn XV6\\n\")  # remove ligand\n",
    "    scriptout.write(\"remove solvent\\n\")  # remove solvent\n",
    "\n",
    "    scriptout.write(\"# Step 3: Ensure Only Protein is Displayed\\n\")\n",
    "    scriptout.write(\"hide everything, all\\n\")\n",
    "    scriptout.write(\"show cartoon\\n\")\n",
    "\n",
    "    scriptout.write(\"# Step 4: Export the Cleaned Protein Structure\\n\")\n",
    "    scriptout.write(\"save Structural-Biology-and-Drug-Discovery/submodule2_docking_protein_interactions/data/hivbinding.pdb\\n\")  # save cleaned protein structure"
   ]
  },
  {
   "cell_type": "markdown",
   "metadata": {
    "id": "3BZQVzLXPIW0"
   },
   "source": [
    "### **Outcome**\n",
    "- You now have a cleaned PDB file (`hivbinding.pdb`) containing only the HIV protease receptor.\n",
    "- This structure is ready for further analysis, including docking or visualization of the binding site.\n",
    "\n",
    "---------------------"
   ]
  },
  {
   "cell_type": "markdown",
   "metadata": {
    "id": "_BnuAa-dXBmI"
   },
   "source": [
    "## 🌟 **Activity 2: Identifying Binding Sites on HIV Protease Using FTMap**\n",
    "\n",
    "This activity guides you through the process of using the FTMap server to identify potential binding sites on the HIV protease receptor. It involves analyzing the results in PyMOL, comparing predicted binding sites with the crystal structure, and optionally using command mode for automation.\n",
    "\n",
    "### **Objectives**\n",
    "- Use FTMap to predict potential binding sites on the HIV protease receptor.\n",
    "- Visualize and compare binding site predictions in PyMOL.\n",
    "- Understand the correlation between predicted binding sites and crystal structure.\n",
    "\n",
    "### **Steps to Perform Activity**\n",
    "<div class=\"alert alert-block alert-warning\"> <b>ATTENTION:</b> Steps 1-3 outline the process for setting up an account and running a job using FTMAP, however, these steps are provided for informational purposes and are optional. The output file(s) have been provided for downstream analysis within the data directory. If you do not plan to run the FTMAP job please begin with Step 4</a>. </div>\n",
    "\n",
    "#### **Step 1. Access FTMap [OPTIONAL]**\n",
    "1. Go to the FTMap website: [FTMap Server](https://ftmap.bu.edu/).\n",
    "2. Create an account or log in.\n",
    "3. Alternatively, use the option to run FTMap without creating an account.\n",
    "\n",
    "#### **Step 2. Set Up and Run the Job [OPTIONAL]**\n",
    "1. Upload the Protein Structure using the cleaned PDB file from the previous activity (e.g., `hivbinding.pdb`).\n",
    "2. Enter a job name (e.g., `HIV_Protease_Binding_Site`).\n",
    "3. Click *MAP* to submit the job.\n",
    "\n",
    "#### **Step 3. Analyze Results [OPTIONAL]**\n",
    "1. Once FTMap completes the job, download the results in PDB format (`ftmap*.pdb`) or PyMOL session file (`ftmap*.pse`).\n",
    "2. These files contain solvent molecule clusters highlighting predicted binding pockets.\n",
    "\n",
    "#### **Step 4. Visualize in PyMOL**\n",
    "1. Load the protein and FTMap results. <br>\n",
    "    `PyMOL> load hivbinding.pdb, receptor`<br>\n",
    "    `PyMOL> load ftmap*.pdb, ftmap_results`\n",
    "    - Observe solvent molecules clustering in potential binding pockets.\n",
    "    - You may see multiple pockets, indicating possible binding sites.\n",
    "\n",
    "#### **Step 5. Compare with Crystal Structure**\n",
    "1. Open the original crystal structure:<br>\n",
    "    `PyMOL> fetch 1QBR, original`<br>\n",
    "2. Align the original structure with FTMap results:<br>\n",
    "   `PyMOL> align ftmap_results, original`\n",
    "3. Highlight predicted binding sites:\n",
    "    `PyMOL> show spheres, ftmap_results`<br>\n",
    "    `PyMOL> color red, ftmap_results`<br>\n",
    "   - Check whether the predicted binding sites overlap with the original ligand's position in the crystal structure.\n",
    "\n",
    "#### **Step 6. Save the Algned Structure**\n",
    "1. Save .pdb file:<br>\n",
    "    `PyMOL> save aligned_ftmap.pdb`\n",
    "\n",
    "### **Alternative Method for Steps 1-6 - Write and Load PML Script**"
   ]
  },
  {
   "cell_type": "code",
   "execution_count": null,
   "metadata": {
    "id": "K2nMQxdLPIW4"
   },
   "outputs": [],
   "source": [
    "# PML Script: Proper Docking Visualization\n",
    "## run this code cell to write .pml script file and run analysis outlined step-by-step above\n",
    "## Once you write the file it can be run in the PyMOL GUI one of two ways:\n",
    "##    1. Select file run script and then the pml script within PyMOL -or-\n",
    "##    2. Set your directory into the folder and then run: pymol> @script.pml\n",
    "\n",
    "with open(\"2.2_binding_site_identification.pml\", \"w\") as scriptout:\n",
    "    scriptout.write(\"# Step 1: Load the Receptor Protein and FTMAP Results Files\\n\")\n",
    "    scriptout.write(\"load hivbinding.pdb, receptor\\n\")  # load receptor protein file\n",
    "    scriptout.write(\"load ftmap*.pdb\\n\")  # load ftmap results file\n",
    "\n",
    "    scriptout.write(\"# Step 2: Compare with Crystal Structure\\n\")\n",
    "    scriptout.write(\"fetch 1QBR, original\\n\")  # Open the original crystal structure\n",
    "    scriptout.write(\"align ftmap_results, original\\n\")  # Align the original structure with FTMap results\n",
    "    scriptout.write(\"show spheres, ftmap_results\\n\")  # Highlight predicted binding sites\n",
    "    scriptout.write(\"color red, ftmap_results\\n\")  # Highlight predicted binding sites\n",
    "\n",
    "    scriptout.write(\"# Step 3: Save the Algned Sructure\\n\")\n",
    "    scriptout.write(\"save Structural-Biology-and-Drug-Discovery/submodule2_docking_protein_interactions/data/aligned_ftmap.pdb\")  # save as .pdb file"
   ]
  },
  {
   "cell_type": "markdown",
   "metadata": {
    "id": "i8djzIfgZQAK"
   },
   "source": [
    "<center><img src=\"images/fig12_mol_example.png\" width=800 /><br>"
   ]
  },
  {
   "cell_type": "markdown",
   "metadata": {
    "id": "fA-KUWC9PIW8"
   },
   "source": [
    "### **Outcome**\n",
    "- You will have identified potential binding sites on the HIV protease receptor.\n",
    "- Visualized and compared these sites with the crystal structure using PyMOL.\n",
    "- Optionally, automated visualization and alignment using PyMOL commands.\n",
    "\n",
    "### **Key Observations**\n",
    "- Solvent molecules in FTMap results cluster in binding pockets.\n",
    "- Multiple predicted pockets may indicate alternative binding sites.\n",
    "- Comparing with the crystal structure helps validate predictions.\n",
    "\n",
    "<div class=\"alert alert-block alert-info\"> <b>INFO:</b> While FTMap primarily operates through its web interface, you can script tasks like uploading and processing files by interacting with its API (if available). Refer to the FTMap GitHub documentation (https://github.com/labimm/DRUGpy) for details on potential integrations.</a>. </div>\n",
    "\n",
    "_________________________________________"
   ]
  },
  {
   "cell_type": "markdown",
   "metadata": {
    "id": "XcKBdmxwaGc5"
   },
   "source": [
    "### 🌟 **Activity 3: Grid Calculations - Preparing the Receptor Protein and Ligand**\n",
    "In this activity, you will prepare the receptor protein and ligand separately from the HIV-1 Protease structure (PDB ID: **1QBR**) using PyMOL. The receptor and ligand files will be used later for docking.\n",
    "\n",
    "### **Objectives**\n",
    "- Prepare ligand and receptor proteins for Autodock.\n",
    "\n",
    "### **Steps to Complete Activity**\n",
    "#### **Step 1. Prepare the Receptor Protein**\n",
    "1. In PyMOL GUI, load the hivbinding file created during Activity 1: <br>\n",
    "    `PyMOL> load hivbinding.pdb`\n",
    "\n",
    "2. Re-save file as the Receptor Protein: <br>\n",
    "   `PyMOL> save hivreceptor.pdb`\n",
    "\n",
    "3. Clear PyMOL for Next Steps:<br>\n",
    "   `PyMOL> reinitialize`"
   ]
  },
  {
   "cell_type": "markdown",
   "metadata": {
    "id": "I1PCyo1dPIXA"
   },
   "source": [
    "#### **Step 2. Prepare the Ligand**\n",
    "1. Reload the Original Protein Structure:<br>\n",
    "   `PyMOL> fetch 1QBR`\n",
    "\n",
    "2. Select the entire protein sequence except *XV6*:<br>\n",
    "    `PyMol> set seq_view, 1` <br>\n",
    "    `PyMol> remove not resn XV6` <br>\n",
    "    `PyMol> remove solvent`\n",
    "3. Save the Ligand:<br>\n",
    "   `PyMOL> save hivligand.pdb`\n",
    "    - Both the receptor (`hivreceptor.pdb`) and ligand (`hivligand.pdb`) are now ready for docking or further analysis.\n",
    "\n",
    "### **Alternative Method for Step 2 - Write and Load PML Script**"
   ]
  },
  {
   "cell_type": "code",
   "execution_count": null,
   "metadata": {
    "executionInfo": {
     "elapsed": 386,
     "status": "ok",
     "timestamp": 1736175125634,
     "user": {
      "displayName": "Ojasvi Dutta",
      "userId": "10341435109704356172"
     },
     "user_tz": -330
    },
    "id": "KkzCBTDCGZV3"
   },
   "outputs": [],
   "source": [
    "# PML Script: Proper Docking Visualization\n",
    "## run this code cell to write .pml script file and run analysis outlined step-by-step above\n",
    "## Once you write the file it can be run in the PyMOL GUI one of two ways:\n",
    "##    1. Select file run script and then the pml script within PyMOL -or-\n",
    "##    2. Set your directory into the folder and then run: pymol> @script.pml\n",
    "\n",
    "with open(\"2.2_ligand_protein_prep.pml\", \"w\") as scriptout:\n",
    "    scriptout.write(\"# Step 1. Prepare Ligand\\n\")\n",
    "    scriptout.write(\"fetch 1QBR, async=0\\n\")  # load receptor protein file\n",
    "    scriptout.write(\"remove not resn XV6\\n\")  # remove everything BUT ligand\n",
    "    scriptout.write(\"save Structural-Biology-and-Drug-Discovery/submodule2_docking_protein_interactions/data/hivligand.pdb\\n\")  # save cleaned receptor file\n"
   ]
  },
  {
   "cell_type": "markdown",
   "metadata": {
    "id": "IxMbj1LGPIXC"
   },
   "source": [
    "### **Important Notes**\n",
    "- *File Integrity*: Ensure that you save the receptor as `hivreceptor.pdb` and the ligand as `hivligand.pdb`.\n",
    "- *Error Handling*: If the ligand or protein is deleted by mistake, restart with the original PDB file (`1QBR`).\n",
    "- *Accuracy*: Be precise when selecting the protein sequence around the ligand to avoid accidentally deleting XV6.\n",
    "__________________________________________________________________"
   ]
  },
  {
   "cell_type": "markdown",
   "metadata": {
    "id": "SWURoA5EbMmZ"
   },
   "source": [
    "## 🌟 **Activity 4: Using AutoDock with MGLTools Interface for Docking Ligand to the Receptor**\n",
    "\n",
    "In docking, a *grid* defines the binding site region on the receptor protein for ligand docking. This activity involves creating a grid for the docking calculation and preparing the ligand and receptor files using AutoDock MGLTools. Following the completion of this activity you will have conducted the grid creation and ligand preparation steps that are required for docking and can proceed to the docking step to simulate ligand binding to the receptor.\n",
    "\n",
    "### **Objectives**\n",
    "- Provide an introduction into how to use AutoDock MGLTools for Ligand : Receptor docking.\n",
    "\n",
    "### **Steps to Complete Activity**\n",
    "### **4.1 - Preparing the Receptor**\n",
    "#### **Step 1. Open the Receptor File**\n",
    "1. Launch *AutoDock MGLTools*.\n",
    "2. Go to: <br>\n",
    "    `File > Read Molecule`\n",
    "3. Open `hivreceptor.pdb` to display the protein molecule on the screen\n",
    "\n",
    "#### **Step 2. Modify the Receptor**\n",
    "1. Go to: <br>\n",
    "    `Grid > Select Molecule`\n",
    "2. A modified molecule appears with an option to save as a `.pdbqt` file\n",
    "3. Save the file as `hivreceptor.pdbqt`\n",
    "\n",
    "<center><img src=\"images/fig13_autogrid_dashboard.png\" width=1200 /><br>"
   ]
  },
  {
   "cell_type": "markdown",
   "metadata": {
    "id": "-HsgQkXqgdB-"
   },
   "source": [
    "#### **Step 3. Set Map Types**\n",
    "1. Navigate to: <br>\n",
    "    `Grid > Set Map Types`\n",
    "2. Select `Directly` and click `Accept`\n",
    "\n",
    "#### **Step 4. Create the Grid Box**\n",
    "1. Go to: <br>\n",
    "    `Grid > GridBox`\n",
    "    - A window pops up for configuring the grid box.\n",
    "2. Adjust the Grid Box:\n",
    "   - Enclose the entire protein by setting the maximum number of points in the X, Y, and Z directions to <u>126</u> using the wheel.\n",
    "   - Alternatively, increase the *Spacing* to `1 Å` to enlarge the grid.\n",
    "   - If targeting a specific binding site (e.g., predicted from FTMap), adjust the box accordingly.\n",
    "3. Save the grid configuration (on the pop-up window): <br>\n",
    "    `File > Close Saving Current`\n",
    "\n",
    "<center><img src=\"images/fig14_autogrid_2.png\" width=1000 /><br>"
   ]
  },
  {
   "cell_type": "markdown",
   "metadata": {
    "id": "IrZzCgROgwwg"
   },
   "source": [
    "#### **Step 5. Save the Grid Parameter File (GPF)**\n",
    "1. Go to: <br>\n",
    "    `Grid > Output > Save GPF`\n",
    "2. Save the file as `hivreceptor.gpf`.\n",
    "3. If needed, edit the parameter file by navigating to: <br>\n",
    "   `Grid > Edit GPF`\n",
    "\n",
    "#### **Step 6. Clean Up Workspace**\n",
    "1. To prepare for ligand processing, navigate to: <br>\n",
    "    `Edit > Delete Molecule`\n",
    "2. Delete the receptor molecule from the workspace.\n",
    "\n",
    "### **4.2 - Preparing the Ligand**\n",
    "#### **Step 1. Open the Ligand File**\n",
    "- Go to `Ligand > Input > Open` and select `hivligand.pdb`.\n",
    "- The ligand will display with a pop-up window. Click `OK`\n",
    "\n",
    "#### **Step 2. Define Torsions**\n",
    "1. Navigate to `Ligand > Torsion Tree > Choose Torsions`:\n",
    "   A window pops up highlighting rotatable bonds. Red bonds indicate non-rotatable bonds, while green bonds are rotatable.\n",
    "2. Adjust torsions as needed:\n",
    "   Specify rotatable bonds to explore ligand flexibility.\n",
    "3. Click `Done`.\n",
    "\n",
    "#### **Step 3. Save the Ligand File**\n",
    "1. Save the prepared ligand as: `File Name`: `hivligand.pdbqt`.\n",
    "\n",
    "### **4.3 - Setting Up the Grid**\n",
    "\n",
    "#### **Step 1. Load the Receptor**\n",
    "1. Go to: <br>\n",
    "    `Grid > Macromolecule > Open` and load `hivreceptor.pdbqt`\n",
    "2. When prompted to keep charges, select `Keep Old Charges`\n",
    "\n",
    "#### **Step 2. Load the GPF File**\n",
    "1. Navigate to: <br>\n",
    "    `Grid > Open GPF` and select `hivreceptor.gpf`\n",
    "\n",
    "#### **Step 3. Calculating the Grid and Running AutoGrid**\n",
    "1. Go to: <br>\n",
    "    `Run > Run AutoGrid`:\n",
    "2. Select the `autogrid4` executable file.\n",
    "   - Use `hivreceptor.gpf` as the input file.\n",
    "   - Output file (`hivreceptor.glg`) is selected automatically.\n",
    "3. Click `Launch` to start the grid calculation:\n",
    "   - This <u>process can take 1–30 min</u> depending on the computational power and grid size.\n",
    "   - *Note: Test whether this can be run on Google Cloud. If not, it must be done locally.*\n",
    "\n",
    "<center><img src=\"images/fig15_autodocktools.png\" width=1000 /><br>"
   ]
  },
  {
   "cell_type": "markdown",
   "metadata": {
    "id": "qFpc7NF1PIXF"
   },
   "source": [
    "#### **Step 4. Verify the Grid Calculation**\n",
    "1. Open the output file (`hivreceptor.glg`).\n",
    "2. Scroll to the end of the file: Confirm the calculation completed successfully.\n",
    "\n",
    "### **Important Notes**\n",
    "- Ensure all `.pdbqt` files are correctly prepared for docking.\n",
    "- Verify grid parameters for accuracy (grid box size, map types, etc.).\n",
    "- Computational power impacts the time required for calculations:\n",
    "  - For cloud-based execution, configure and test AutoDock compatibility with Google Cloud.\n",
    "_________________________________________________"
   ]
  },
  {
   "cell_type": "markdown",
   "metadata": {
    "id": "gqbnmLO-c9sV"
   },
   "source": [
    "## 🌟 **Activity 5: Docking Using AutoDock with MGLTools Interface**\n",
    "This activity involves docking the ligand to the receptor using AutoDock and MGLTools. You will configure docking parameters, save the docking files, and **<u>optionally</u>** run the docking calculations. By completing these steps, you will have successfully docked the ligand to the receptor and generated docking results for further analysis.\n",
    "\n",
    "### **Step 1. Docking Setup**\n",
    "1. Open *AutoDock MGLTools*.\n",
    "2. Load the receptor by navigating to:\n",
    "    `Docking > Macromolecule > Set Rigid File Name`\n",
    "3. Select *hivreceptor.pdbqt* as the receptor file.\n",
    "\n",
    "#### **Step 2. Load the Ligand**\n",
    "1. Navigate to: <br>\n",
    "    `Docking > Ligand > Open`\n",
    "2. Select `hivligand.pdbqt` as the ligand file.\n",
    "3. When the pop-up window appears, click `Accept` to proceed.\n",
    "\n",
    "#### **Step 3. Configure Search Parameters**\n",
    "1. Navigate to: <br>\n",
    "    `Docking > Search Parameters`\n",
    "2. Modify the following settings:\n",
    "     - *Number of GA (Genetic Algorithm) Runs*: `10`.\n",
    "     - *Maximum Number of Evaluations*: `25 thousand`.\n",
    "3. Click `Accept`.\n",
    "\n",
    "#### **Step 4. Configure Docking Parameters**\n",
    "1. Navigate to: <br>\n",
    "    `Docking > Docking Parameters`\n",
    "2. Review and click `Accept` to proceed.\n",
    "\n",
    "#### **Step 5. Save the Docking Parameter File (DPF)**\n",
    "1. Navigate to: <br>\n",
    "    `Docking > Output > Lamarckian GA (1.2)`\n",
    "2. Save the docking parameter file as `hivreceptordock.dpf`.\n",
    "\n",
    "#### **Step 6. Edit and Verify the DPF File**\n",
    "1. Open the `.dpf` file to review the input parameters.\n",
    "   - Confirm the receptor, ligand, and other settings are correctly defined.\n",
    "   - Modify parameters if required.\n",
    "\n",
    "#### **Step 7. Running the Docking Job [OPTIONAL]**\n",
    "<div class=\"alert alert-block alert-warning\"> <b>Attention:</b> On a standard laptop the estimated runtime for this step is approximately <u>10–16 hours</u>. This runtime is based on the search parameters we defined above (i.e., <i>50 Runs</i> with <i>10 Million Energy Evaluations</i>). Due to the long runtime for this step we have marked it as <b>[optional]</b> and have provided you with the `hivreceptordock.dlg` file to allow you to skip the step and complete the activity. Faster results can be achieved by decreasing the search parameter values and or increasing computational resources (if running module on the cloud). If you are not running this step, <b>skip to Activity 6</b>.</a>. </div>\n",
    "\n",
    "1. Navigate to: <br>\n",
    "    `Run > AutoDock`\n",
    "2. Configure the run by setting the following parameter values:<br>\n",
    "   `Executable` : Select `autodock4`<br>\n",
    "   `Parameter File Name` : Choose `hivreceptordock.dpf`<br>\n",
    "   `Output File` should automatically set to `hivreceptordock.dlg`\n",
    "3. Click *Launch* to start the docking process.\n",
    "    - Lookout for errors. If there is an issue with the parameters. The formatting pop-up window will either not appear or will disappear immediately. If this happens review the `.dpf` file for errors and try again.\n",
    "\n",
    "4. Review the `.dlg` output file `hivreceptordock.dlg`, which should contain:\n",
    "   - Binding energy values.\n",
    "   - Binding conformations.\n",
    "   - Detailed results for each genetic algorithm run.\n",
    "------------"
   ]
  },
  {
   "cell_type": "markdown",
   "metadata": {
    "id": "4lAQS6XYPIXG",
    "tags": []
   },
   "source": [
    "## 🌟 **Activity 6: Analysis of Docking Results**\n",
    "This activity guides you through analyzing the docking results using AutoDock and visualizing receptor-ligand interactions in PyMOL. You will evaluate low-energy docked conformations, save the results, and compare the docked structure with the crystal structure. This ensures a comprehensive docking analysis and structural comparison.\n",
    "\n",
    "### **Objectives:**\n",
    "- Analyze conformations, view energies, and save docked structures using AutoDock.\n",
    "- Compare and visualize structures in PyMOL.\n",
    "\n",
    "#### **Step 1. Open the Docking Output File in AutoDock**\n",
    "1. The output file type for docking calculations is `*.dlg` (in this case, `hivreceptordock.dlg`).\n",
    "2. To open the file in AutoDock, navigate to: <br>\n",
    "   `Analysis > Docking > Open`.\n",
    "3. Select the file `hivreceptordock.dlg` and click `OK`.\n",
    "\n",
    "#### **Step 2. Load the Receptor in AutoDock**\n",
    "1. In AutoDock, open the macromolecule by navigating to: <br>\n",
    "   `File > Read Molecule > hivreceptor.pdbqt`.\n",
    "   - The protein and ligand are displayed on the screen.\n",
    "\n",
    "#### **Step 3. Analyze Docked Conformations in AutoDock**\n",
    "1. In AutoDock navigate to: <br>\n",
    "   `Analyse > Conformation > Play`, ranked by energy.\n",
    "2. In the popw-up window, click `&` to display conformation information.\n",
    "3. Click `Show Info` to view docking energy and inhibition constant information.\n",
    "4. Use the play menu to display docked conformations and enter `1, 2, 3, …` to display conformations ranked by energy (`1` being the lowest-energy conformation).\n",
    "\n",
    "#### **Step 4. Evaluate and Save Low-Energy Conformations in AutoDock**\n",
    "1. Analyze 5 low-energy conformations for final representation.\n",
    "    - *Note*: AutoDock calculations have an error of ±2 kcal.\n",
    "2. Use *Play, ranked by energy* to identify and display all structures within 2 kcal of the lowest energy conformation.\n",
    "3. Select the current conformation and click `Write Current`.\n",
    "4. Save the first low-energy structure as `hivligdock1.pdbqt`.\n",
    "5. Next, display structure 2 using the play menu and save the second low-energy structure as `hivligdock2.pdbqt`.\n",
    "\n",
    "CONTINUE THIS FOR FIRST FIVE LOW ENERGY STRUCTURES. YOU WILL SAVE FIVE LOW ENERGY STRUCTURES>\n",
    "\n",
    "#### **Step 5. Compare the Docked Structure with the Crystal Structure in PyMOL**\n",
    "1. Open PyMOL and execute the following commands to load the receptor, docked ligand, and crystal structure:<br>\n",
    "    `PyMOL> load hivreceptor.pdbqt`<br>\n",
    "    `PyMOL> load hivligdock1.pdbqt`<br>\n",
    "    `PyMOL> load 1QBR.pdb`\n",
    "2. Color and label the structures for comparison:<br>\n",
    "    `PyMOL> color magenta, 1QBR` <br>\n",
    "    `PyMOL> color cyan, hivligdock1`\n",
    "\n",
    "3. Display receptor as cartoon and docked ligand as sticks: <br>\n",
    "    `PyMOL> show cartoon, hivreceptor` <br>\n",
    "    `PyMOL> show sticks, hivligdock1`\n",
    "\n",
    "4. Highlight the binding site for comparison:<br>\n",
    "    `PyMOL> select binding_site, byres hivreceptor within 5 of hivligdock1` <br>\n",
    "    `PyMOL> show surface, binding_site` <br>\n",
    "    `PyMOL> color red, binding_site`\n",
    "\n",
    "### **Key Observation(s):**\n",
    "- There may be slight differences in the overlay of the docked pose and the crystal structure due to the flexibility of the docking algorithm and the dynamic nature of the protein-ligand interaction.\n",
    "\n",
    "### **Alternative Method for Activity 6 - Write and Load PML Script**"
   ]
  },
  {
   "cell_type": "code",
   "execution_count": null,
   "metadata": {
    "id": "M1Onpdj7PIXH"
   },
   "outputs": [],
   "source": [
    "# PML Script: Proper Docking Visualization\n",
    "## run this code cell to write .pml script file and run analysis outlined step-by-step above\n",
    "## Once you write the file it can be run in the PyMOL GUI one of two ways:\n",
    "##    1. Select file run script and then the pml script within PyMOL -or-\n",
    "##    2. Set your directory into the folder and then run: pymol> @script.pml\n",
    "\n",
    "with open(\"pml_scripts/2.2_docking_results_analysis.pml\", \"w\") as scriptout:\n",
    "    scriptout.write(\"# Step 1: Open PyMOL and execute the following commands to load the receptor, docked ligand, and crystal structure\\n\")\n",
    "    scriptout.write(\"load hivreceptor.pdbqt\\n\")  # load receptor file\n",
    "    scriptout.write(\"load hivligdock1.pdbqt\\n\")  # load ligand\n",
    "    scriptout.write(\"load 1QBR.pdb\\n\")  # load crystal structure file\n",
    "\n",
    "    scriptout.write(\"# Step 2: Color and label the structures for comparison\\n\")\n",
    "    scriptout.write(\"color magenta, 1QBR\\n\")  # color crystal structure\n",
    "    scriptout.write(\"color cyan, hivligdock1\\n\")  # color ligand docking structure\n",
    "\n",
    "    scriptout.write(\"# Step 3: Display receptor as cartoon and docked ligand as sticks\\n\")\n",
    "    scriptout.write(\"show cartoon, hivreceptor\\n\")\n",
    "    scriptout.write(\"show sticks, hivligdock1\\n\")\n",
    "\n",
    "    scriptout.write(\"# Step 4: Highlight the binding site for comparison\\n\")\n",
    "    scriptout.write(\"select binding_site, byres hivreceptor within 5 of hivligdock1\\n\")\n",
    "    scriptout.write(\"show surface, binding_site\\n\")\n",
    "    scriptout.write(\"color red, binding_site\\n\")"
   ]
  },
  {
   "cell_type": "markdown",
   "metadata": {
    "id": "1kcvW2G-PIXI"
   },
   "source": [
    "---------------\n",
    "## Conclusions\n",
    "If you have successfully completed the tutorials in this module, you have learned one of the major steps in the Drug Discovery Module that is helpful in SubModule 3. At this stage you know how to find the possible binding site of a ligand on the 3D structure of a protein and prepare the liagdn and receptor for docking calculations and analyze the results of docking and generate 5 low energy structures of ligand-receptor interactiosn usign PyMol. With this you are ready to go to Submodule 3 where you apply your knowledge to Drug design assignments.\n",
    "## Clean Up\n",
    "<div class=\"alert alert-block alert-warning\"> <b>Attention:</b> Remember to shutdown VM and delete any relevant resources</a>. </div>"
   ]
  }
 ],
 "metadata": {
  "colab": {
   "provenance": []
  },
  "environment": {
   "kernel": "conda-base-py",
   "name": "workbench-notebooks.m126",
   "type": "gcloud",
   "uri": "us-docker.pkg.dev/deeplearning-platform-release/gcr.io/workbench-notebooks:m126"
  },
  "kernelspec": {
   "display_name": "Python 3 (ipykernel)",
   "language": "python",
   "name": "conda-base-py"
  },
  "language_info": {
   "codemirror_mode": {
    "name": "ipython",
    "version": 3
   },
   "file_extension": ".py",
   "mimetype": "text/x-python",
   "name": "python",
   "nbconvert_exporter": "python",
   "pygments_lexer": "ipython3",
   "version": "3.10.15"
  }
 },
 "nbformat": 4,
 "nbformat_minor": 4
}
