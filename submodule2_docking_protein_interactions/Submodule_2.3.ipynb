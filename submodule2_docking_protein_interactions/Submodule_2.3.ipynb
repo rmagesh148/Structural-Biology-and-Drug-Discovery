{
 "cells": [
  {
   "cell_type": "markdown",
   "metadata": {
    "id": "soPr8VUoJepE"
   },
   "source": [
    "# SUBMODULE 2.3 - Generating 3D Ligand Structures and Protein-Protein docking\n",
    "\n",
    "### **Learning Objectives:**\n",
    "- Learn how to prepare the 3D structure of small molecule ligand drugs using sketching software.\n",
    "- Perform protein-protein docking and analyze the interaction surface of two proteins using ClusPro.\n",
    "\n",
    "### **Prerequisites:**\n",
    "- Familiarity with Pymol\n",
    "- Ability to sign up for ClusPro account (free)\n",
    "- Familiarity with protein sequence analysis and 3D structure comparison"
   ]
  },
  {
   "cell_type": "markdown",
   "metadata": {
    "id": "AQvfR7JvFB9h"
   },
   "source": [
    "## **Sketching and Generating 3D structure of a ligand**\n",
    "\n",
    "So far, we have looked at the docking of ligand to protein using the 3D structures available on protein data bank (PDB). The 3D structure for a new ligand, however, is not always available from the typical public databases. In cases such as these, if you want to create a new ligand and dock it to the protein of interest, the 3D ligand structure needs to be created. Here we will use the structure of Acetaminophen (shown below) as an example to show how an individual can create or sketch a new molecule and generate the 3D structure of the ligand molecule.\n",
    "\n",
    "<center><img src=\"images/fig16_acetaminophen_structure.png\" width=300 /><br>"
   ]
  },
  {
   "cell_type": "markdown",
   "metadata": {
    "id": "NmMm98yGH0yJ"
   },
   "source": [
    "## **Using Autodock when you have a ligand with reactive atoms.**\n",
    "\n",
    "Many drug molecules have reactive atoms, such as halogens, in their chemical structure. When your ligand contains halogens such as chlorine, bromine, iodine you need to create the Grid using ligand and receptor both. Most of the proteins do not have these atoms and if you create a grid using protein receptor as explained in the above example, docking calculations do not run as grid files for halogens are not found. The example below provides creating a grid in Autodock when you have halogens in the ligand. Once you create the grid with halogen atoms, docking calculations are similar to the one explained above.\n",
    "\n",
    "<center><img src=\"images/fig17_halogen_ligand.png\" width=300 /><br>"
   ]
  },
  {
   "cell_type": "markdown",
   "metadata": {
    "id": "UBFTbcmgI1Rn"
   },
   "source": [
    "## **Protein-Protein docking**\n",
    "Most of the docking methods used are for small molecule-protein docking. However, if you want to define the binding site of protein-protein interactions, you need protein docking methods since both proteins are large macromolecules. The docking of two proteins helps us to define the binding interface of two proteins and target protein-protein interaction inhibitors. Experimental methods such as X-ray crystallography and Cryo-electron microscopy are used to elucidate the structure of protein complexes. In many cases, the structure of individual proteins is known, and complex protein structures have to be modeled. Protein-protein docking methods are used to predict the structure of protein complexes. However, one must be cautious with the structure of complexes generated with such protein docking methods, as several possible binding modes are possible. If there is experimental information that can support a model, it should be evaluated and considered.\n",
    "Why do we need the protein-protein complex structure model?<br>\n",
    "\n",
    "Protein-protein interactions are very important in many physiological processes in the human body.  These interactions help carry out many cellular processes. Any deregulation in protein-protein interaction may result in disease states. One of the examples of protein-protein interactions is epidermal growth factor receptor (EGFR) interactions. There are four EGFRs, EGFR (HER1), HER2, HER3 and HER4.  These EGFR proteins form dimers upon ligand binding and carry out signaling for cell growth and differentiation. Any deregulation or overproduction of this pathway leads to the formation of many dimers, resulting in the disease state. In such cases, protein-protein interaction needs to be modulated or inhibited. One of the methods of drug design is protein-protein interaction inhibition. To design inhibitors of protein-protein interactions of EGFRs, we need knowledge of the interacting surface of proteins.\n",
    "\n",
    "## **Using ClusPro**\n",
    "In ClusPro, the ligand is rotated through a specified number (**n**) of rotations. For each rotation, the ligand is translated in the *x*, *y*, and *z* directions relative to the receptor on a grid. The translation with the *best score* for each rotation is selected.\n",
    "\n",
    "Among the *n rotations*, ClusPro selects *1,000 rotation/translation combinations* with the lowest scores as possible models of the protein-protein complex.\n",
    "\n",
    "To select the best model, use your knowledge of the two proteins and any experimental support to identify the best model. Typically you should start with the balanced model if prior knowledge is unavailable as per ClusPro default recommendations.\n",
    "\n",
    "For more details, visit the [ClusPro website](https://cluspro.org/login.php)\n"
   ]
  },
  {
   "cell_type": "markdown",
   "metadata": {
    "id": "zVCAox9cHNYw"
   },
   "source": [
    "-------------------\n",
    "\n",
    "# 📊 Tutorials\n",
    "In these tutorials, we will use the PyMOL, ClusPro, and other cheminformatic tools to work through <u>**three**</u> applied activities to:\n",
    "- Build a small molecule ligand when a pulic *.pdb* file is not available.\n",
    "- Learn the nuances of generating a grid for a molecule with reactive atoms.\n",
    "- Use ClusPro for Protein-Protein docking.\n",
    "\n",
    "## Before you begin:\n",
    "- Run the PyMOL GUI by following the directions provided in the Submodule 0 notebook, provided here: [pymol_notebook](../submodule0_pymol_setup/pymol_notebook.ipynb)\n",
    "- Register for a ClusPro account through their website - [ClusPro website](https://cluspro.org/login.php) **[OPTIONAL]**\n",
    "\n",
    "### 🌟 **Activity 1: Sketching Acetaminophen Molecule and Preparing for Docking**\n",
    "\n",
    "This acitivity involves creating a 3D structure of acetaminophen using an online cheminformatics tool and preparing it for docking studies.\n",
    "\n",
    "#### **Step 1. Access the Online Cheminformatics Tool**\n",
    "1. Open the [e-Drug 3D platform](https://chemoinfo.ipmc.cnrs.fr/LEA3D/drawonline.html)\n",
    "\n",
    "#### **Step 2. Sketch the Acetaminophen Molecule**\n",
    "1. Use the drawing tools to sketch the structure of acetaminophen (paracetamol).\n",
    "   - The Acetaminophen structure consists of:\n",
    "     - A benzene ring.\n",
    "     - A hydroxyl group (-OH) at one position.\n",
    "     - An amide group (-NHCOCH3) at another position.\n",
    "2. Click the *Convert to SDF* button to generate a 3D SDF (Structure Data File) of the molecule.\n",
    "\n",
    "#### **Step 3. Generate 3D Conformations**\n",
    "1. From the *3D Structure Window*, click *Generate 3D SDF*.\n",
    "   - You may provide options for generating multiple conformations if desired.\n",
    "2. Verify the 3D structure in the visualization panel.\n",
    "\n",
    "#### **Step 4. Download the Molecule**\n",
    "1. Click the `Download PDB` button in the tool to download the 3D structure in PDB format:\n",
    "2. Save the file as `acetaminophen.pdb`\n",
    "3. The downloaded `acetaminophen.pdb` file can now be used as a *ligand* for docking studies with your protein of interest.\n",
    "\n",
    "### **Alternative Method for Activity 1 - Use rdkit and py3Dmol to build acetaminophen structure from SMILES format and output as .pdb file**"
   ]
  },
  {
   "cell_type": "code",
   "execution_count": 1,
   "metadata": {
    "tags": []
   },
   "outputs": [],
   "source": [
    "#Install python libraries\n",
    "!pip install rdkit py3Dmol --quiet"
   ]
  },
  {
   "cell_type": "code",
   "execution_count": 11,
   "metadata": {
    "tags": []
   },
   "outputs": [],
   "source": [
    "#Import libraries\n",
    "from rdkit import Chem\n",
    "from rdkit.Chem import Draw\n",
    "from rdkit.Chem import AllChem\n",
    "from ipywidgets import interact,fixed,IntSlider\n",
    "import ipywidgets\n",
    "import py3Dmol"
   ]
  },
  {
   "cell_type": "code",
   "execution_count": null,
   "metadata": {
    "tags": []
   },
   "outputs": [],
   "source": [
    "#Convert SMILES formula of acetaminophen to 2D structure, and draw 2D structure\n",
    "smiles_acetaminophen = 'CC(=O)NC1=CC=C(C=C1)O' #SMILES format for acetaminophen\n",
    "acetaminophen = Chem.MolFromSmiles(smiles_acetaminophen) #convert acetaminophen SMILES format to chemical structure\n",
    "img_acetaminophen = Draw.MolToImage(acetaminophen) #create 2D image\n",
    "img_acetaminophen #view created 2D structure of acetminophen"
   ]
  },
  {
   "cell_type": "code",
   "execution_count": null,
   "metadata": {
    "tags": []
   },
   "outputs": [],
   "source": [
    "#The following functions will take the SMILES format of acetaminophen, build 3D coord, convert the 3D coords to PDB format, and export it as a .pdb file (acetaminophen_2.pdb)\n",
    "#The last function, smi2viewer, will also render a 3D visualization of acetaminophen that you can compare to the 2D structure you previously built above.\n",
    "\n",
    "def MolTo3DView(mol, size=(300, 300), style=\"stick\", surface=False, opacity=0.5):\n",
    "    assert style in ('line', 'stick', 'sphere', 'carton')\n",
    "    mblock = Chem.MolToMolBlock(mol)\n",
    "    viewer = py3Dmol.view()\n",
    "    viewer.addModel(mblock, 'mol')\n",
    "    viewer.setStyle({style:{}})\n",
    "    if surface:\n",
    "        viewer.addSurface(py3Dmol.SAS, {'opacity': opacity})\n",
    "    viewer.zoomTo()\n",
    "    return viewer\n",
    "\n",
    "def smi2conf(smiles):\n",
    "    '''Convert SMILES to rdkit.Mol with 3D coordinates'''\n",
    "    mol = Chem.MolFromSmiles(smiles)\n",
    "    if mol is not None:\n",
    "        mol = Chem.AddHs(mol)\n",
    "        AllChem.EmbedMolecule(mol)\n",
    "        AllChem.MMFFOptimizeMolecule(mol, maxIters=200)\n",
    "        return mol\n",
    "    else:\n",
    "        return None\n",
    "\n",
    "@interact\n",
    "def smi2viewer(smiles=smiles_acetaminophen):\n",
    "    try:\n",
    "        conf = smi2conf(smiles)\n",
    "        Chem.MolToPDBFile(conf, \"data/acetaminophen_2.pdb\")\n",
    "        return MolTo3DView(conf).show()\n",
    "    except:\n",
    "        return None"
   ]
  },
  {
   "cell_type": "markdown",
   "metadata": {},
   "source": [
    "<details>\n",
    "  <summary>Click to see Citation for Code</summary>\n",
    "    \n",
    "  ##### REFERENCE:\n",
    "  - Code for 3D rendering and conversion to PDB format was adapted from Lab 6 of the following [Github repository](https://github.com/pb3lab/ibm3202). \n",
    "  - The group's publication can also be found [here](https://pubs.acs.org/doi/10.1021/acs.jchemed.1c00022).\n",
    "\n",
    "</details>"
   ]
  },
  {
   "cell_type": "code",
   "execution_count": null,
   "metadata": {
    "tags": []
   },
   "outputs": [],
   "source": [
    "#Let's re-draw acetaminophen but this time from the .pdb file we just generated. When you run this code cell you should see the same 2D structure (may be rotated) that was produced previously. Compare and confirm they are the same.\n",
    "aceta_pdb = Chem.MolFromPDBFile('data/acetaminophen_2.pdb')\n",
    "img2_acetaminophen = Draw.MolToImage(aceta_pdb)\n",
    "img2_acetaminophen"
   ]
  },
  {
   "cell_type": "markdown",
   "metadata": {
    "id": "I9h0EWNxIKr6"
   },
   "source": [
    "--------------------\n",
    "## 🌟 **Activity 2: Generating Grid for Chlorine and Bromine Atoms**\n",
    "This activity involves using AutoGrid to create a grid specifically for chlorine and bromine atoms in a molecule, preparing the ligand and receptor for docking calculations and demonstrates how to include specific reactive atom types, such as chlorine and bromine, in grid generation for docking calculations using AutoGrid and AutoDock.\n",
    "\n",
    "### **Steps to Perform the Activity**\n",
    "\n",
    "#### **Step 1. Access the Online Cheminformatics Tool**\n",
    "1. Open the [e-Drug 3D platform](https://chemoinfo.ipmc.cnrs.fr/LEA3D/drawonline.html)\n",
    "\n",
    "#### **Step 2. Sketch the Acetaminophen Molecule**\n",
    "1. Use the drawing tools to sketch the structure shown above.\n",
    "2. Click the *Convert to SDF* button to generate a 3D SDF (Structure Data File) of the molecule.\n",
    "\n",
    "#### **Step 3. Generate 3D Conformations**\n",
    "1. From the *3D Structure Window*, click *Generate 3D SDF*.\n",
    "   - You may provide options for generating multiple conformations if desired.\n",
    "2. Verify the 3D structure in the visualization panel.\n",
    "\n",
    "#### **Step 4. Download the Molecule**\n",
    "1. Click the `Download PDB` button in the tool to download the 3D structure in PDB format:\n",
    "2. Save the file as `molecule1.pdb`\n",
    "\n",
    "#### **Step 5. Prepare the Ligand**\n",
    "1. Open the ligand file in AutoDock MGLTools by navigating to: <br>\n",
    "    `Ligand > Open > Molecule1.pdb`\n",
    "2. Save the ligand as a *PDBQT file*:<br>\n",
    "   `Ligand > Save > PDBQT`\n",
    "3. Save the file as `molecule1.pdbqt`\n",
    "\n",
    "#### **Step 6. Load the Receptor**\n",
    "1. Open the receptor file:<br>\n",
    "   `File > Open > hiv1receptor.pdbqt`\n",
    "    - Both ligand and receptor should now be displayed in the workspace.\n",
    "\n",
    "#### **Step 7. Create a Grid Box for Docking**\n",
    "1. Set Macromolecule by going to:<br>\n",
    "   `Grid > Macromolecule > Choose` and select `hiv1receptor.pdbqt`\n",
    "2. Set Map Types by navigating to:<br>\n",
    "   `Grid > Set Map Types > Directly` <br>\n",
    "   - Then, go to `Grid > Set Map Types > Choose Ligand` and select `molecule1.pdbqt`.\n",
    "3. Configure the Grid Box:<br>\n",
    "   `Grid > GridBox`\n",
    "   - Adjust the grid box dimensions and spacing to encompass the receptor and ligand binding site.\n",
    "4. Save the Grid Parameter File (GPF):<br>\n",
    "   `Grid > Output > Save GPF`\n",
    "5. Name the file `chlhivreceptor.gpf`.\n",
    "\n",
    "#### **Step 8. Check the Grid Parameter File**\n",
    "1. Navigate to:<br>\n",
    "   `Grid > Edit GPF`\n",
    "2. Verify that the parameter file includes entries for bromine (`Br`) and chlorine (`Cl`) atoms.\n",
    "\n",
    "#### **Step 9. Docking Calculations [OPTIONAL]**\n",
    "<div class=\"alert alert-block alert-warning\"> <b>Attention:</b> As previously stated, on a standard laptop, the estimated runtime for this step is <u>~10–16 hours</u>. Due to the long runtime for this step we have marked it as <b>[optional]</b>. Faster results can be achieved by decreasing the search parameter values and or increasing computational resources (if running module on the cloud).</div>\n",
    "    \n",
    "1. Run AutoDock with the prepared grid parameter file (`chlhivreceptor.gpf`) and docking parameter file (`hivreceptordock.dpf`).\n",
    "\n",
    "### **Key Outputs**\n",
    "- The *Grid Parameter File* (`chlhivreceptor.gpf`) which, as shown in the image below, should include parameters for chlorine (Cl) and bromine (Br) atoms.\n",
    "- Docking calculations will utilize the grid box configured for the specified atoms.\n",
    "\n",
    "<center><img src=\"images/fig18_grid_parameter_file.png\" width=600 /><br>"
   ]
  },
  {
   "cell_type": "markdown",
   "metadata": {
    "id": "TDq8i0NMI92R"
   },
   "source": [
    "-----------------\n",
    "\n",
    "### 🌟 **Activity 3: Modeling EGFR and HER2 Protein Complex Using ClusPro**\n",
    "This activity focuses on using the **ClusPro protein-protein docking server** to model the interaction between the extracellular domains of EGFR (PDB ID: 3NJP) and HER4 (PDB ID: 8U4I). The purpose of the activity is to demonstrate how to prepare protein structures using PyMOL and perform protein-protein docking with ClusPro.\n",
    "\n",
    "### **Steps to Perform the Activity**\n",
    "\n",
    "#### **Step 1. Access ClusPro Docking Server**\n",
    "1. If you haven't already, go to the [ClusPro website](https://cluspro.org/login.php).\n",
    "2. Create a ClusPro account:\n",
    "   - Register with a username and password.\n",
    "   - Provide an email address to receive the docking results.\n",
    "\n",
    "#### **Step 2. Preparing EGFR Monomer Using PyMOL**\n",
    "1. Type the following command in PyMOL to fetch the EGFR homodimer structure in PyMOL:<br>\n",
    "   `PyMol> fetch 3NJP`\n",
    "\n",
    "2. Remove one of the molecules from the homodimer:<br>\n",
    "   `PyMol> remove chain B`\n",
    "   \n",
    "3. Identify and remove the ligand peptide:<br>\n",
    "   `PyMol> select ligand, organic`<br>\n",
    "   `PyMol> remove not polymer and not organic`\n",
    "   \n",
    "4. Remove solvent molecules:<br>\n",
    "   `PyMol> remove solvent`\n",
    "   \n",
    "5. Save the cleaned structure:<br>\n",
    "   `PyMol> save EGFRm1.pdb`\n",
    "\n",
    "6. Reinitialize PyMOL (optional):<br>\n",
    "   `PyMol> reinitialize`\n",
    "\n",
    "### Alternative Method - Write and Load PML Script"
   ]
  },
  {
   "cell_type": "code",
   "execution_count": null,
   "metadata": {
    "id": "0nwj54oFHI8l"
   },
   "outputs": [],
   "source": [
    "# Write the .pml script\n",
    "with open(\"/home/jupyter/Structural-Biology-and-Drug-Discovery/submodule2_docking_protein_interactions/pml_scripts/2.3_preparing_egfr.pml\", \"w\") as scriptout:\n",
    "    scriptout.write(\"# PyMOL Script: Preparing EGFR Structure\\n\")\n",
    "\n",
    "    # Step 1: Fetch the EGFR structure\n",
    "    scriptout.write(\"# Step 1: Fetch the EGFR homodimer structure\\n\")\n",
    "    scriptout.write(\"fetch 3NJP\\n\")\n",
    "\n",
    "    # Step 2: Remove one molecule from the homodimer\n",
    "    scriptout.write(\"# Step 2: Remove one of the molecules from the homodimer\\n\")\n",
    "    scriptout.write(\"remove chain B\\n\")\n",
    "\n",
    "    # Step 3: Identify and isolate the ligand\n",
    "    scriptout.write(\"# Step 3: Identify and Remove the Ligand and Solvents\\n\")\n",
    "    scriptout.write(\"select ligand, organic\\n\")  # Select organic molecules (likely ligands)\n",
    "    scriptout.write(\"remove not polymer and not organic\\n\")  # Keep only polymer and ligand, remove others\n",
    "    scriptout.write(\"remove solvent\\n\")  # Remove all solvent molecules\n",
    "\n",
    "    # Step 4: Save the cleaned structure\n",
    "    scriptout.write(\"# Step 4: Save the cleaned structure\\n\")\n",
    "    scriptout.write(\"save /config/bucket/Structural-Biology-and-Drug-Discovery/submodule2_docking_protein_interactions/data/EGFRm1.pdb\\n\")\n",
    "\n",
    "    # Step 5: Final reinitialization (optional)\n",
    "    scriptout.write(\"# Step 5: Reinitialize PyMOL environment\\n\")\n",
    "    scriptout.write(\"reinitialize\\n\")"
   ]
  },
  {
   "cell_type": "markdown",
   "metadata": {
    "id": "O56UZZ2sJepM"
   },
   "source": [
    "#### **Step 3. Preparing HER4 Monomer Using PyMOL**\n",
    "Here we do not provide the GUI instructions because Step 3 involves the same commands as those shown in Step 2 but with the HER4 protein instead of EGFR. Instead simply run the code cell below to write a *.pml* script and then load into PyMOL.\n",
    "\n",
    "### Write and Load PML Script"
   ]
  },
  {
   "cell_type": "code",
   "execution_count": null,
   "metadata": {
    "id": "Ij5qW2M5JS6V"
   },
   "outputs": [],
   "source": [
    "# Write the updated .pml script\n",
    "with open(\"/home/jupyter/Structural-Biology-and-Drug-Discovery/submodule2_docking_protein_interactions/pml_scripts/2.3_preparing_her4.pml\", \"w\") as scriptout:\n",
    "    scriptout.write(\"# Step 1: Fetch the HER4 homodimer structure\\n\")\n",
    "    scriptout.write(\"fetch 8U4I\\n\")\n",
    "\n",
    "    scriptout.write(\"# Step 2: Remove one molecule from the homodimer\\n\")\n",
    "    scriptout.write(\"remove chain B\\n\")\n",
    "\n",
    "    scriptout.write(\"# Step 3: Identify and Remove the Ligand and Solvents\\n\")\n",
    "    scriptout.write(\"select ligand, organic\\n\")  # Dynamically select all organic molecules (ligands)\n",
    "    scriptout.write(\"remove not polymer and not organic\\n\")  # Keep only protein and ligand\n",
    "    scriptout.write(\"remove solvent\\n\")  # Remove solvents like water\n",
    "\n",
    "    scriptout.write(\"# Step 4: Save the cleaned structure\\n\")\n",
    "    scriptout.write(\"save /config/bucket/Structural-Biology-and-Drug-Discovery/submodule2_docking_protein_interactions/data/HER4m1.pdb\\n\")"
   ]
  },
  {
   "cell_type": "markdown",
   "metadata": {
    "id": "spfL02taJepN"
   },
   "source": [
    "#### **Step 4. Submit a Docking Job on ClusPro Website**\n",
    "1. Login to your ClusPro account.\n",
    "2. Enter a *Job Name* (e.g., `testjois1`).\n",
    "3. Upload the Receptor and Ligand\n",
    "   - *Receptor File*: `EGFRm1.pdb`\n",
    "   - *Ligand File*: `HER4m1.pdb`\n",
    "4. Click *Dock* to submit the job."
   ]
  },
  {
   "cell_type": "markdown",
   "metadata": {
    "id": "yTcBfrqEJepO"
   },
   "source": [
    "#### **Step 5. Access Results on ClusPro Website (if not running cluspro-api)**\n",
    "1. The docking job will run on the server.\n",
    "2. Results are sent to your email or can be accessed by logging into ClusPro.\n",
    "3. The job may take several minutes to hours, depending on server load.\n",
    "4. The Job ID, Name, and Status (e.g., \"Completed\") will be displayed.\n",
    "5. If the job is completed, click on the Job ID number to view the results."
   ]
  },
  {
   "cell_type": "markdown",
   "metadata": {
    "id": "rQQeXiPhJepO"
   },
   "source": [
    "#### **Step 6. Results Analysis**\n",
    "- The docking results will include multiple predicted receptor-ligand complexes ranked by clustering and energy scores.\n",
    "- Analyze these results to select the most plausible interaction model.\n",
    "- Display and download various protein models based on non-covalent interactions or models with balanced interactions according to figure below.\n",
    "- Based on the structures in this example, the `cluster score`, and ranking, `Model 1` is the best model for the `EGFR:HER4 complex` and should be used for the next step.\n",
    "\n",
    "<center><img src=\"images/fig19_cluspro_job.png\" width=700 /><br>"
   ]
  },
  {
   "cell_type": "markdown",
   "metadata": {
    "id": "hFk0C5DTQtYn"
   },
   "source": [
    "#### **Step 7. Viewing the Complex in PyMOL**\n",
    "1. Open the *Model 1* file downloaded from ClusPro in PyMOL (e.g., `model.002.01.pdb`)\n",
    "2. Analyze the EGFR:HER4 complex model and identify secondary structures (**helices**, **beta sheets**) involved in complex formation. Observe how these elements contribute to stabilizing the interaction. Use your knowledge of protein-protein interaction surface analysis you performed in Submodule 1.3.\n",
    "\n",
    "<center><img src=\"images/fig20_egfr_her4_molecule.png\" width=400 /><br>"
   ]
  },
  {
   "cell_type": "markdown",
   "metadata": {
    "id": "eaNMkR_jIKxb"
   },
   "source": [
    "------------------------\n",
    "# Additional Questions\n",
    "Click through the flashcards below to explore FAQs and associated answers."
   ]
  },
  {
   "cell_type": "code",
   "execution_count": 2,
   "metadata": {
    "id": "McjhWaLGJepP",
    "tags": []
   },
   "outputs": [
    {
     "data": {
      "text/html": [
       "\n",
       "        <iframe\n",
       "            width=\"1000\"\n",
       "            height=\"600\"\n",
       "            src=\"quiz/question_flashcards.html\"\n",
       "            frameborder=\"0\"\n",
       "            allowfullscreen\n",
       "            \n",
       "        ></iframe>\n",
       "        "
      ],
      "text/plain": [
       "<IPython.lib.display.IFrame at 0x7f6a631e0370>"
      ]
     },
     "execution_count": 2,
     "metadata": {},
     "output_type": "execute_result"
    }
   ],
   "source": [
    "#Render flashcards\n",
    "from IPython.display import IFrame\n",
    "IFrame('quiz/question_flashcards.html', width=1000, height=600)"
   ]
  },
  {
   "cell_type": "markdown",
   "metadata": {
    "id": "rv4DAw6MJepP"
   },
   "source": [
    "------------------------\n",
    "# 📖 **Submodule 2 QUIZ**"
   ]
  },
  {
   "cell_type": "code",
   "execution_count": 4,
   "metadata": {
    "id": "z5y0ZU1eJepP",
    "tags": []
   },
   "outputs": [
    {
     "data": {
      "text/html": [
       "\n",
       "        <iframe\n",
       "            width=\"1000\"\n",
       "            height=\"800\"\n",
       "            src=\"quiz/combined_quiz_Q1_Q10.html\"\n",
       "            frameborder=\"0\"\n",
       "            allowfullscreen\n",
       "            \n",
       "        ></iframe>\n",
       "        "
      ],
      "text/plain": [
       "<IPython.lib.display.IFrame at 0x7f6a630412a0>"
      ]
     },
     "execution_count": 4,
     "metadata": {},
     "output_type": "execute_result"
    }
   ],
   "source": [
    "#Render quiz Qs 1-10\n",
    "IFrame('quiz/combined_quiz_Q1_Q10.html', width=1000, height=800)"
   ]
  },
  {
   "cell_type": "markdown",
   "metadata": {
    "id": "AlO76IQJJepQ"
   },
   "source": [
    "### Use image below to answer Q11\n",
    "<img src=\"images/quiz_image.jfif\" width=600 /><br>"
   ]
  },
  {
   "cell_type": "code",
   "execution_count": 3,
   "metadata": {
    "id": "vDHLUaptJepR",
    "tags": []
   },
   "outputs": [
    {
     "data": {
      "text/html": [
       "\n",
       "        <iframe\n",
       "            width=\"1000\"\n",
       "            height=\"300\"\n",
       "            src=\"quiz/combined_quiz_Q11.html\"\n",
       "            frameborder=\"0\"\n",
       "            allowfullscreen\n",
       "            \n",
       "        ></iframe>\n",
       "        "
      ],
      "text/plain": [
       "<IPython.lib.display.IFrame at 0x7f6a63040910>"
      ]
     },
     "execution_count": 3,
     "metadata": {},
     "output_type": "execute_result"
    }
   ],
   "source": [
    "IFrame('quiz/combined_quiz_Q11.html', width=1000, height=300)"
   ]
  },
  {
   "cell_type": "markdown",
   "metadata": {
    "id": "b6lQK0BLJepR"
   },
   "source": [
    "---------------\n",
    "## Conclusions\n",
    "If you have successfully completed the activities in this module, you should be able to skecth any small molecule adn convert that into 3D structure and save it in PDB format. Use the Cluspro to dock two protein molecules and analyse the results of protein-protein docking and chose the best model as possible protein-protein interaction. In module 3, peptide based drug design you will use this knowledge to design a drug that can module protein-protein interaction.\n",
    "## Clean Up\n",
    "<div class=\"alert alert-block alert-warning\"> <b>Attention:</b> Remember to shutdown VM and delete any relevant resources</a>. </div>"
   ]
  },
  {
   "cell_type": "code",
   "execution_count": null,
   "metadata": {},
   "outputs": [],
   "source": []
  }
 ],
 "metadata": {
  "colab": {
   "provenance": []
  },
  "environment": {
   "kernel": "conda-base-py",
   "name": "workbench-notebooks.m126",
   "type": "gcloud",
   "uri": "us-docker.pkg.dev/deeplearning-platform-release/gcr.io/workbench-notebooks:m126"
  },
  "kernelspec": {
   "display_name": "Python 3 (ipykernel) (Local)",
   "language": "python",
   "name": "conda-base-py"
  },
  "language_info": {
   "codemirror_mode": {
    "name": "ipython",
    "version": 3
   },
   "file_extension": ".py",
   "mimetype": "text/x-python",
   "name": "python",
   "nbconvert_exporter": "python",
   "pygments_lexer": "ipython3",
   "version": "3.10.15"
  }
 },
 "nbformat": 4,
 "nbformat_minor": 4
}
