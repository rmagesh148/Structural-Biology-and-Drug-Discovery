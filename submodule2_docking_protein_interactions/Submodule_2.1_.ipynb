{
 "cells": [
  {
   "cell_type": "markdown",
   "metadata": {
    "id": "349yDyNXjUHB"
   },
   "source": [
    "# SUBMODULE 2.1 - Introduction to Protein Docking\n",
    "In drug design and discovery, computational docking plays a major role in screening the designed compounds. This module takes the user step-by-step through preparing the protein and ligand for docking calculations and analysis. Users can extract the ligands from the protein data bank. Ligands can also be prepared by sketching, generating a 3D structure of the ligand in PDB format.  Examples of PDB drug-protein complexes will be used to demonstrate docking using docking software. Analysis and preparation of files for presentation and detailed description are provided. In addition, users can visualize protein-protein interactions and analyze the details of interaction sites.\n",
    "\n",
    "### **Learning Objectives:**\n",
    "- To prepare the protein of interest for docking calculations. To retrieve the protein and ligand structures from the protein data bank and prepare the structures for docking calculations.\n",
    "- To Perform protein-ligand docking calculations, analyze the docking results, and choose the most possible docking ligands in the order of binding affinity (docking energy) for drug design.\n",
    "- To sketch a small molecule ligand and prepare the 3D structure of ligand drugs to dock to proteins.\n",
    "- To perform protein-protein docking and analyze the interaction surface of two proteins.\n",
    "\n",
    "### **Prerequisites:**\n",
    "1. Complete Submodules 1.1, 1.2, 1.3\n",
    "2. Basic knolwedge of ligand protein interactions\n",
    "3. Familiarity with PyMOL\n",
    "\n",
    "## Introduction to Protein-Ligand Interactions:\n",
    "Chemical kinetics principles are applied to understand the protein-ligand interactions assuming that when a ligand (or drug) binds to protein it results in biological response. The biological response is proportional to the amount of drug-protein complex formed. The response is decreased when the complex is dissociated.\n",
    "\n",
    "A protein P binds to Ligand L. The equilibrium expression is:\n",
    "\n",
    "$ P+L \\rightleftharpoons PL$\n",
    "\n",
    " Equilibrium constant ($k_{a}$) = $ \\frac{[PL]}{[P][L]} $\n",
    "\n",
    " Dissociation constant ($k_{d}$) = $ \\frac{[P][L]}{[PL]} $\n",
    "\n",
    "$k_{d}$ provides the strength of interaction between the protein and the ligand and how easy to seperate them.\n",
    "    \n",
    "Thus, the lower the $k_{d}$ value the better the binding is.\n",
    "\n",
    "Typically for drug-protein interactions, $1x10^{-6}$(1uM) is weak binding, $1x10^{-9}$(1nM) is strong binding."
   ]
  },
  {
   "cell_type": "markdown",
   "metadata": {
    "id": "Gy95DgVnQCIZ"
   },
   "source": [
    "## Residence Time of Ligand or Drug in the Cavity\n",
    "During the binding of a drug or ligand with a protein, the ligand does not remain permanently in the protein's binding site. Instead, it \"hops\" between the outside solvent molecules and the protein binding site. This dynamic behavior can be visualized with an analogy: imagine two boys playing catch with a ball. The protein's binding site and the surrounding solvent act as \"players,\" while the ligand is the ball.\n",
    "\n",
    "### Key Points:\n",
    "- *Residence Time*: The residence time refers to the duration the ligand stays bound to the protein's binding site. If strong hydrogen bonding and hydrophobic interactions hold the ligand tightly, the residence time is longer.\n",
    "- *Induced Fit*: Just as a hand adjusts to hold a ball tightly, a protein can undergo slight conformational changes to better fit the ligand. This phenomenon is called induced fit.\n",
    "- *Impact on $k_{d}$*: A longer residence time correlates with better binding affinity, represented by lower $K_d$ values (e.g., from nanomolar (nM) to picomolar (pM) or femtomolar (fM)).\n",
    "\n",
    "**<u>Analogy</u>**: Holding a Ball Few fingers holding the ball: Represents weak binding with fewer interactions, resulting in a higher Kd (weaker affinity).\n",
    "\n",
    "All fingers holding the ball tightly: Represents strong binding with multiple non-covalent interactions, resulting in a lower Kd (stronger affinity).\n",
    "\n",
    "## Binding Affinity and Free Energy\n",
    "The binding affinity (Kd) depends on the free energy of binding (ΔG), which is influenced by non-covalent interactions. The relationship is given by:\n",
    "\n",
    "ΔG = -RTln($K_d$) <br><br>\n",
    "Where:<br>\n",
    "ΔG: Free energy of binding.<br>\n",
    "R: Gas constant.<br>\n",
    "T: Temperature in Kelvin.<br>\n",
    "$K_d$: Dissociation constant.<br>\n",
    "\n",
    "- The total free energy (ΔG) is the sum of contributions from various interactions:\n",
    "- ΔG = ΔG (hydrogen bonding) + ΔG (electrostatic interactions) + ΔG (hydrophobic interactions)\n",
    "\n",
    "*Dependence on 3D Structure*: The strength of these interactions—and thus the $K_d$ value—depends on the 3D structure of the protein and the ligand. Proper alignment and compatibility of these structures enable optimal binding and lower Kd values.\n",
    "\n",
    "##### See [Submodule 4 - Optional Exercises](../submodule_4_optional_exercises/submodule_4_optional_exercises.ipynb) for optional activity on *Visualizing $K_d$ or Binding Affinity in Non-Covalent Interactions*"
   ]
  },
  {
   "cell_type": "markdown",
   "metadata": {
    "id": "BjK8UkRWQCIZ"
   },
   "source": [
    "## **Background on Docking:**\n",
    "Docking is a computational method to simulate ligand-receptor interactions using the three-dimensional structures of receptors and ligands. In drug discovery, several hundreds or thousands of compounds will be screened by experimental methods to search for a “hit” compound. Docking provides an alternative to the experimental high-throughput screening method. The overall schematic diagram of early-stage drug design and development shown below outlines the high-level drug design process from candidate selection to identifying 'hit' compounds. Once a 'hit' compound is identified, that compound is developed into a lead compound, and preclinical studies are performed.\n",
    "\n",
    "<center><img src=\"images/fig1_design_and_dev.png\" width=600/>"
   ]
  },
  {
   "cell_type": "markdown",
   "metadata": {
    "id": "SiSW7LH9jrks"
   },
   "source": [
    "In docking, different ligands are designed to dock to the target protein at a particular known binding site, and the energy of interactions between ligand and receptor is calculated (see figure below). The ligand interaction is scored based on free energy function and ligands are arranged from lowest energy to highest energy. The lowest energy structure of the ligand interacting with the receptor at the drug target site is considered a possible hit compound. From the low energy docked structures obtained, several compounds are chemically synthesized and screened with biological/pharmacological assay, and a hit compound is identified.\n",
    "<center><img src=\"images/fig2_docking_overview.png\" width=1000/>"
   ]
  },
  {
   "cell_type": "markdown",
   "metadata": {
    "id": "QFbZWR57j91L"
   },
   "source": [
    "### **What is the input information needed for docking calculations?**\n",
    "1. **3D Structure of a protein of interest:**\n",
    "- Protein Database\n",
    "- Alphafold\n",
    "- Cryo-electron microscopy (Cryo-EM)\n",
    "\n",
    "2. **3D Structure of a Ligand:**\n",
    "- Crystal Structure\n",
    "- NMR Structure\n",
    "- Generate using sketching and 3D modeling software\n",
    "\n",
    "A ligand or drug binds to the receptor when the non-covalent interactions (in some cases covalent) are optimized, as shown in the diagram below. These non-covalent interactions include hydrogen bonding, electroststic and hydrophobic interactions. The receptor cavidty or surface has chemical groups from amino acids that provide these interactions in geometrically optimized orientation of the ligand. the ligand shape and size should be optimum to fit in the receptor cavity and also distance should be optimum to form electrostatic and hydrogen bonding interactions.\n",
    "<center><img src=\"images/fig3_ligand_binding.png\" width=800/>"
   ]
  },
  {
   "cell_type": "markdown",
   "metadata": {
    "id": "q8tyAEQ_-dKB"
   },
   "source": [
    "## **Ligand and Binding Site Analysis**\n",
    "This tutorial will guide you step-by-step in visualizing and analyzing protein-ligand interactions using structural visualization tools like PyMOL. Follow along to learn how to highlight active sites, map binding surfaces, and examine ligand interactions within protein structures.<br><br>\n",
    "<center><img src=\"images/fig4_ligand_binding_analysis.jfif\" width=1000/>"
   ]
  },
  {
   "cell_type": "markdown",
   "metadata": {
    "id": "eG2-OImG-i9T"
   },
   "source": [
    "-----------------\n",
    "# 📊 Tutorials\n",
    "In this tutorial, we will use the PyMOL and guide you through <u>**three**</u> applied activities to:\n",
    "- Select and visualize specific residues (e.g., active site residues).\n",
    "- Identify and highlight ligands in the protein structure.\n",
    "- Identify and visualize the binding site around the ligand.\n",
    "\n",
    "## Before you begin:\n",
    "\n",
    "- Run the PyMOL GUI by following the directions provided in the Submodule 0 notebook, provided here: [Pymol Startup](../submodule0_pymol_setup/pymol_notebook.ipynb)\n",
    "- Run the code cells below to confirm working directory and enable saving to the Submodule 2 `data` folder from the GUIs."
   ]
  },
  {
   "cell_type": "code",
   "execution_count": null,
   "metadata": {
    "tags": []
   },
   "outputs": [],
   "source": [
    "#should print out directory current directory that ends with `submodule2_docking_protein_interactions`\n",
    "!pwd"
   ]
  },
  {
   "cell_type": "code",
   "execution_count": null,
   "metadata": {
    "tags": []
   },
   "outputs": [],
   "source": [
    "#make pml_script output directory\n",
    "!mkdir /home/jupyter/Structural-Biology-and-Drug-Discovery/submodule2_docking_protein_interactions/pml_scripts"
   ]
  },
  {
   "cell_type": "code",
   "execution_count": null,
   "metadata": {},
   "outputs": [],
   "source": [
    "#enables write access from GUI to subfolders within `submodule2_docking_protein_interactions`\n",
    "!chmod -R 777 . "
   ]
  },
  {
   "cell_type": "markdown",
   "metadata": {
    "id": "lB-gXjg1kMVy"
   },
   "source": [
    "## 🌟 **Activity 1: Visualizing the Optimized Interaction of Ibuprofen with COX-2**\n",
    "\n",
    "### **Objective:**  \n",
    "To use PyMOL to analyze the binding interactions of **ibuprofen** with the **cyclooxygenase-2 (COX-2)** enzyme and identify key interacting residues. In this activity we will show you how to load the PDB file using *File > Get PDB* but in future activities will simply use commands such as *Fetch* and provide the code to output a PML script that can be loaded and run in PyMOL.\n",
    "\n",
    "### **Steps to Perform the Activity**\n",
    "\n",
    "#### **Step 1: Load the PDB File**\n",
    "1. Open PyMOL and fetch the structure of *COX-2 bound with ibuprofen*:\n",
    "<br>`File > Get PDB`\n",
    "2. Enter the *PDB ID*: `4PH9` and download.\n",
    "3. The initial display of the structure contains two COX-2 molecules in the asymmetric unit along with solvent and water molecules.\n",
    "\n",
    "#### **Step 2: Simplify the Structure**\n",
    "1. Display the Protein Sequence by navigating to:\n",
    "<br>`Display > Sequence`\n",
    "   - This results in the protein sequence being displayed at the top of the PyMOL interface.\n",
    "\n",
    "2. Remove Unnecessary Molecules:\n",
    "   - <u>Keep</u>:\n",
    "     - One *COX-2 molecule*.\n",
    "     - The *ibuprofen molecule (IBP)*.\n",
    "   - <u>Remove</u>:\n",
    "     - The second *COX-2 molecule*.\n",
    "     - Water, solvent, and other ligands such as *HEM, NAG, MAN, EDO, AKR, BOG*, and *red O*.\n",
    "\n",
    "#### **Step 3: Highlight the Binding Site**\n",
    "1. Apply Ligand Site Preset by navigating to the right-side menu and clicking through the following options:\n",
    "<br>`A (Action) > Preset > Ligand Site > Cartoon`\n",
    "\n",
    "2. The structure will display: (1) *Ibuprofen* in *stick representation*, (2) The protein in *secondary structure cartoon representation*, and (3) *Interacting amino acid residues* as thin sticks in a zoomed view.\n",
    "\n",
    "3. Label Key Residues by using the <u>left mouse button</u> and clicking on the interacting amino acid residues (displayed as thin sticks).\n",
    "4. Now navigate to the right-side menu and label residues by clicking through:\n",
    "<br>`Select > L (Label) > Residues`\n",
    "   - The selected residues will now be labeled as shown in the image below.\n",
    "\n",
    "<center><img src=\"images/fig5_ibuprofen_mol_1.png\" width=800 /><br>"
   ]
  },
  {
   "cell_type": "markdown",
   "metadata": {
    "id": "kPypGTVWQCIb"
   },
   "source": [
    "Observe the binding of ibuprofen with cyclooxygenase is optimized in the binding cavity with hydrogen bonding (yellow lines) and hydrophobic interaction with aromatic ring and methyl groups of ibuprofen with hydrophobic interaction of Phe, Leu, Tyr and Trp from protein. These interaction makes the drug molecule ibuprofen to bind to cyclooxygenase protein with high affinity. If these interactions are optimum, docking energy will be lower. This provides and example of how ligand molecule binding is optimized.\n",
    "\n",
    "<div class=\"alert alert-block alert-success\"> <b>NOTE:</b> In most of the cases, we remove water and other solvent molecules and counter ions from the crystal structure of the proteins.</a>. </div>\n",
    "\n",
    "### **Expected Outcome**\n",
    "- The **ibuprofen molecule (IBP)** is shown in **stick representation**, surrounded by interacting residues.\n",
    "- The protein is displayed in a **cartoon representation**, highlighting the **binding pocket**.\n",
    "- Key interacting residues are labeled for further analysis.\n",
    "\n",
    "##### Citation(s)\n",
    "- Orlando, B.J., Lucido, M.J., Malkowski, M.G. (2015) **J Struct Biol** 189: 62-66.  \n",
    "------------------------------------------------------------------"
   ]
  },
  {
   "cell_type": "markdown",
   "metadata": {
    "id": "BxHmgDrkklJf"
   },
   "source": [
    "### 🌟 **Activity 2: Analyze Angiotensin-Converting Enzyme Binding Site for Solvent Molecules**\n",
    "\n",
    "### **Objective:**  \n",
    "Explore the binding site of **angiotensin-converting enzyme (ACE)** and identify solvent molecules using PyMOL.\n",
    "\n",
    "### **Steps to Perform the Activity**\n",
    "\n",
    "#### **Step 1: Fetch the Protein Structure**\n",
    "1. Type the following command in PyMOL to fetch the structure of ACE in complex with lisinopril: <br>\n",
    "     `PyMol> fetch 1o86`\n",
    "\n",
    "2. The initial display of the crystal structure for ACE will load, showing the protein and surrounding water molecules.\n",
    "\n",
    "#### **Step 2: Observe the Protein and Water Molecules**\n",
    "1. Display Cartoon Representation and apply the *ligand site preset* to simplify the view: <br>\n",
    "     `PyMol> preset.ligand_site`\n",
    "\n",
    "2. Inspect the water molecules, which are shown as *<font color='red'>red spheres</font>*  around the protein, indicating their globular nature.\n",
    "\n",
    "#### **Step 3: Highlight Solvent Binding Site**\n",
    "1. Use the following command to select and isolate water molecules: <br>\n",
    "     `PyMol> select water, resn HOH`\n",
    "\n",
    "2. Zoom into the binding site to focus on the region around the ligand (lisinopril): <br>\n",
    "     `PyMol> zoom water`\n",
    "\n",
    "3. (Optional) Color the water molecules for clearer visualization:<br>\n",
    "     `PyMol> color cyan, water`\n",
    "\n",
    "#### **Step 4: Analyze the Protein-Ligand-Solvent Interaction**\n",
    "1. Notice how water molecules surround the protein due to its globular nature. Water molecules near the ligand-binding site may stabilize the ligand or participate in hydrogen bonding.\n",
    "2. The ligand site with hydrogen bonding that you now see in PyMOL should look like the image shown below. Ligand is shown as thick sticks and protein as secondary structure and amino acids in the binding site as think sticks and water as small *<font color='red'>red spheres</font>*.\n",
    "3. You can turn around and view the water molecule at the ligand binding site.\n",
    "\n",
    "### Alternative Method - Write and Load PML Script"
   ]
  },
  {
   "cell_type": "code",
   "execution_count": null,
   "metadata": {
    "id": "FG8bCY-ZQCIb"
   },
   "outputs": [],
   "source": [
    "# PML Script: Proper Docking Visualization\n",
    "## run this code cell to write .pml script file and run analysis outlined step-by-step above\n",
    "## Once you write the file it can be run in the PyMOL GUI one of two ways:\n",
    "##    1. Select file run script and then the pml script within PyMOL -or-\n",
    "##    2. Set your directory into the folder and then run: pymol> @script.pml\n",
    "\n",
    "with open(\"/home/jupyter/Structural-Biology-and-Drug-Discovery/submodule2_docking_protein_interactions/pml_scripts/2.1_ace_binding_site.pml\", \"w\") as scriptout:\n",
    "    scriptout.write(\"# Step 1: Fetch the structure of ACE in complex with lisinopril\\n\")\n",
    "    scriptout.write(\"fetch 1o86\\n\")  # fetch protien complex file\n",
    "\n",
    "    scriptout.write(\"# Step 2: Display Cartoon Representation and apply the ligand site preset to simplify the view\\n\")\n",
    "    scriptout.write(\"preset.ligand_site\\n\")  # Inspect the water molecules, which are shown as red spheres around the protein, indicating their globular nature\n",
    "\n",
    "    scriptout.write(\"# Step 3: Highlight Solvent Binding Site\\n\")\n",
    "    scriptout.write(\"select water, resn HOH\\n\")  # Use the following command to select and isolate water molecules\n",
    "    scriptout.write(\"zoom water\\n\")  # Zoom into the binding site to focus on the region around the ligand (lisinopril)\n",
    "    scriptout.write(\"color cyan, water\\n\")  # color the water molecules for clearer visualization:\n",
    "\n",
    "    scriptout.write(\"# Step 4: Analyze the Protein-Ligand-Solvent Interaction\\n\")\n",
    "    scriptout.write(\"#1. Notice how water molecules surround the protein due to its globular nature. Water molecules near the ligand-binding site may stabilize the ligand or participate in hydrogen bonding.\\n\")\n",
    "    scriptout.write(\"#2. The ligand site with hydrogen bonding that you now see in PyMOL should look like the image shown below. Ligand is shown as thick sticks and protein as secondary structure and amino acids in the binding site as think sticks and water as small red spheres.\\n\")\n",
    "    scriptout.write(\"#3. You can turn around and view the water molecule at the ligand binding site.\\n\")"
   ]
  },
  {
   "cell_type": "markdown",
   "metadata": {
    "id": "z3lftk_oQCIc",
    "tags": []
   },
   "source": [
    "<center><img src=\"images/fig6_ibuprofen_mol_2.png\" width=800/>"
   ]
  },
  {
   "cell_type": "markdown",
   "metadata": {
    "id": "vZPu7mGMQCIc"
   },
   "source": [
    "##### Citation(s):\n",
    "- Crystal Structure of Human Angiotensin Converting Enzyme in complex with lisinopril. Natesh, R., Schwager, S.L.U., Sturrock, E.D., Acharya, K.R. (2003) Nature 421: 551\n",
    "\n",
    "-----------------------------"
   ]
  },
  {
   "cell_type": "markdown",
   "metadata": {
    "id": "VaGLKWy5ldiZ"
   },
   "source": [
    "### 🌟 **Activity 3: Visualizing the Zinc Atom in Angiotensin-Converting Enzyme**\n",
    "\n",
    "### **Objective:**  \n",
    "To locate and highlight the *zinc atom (Zn)* within the *angiotensin-converting enzyme (ACE)* structure using PyMOL's sequence menu and selection options.\n",
    "\n",
    "### **Steps to Perform the Activity**\n",
    "\n",
    "#### **Step 1: Fetch the Protein Structure**\n",
    "1. Type the following command in PyMOL to fetch the structure of ACE in complex with lisinopril: <br>\n",
    "     `PyMol> fetch 1o86`\n",
    "\n",
    "#### **Step 2: Display the Protein Sequence**\n",
    "1. Open the sequence viewer and Navigate to:<br>\n",
    "     `Display > Sequence`\n",
    "   - The protein sequence will appear at the top of the PyMOL interface.\n",
    "\n",
    "2. Use the *scroll bar* in the sequence menu to slide through the displayed elements and find *Zn*.\n",
    "\n",
    "#### **Step 2: Select the Zinc Atom**\n",
    "1. Click directly on the *Zn* option in the sequence menu to select it.\n",
    "\n",
    "2. Highlight the *Zn* atom by navigating the right-side menu:<br>\n",
    "     `Select > S > Spheres`\n",
    "   - The zinc atom should now be displayed as a *sphere*, making it easier to visualize.\n",
    "\n",
    "#### **Step 3: Analyze Position of Zinc**\n",
    "1. **Role of Zinc in ACE:**\n",
    "   - The zinc atom plays a critical role in the catalytic activity of angiotensin-converting enzyme (ACE).\n",
    "2. **Position of Zinc:**\n",
    "   - Observe its location within the *active site* and its proximity to other key residues and ligands. <br>\n",
    "\n",
    "You should see the Zinc atom displayed as a sphere. Zinc is bound to the ligand, you can see that ligand binding is optimized in the cavity of the protein binding site with water molecule and Zinc in addition to the amino acids from the protein interacting with the ligand. Thus, in some docking calculations water and metal ion are important for optimizing the ligand-receptor interactions."
   ]
  },
  {
   "cell_type": "markdown",
   "metadata": {
    "id": "YWZZ2JRAQCIc"
   },
   "source": [
    "---------------\n",
    "## Conclusions\n",
    "In this module you learnt some basics aspects of docking, visualization of binding site of a ligand in the protein/enzyme cavity. Importance of different non-covalent interactions between the ligand and receptor including metal ion for binding. This helps to understand the docking methods describes in the next submodule as docking of ligand to a receptor is optimizing the binding interactions of ligand and receptor usign computational method.\n",
    "## Clean Up\n",
    "<div class=\"alert alert-block alert-warning\"> <b>Attention:</b> Remember to shutdown VM and delete any relevant resources</a>. </div>"
   ]
  },
  {
   "cell_type": "code",
   "execution_count": null,
   "metadata": {
    "id": "XXBlWIM5d8ob"
   },
   "outputs": [],
   "source": []
  }
 ],
 "metadata": {
  "colab": {
   "provenance": []
  },
  "environment": {
   "kernel": "conda-base-py",
   "name": "workbench-notebooks.m126",
   "type": "gcloud",
   "uri": "us-docker.pkg.dev/deeplearning-platform-release/gcr.io/workbench-notebooks:m126"
  },
  "kernelspec": {
   "display_name": "Python 3 (ipykernel) (Local)",
   "language": "python",
   "name": "conda-base-py"
  },
  "language_info": {
   "codemirror_mode": {
    "name": "ipython",
    "version": 3
   },
   "file_extension": ".py",
   "mimetype": "text/x-python",
   "name": "python",
   "nbconvert_exporter": "python",
   "pygments_lexer": "ipython3",
   "version": "3.10.15"
  }
 },
 "nbformat": 4,
 "nbformat_minor": 4
}
