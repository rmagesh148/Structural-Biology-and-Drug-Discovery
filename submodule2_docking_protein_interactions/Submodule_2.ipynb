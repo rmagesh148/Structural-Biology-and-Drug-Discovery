{
  "nbformat": 4,
  "nbformat_minor": 0,
  "metadata": {
    "colab": {
      "provenance": []
    },
    "kernelspec": {
      "name": "python3",
      "display_name": "Python 3"
    },
    "language_info": {
      "name": "python"
    }
  },
  "cells": [
    {
      "cell_type": "markdown",
      "source": [
        "# **Submodule 2 - Docking and Protein-Protein Interaction**"
      ],
      "metadata": {
        "id": "3uXqlTbIDia1"
      }
    },
    {
      "cell_type": "markdown",
      "source": [
        "In drug design and discovery, computational docking plays a major role in screening the designed compounds. This module takes the user step-by-step through preparing the proteins for docking calculations and analysis. Ligands are prepared by Chemsketch first, and a 3D structure is created. Users can also extract the ligands from the protein data bank. Examples of drug-protein complexes from PDB will be utilized to demonstrate docking using docking software. Analysis and preparation of files for presentation and detailed description are provided. In addition, users can visualize protein-protein interactions and analyze the details of interaction sites using free online software."
      ],
      "metadata": {
        "id": "VUiMzwMADofb"
      }
    },
    {
      "cell_type": "markdown",
      "source": [
        "# **Learning Objectives:**"
      ],
      "metadata": {
        "id": "EOgZn1IDDz5j"
      }
    },
    {
      "cell_type": "markdown",
      "source": [
        "*   To prepare the protein of interest for docking calculations. To retrieve the protein and ligand structures from protein data bank and prepare the structures for docking calculations.\n",
        "*   To sketch the small molecule ligand or peptide and prepare the 3D structure of ligand drugs to dock to proteins.\n",
        "*   Perform protein-ligand docking calculations, analyze the docking results, and choose the most possible docking ligands in the order of binding affinity (docking energy) for drug design."
      ],
      "metadata": {
        "id": "Sh7o0uaSD4OC"
      }
    },
    {
      "cell_type": "markdown",
      "source": [
        "# **Prerequisites**"
      ],
      "metadata": {
        "id": "jjf6hL_oEGlg"
      }
    },
    {
      "cell_type": "markdown",
      "source": [
        "List any APIs that should be enabled. List cloud platform account roles that must be assigned. List necessary cloud platform access."
      ],
      "metadata": {
        "id": "2JUHe5arEJcv"
      }
    },
    {
      "cell_type": "markdown",
      "source": [
        "# **Lecture Series**"
      ],
      "metadata": {
        "id": "hKSbQVF8EMKC"
      }
    },
    {
      "cell_type": "code",
      "source": [
        "# Ligand Receptor Interaction\n",
        "\n",
        "from IPython.display import YouTubeVideo\n",
        "\n",
        "# Youtube\n",
        "YouTubeVideo(id='T9fbAkgINf0', height=200, width=400)"
      ],
      "metadata": {
        "id": "D6-BQkFsEORf"
      },
      "execution_count": null,
      "outputs": []
    },
    {
      "cell_type": "code",
      "source": [
        "# Basics of Docking\n",
        "\n",
        "from IPython.display import YouTubeVideo\n",
        "\n",
        "# Youtube\n",
        "YouTubeVideo(id='T9fbAkgINf0', height=200, width=400)"
      ],
      "metadata": {
        "id": "NFPsyHoHEWKV"
      },
      "execution_count": null,
      "outputs": []
    },
    {
      "cell_type": "code",
      "source": [
        "# Protein-Protein Interactions\n",
        "\n",
        "from IPython.display import YouTubeVideo\n",
        "\n",
        "# Youtube\n",
        "YouTubeVideo(id='T9fbAkgINf0', height=200, width=400)"
      ],
      "metadata": {
        "id": "LkSLS4TdEdE4"
      },
      "execution_count": null,
      "outputs": []
    },
    {
      "cell_type": "markdown",
      "source": [
        "# **Tutorials Video and text instructions:**"
      ],
      "metadata": {
        "id": "V0f_EY_IEoPD"
      }
    },
    {
      "cell_type": "markdown",
      "source": [
        "### **Sketch a small molecule chemical structure and convert it into 3D structure in PDB format.**\n",
        "\n",
        "**A. Docking using auto dock with example**\n",
        "\n",
        "*   *Use the crystal structure of HIV protease 2BQV*\n",
        "\n",
        "**B. Docking using Alphafold**\n",
        "\n",
        "**C. Visualizing protein-protein interactions**\n",
        "\n",
        "* *Use the extracellular domain of EGFR 3NJP*\n",
        "                          \n",
        "**D. Protein-Protein Docking**\n",
        "*   Use the crystal structure of EGFR -3NJP and HER3- 7MN5\n",
        "\n",
        "CLUSPRO and Patchdock"
      ],
      "metadata": {
        "id": "w8t2u9u8HIF_"
      }
    },
    {
      "cell_type": "markdown",
      "source": [
        "# **Hands-on Software**"
      ],
      "metadata": {
        "id": "Kg9t0iOtEzyX"
      }
    },
    {
      "cell_type": "markdown",
      "source": [
        "**Chemical structure sketching**\n",
        "Autodock, Autodock vina\n",
        "https://autodock.scripps.edu/\n",
        "https://vina.scripps.edu/\n",
        "\n",
        "**Cluspro**\n",
        "https://cluspro.org/help.php\n",
        "\n",
        "**Patchdock**\n",
        "https://www.cs.tau.ac.il/~ppdock/PatchDock/\n",
        "\n",
        "**PyMol**\n"
      ],
      "metadata": {
        "id": "RAVoBXELHunZ"
      }
    },
    {
      "cell_type": "markdown",
      "source": [
        "# **Assignments**"
      ],
      "metadata": {
        "id": "PPZ0TNnZHwTm"
      }
    },
    {
      "cell_type": "markdown",
      "source": [
        "### **Binding pocket**\n",
        "*  IL-2 Receptor\n",
        "*  FTMAP\n",
        "\n",
        "### **Autodock, Autodock Vina**\n",
        "\n",
        "**1HW8**\n",
        "Complex of the catalytic portion of human complex of the catalytic portion of human HMG-CoA reductase with compaction (also known as Mevastatin)\n",
        "\n",
        "Binding of the extracellular domain of EGFR (1nql) and peptide provided LARLLT\n",
        "\n",
        "### **Protein-Protein Docking**\n",
        "\n",
        "Interleukin-2 (IL-2) interacts with the IL-2 receptor complex\n",
        "*  Cluspro\n",
        "*  Patchdock\n",
        "*  PyMol\n",
        "\n"
      ],
      "metadata": {
        "id": "l-U3Z1qcHuxW"
      }
    },
    {
      "cell_type": "markdown",
      "source": [
        "# **Practical Hands-on with Python for**"
      ],
      "metadata": {
        "id": "wdSzkEiDiqCt"
      }
    }
  ]
}