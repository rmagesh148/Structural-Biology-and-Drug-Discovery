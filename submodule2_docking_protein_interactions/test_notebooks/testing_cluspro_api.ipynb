{
 "cells": [
  {
   "cell_type": "code",
   "execution_count": 1,
   "id": "a492c769-a605-413b-977d-2e22a515a3dc",
   "metadata": {
    "tags": []
   },
   "outputs": [
    {
     "name": "stdout",
     "output_type": "stream",
     "text": [
      "Collecting cluspro-api\n",
      "  Downloading cluspro_api-1.1.0.tar.gz (9.0 kB)\n",
      "  Preparing metadata (setup.py) ... \u001b[?25ldone\n",
      "\u001b[?25hCollecting path.py>=7.0 (from cluspro-api)\n",
      "  Downloading path.py-12.5.0-py3-none-any.whl.metadata (1.3 kB)\n",
      "Collecting configobj>=5.0 (from cluspro-api)\n",
      "  Downloading configobj-5.0.9-py2.py3-none-any.whl.metadata (3.2 kB)\n",
      "Requirement already satisfied: click>=5.1 in /opt/conda/lib/python3.10/site-packages (from cluspro-api) (8.1.7)\n",
      "Requirement already satisfied: requests>=2.4 in /opt/conda/lib/python3.10/site-packages (from cluspro-api) (2.32.3)\n",
      "Collecting path (from path.py>=7.0->cluspro-api)\n",
      "  Downloading path-17.1.0-py3-none-any.whl.metadata (6.4 kB)\n",
      "Requirement already satisfied: charset-normalizer<4,>=2 in /opt/conda/lib/python3.10/site-packages (from requests>=2.4->cluspro-api) (3.4.0)\n",
      "Requirement already satisfied: idna<4,>=2.5 in /opt/conda/lib/python3.10/site-packages (from requests>=2.4->cluspro-api) (3.10)\n",
      "Requirement already satisfied: urllib3<3,>=1.21.1 in /opt/conda/lib/python3.10/site-packages (from requests>=2.4->cluspro-api) (1.26.20)\n",
      "Requirement already satisfied: certifi>=2017.4.17 in /opt/conda/lib/python3.10/site-packages (from requests>=2.4->cluspro-api) (2024.8.30)\n",
      "Downloading configobj-5.0.9-py2.py3-none-any.whl (35 kB)\n",
      "Downloading path.py-12.5.0-py3-none-any.whl (2.3 kB)\n",
      "Downloading path-17.1.0-py3-none-any.whl (23 kB)\n",
      "Building wheels for collected packages: cluspro-api\n",
      "  Building wheel for cluspro-api (setup.py) ... \u001b[?25ldone\n",
      "\u001b[?25h  Created wheel for cluspro-api: filename=cluspro_api-1.1.0-py3-none-any.whl size=10024 sha256=1bf8a27d5d13e06d61f2f123cfdf8d56b67e902ab90020d7851297db907fc9db\n",
      "  Stored in directory: /home/jupyter/.cache/pip/wheels/a4/d2/54/06130b1e8224954d5a465d83da5214bee8bb853328d535883a\n",
      "Successfully built cluspro-api\n",
      "Installing collected packages: path, configobj, path.py, cluspro-api\n",
      "Successfully installed cluspro-api-1.1.0 configobj-5.0.9 path-17.1.0 path.py-12.5.0\n"
     ]
    }
   ],
   "source": [
    "#Install cluspro-api python library\n",
    "!pip install cluspro-api"
   ]
  },
  {
   "cell_type": "code",
   "execution_count": 21,
   "id": "c489dcba-aa53-445b-ac85-88899415027e",
   "metadata": {
    "tags": []
   },
   "outputs": [],
   "source": [
    "import cluspro_api"
   ]
  },
  {
   "cell_type": "code",
   "execution_count": 15,
   "id": "d9e08144-8d92-467c-922e-1b51af338b3d",
   "metadata": {
    "tags": []
   },
   "outputs": [],
   "source": [
    "#define cluspro-api parameter values\n",
    "username = ''\n",
    "secret = ''\n",
    "receptor_path = '' #PATH TO RECEPTOR .PDB FILE\n",
    "ligand_path = '' #PATH TO LIGAND .PDB FILE"
   ]
  },
  {
   "cell_type": "code",
   "execution_count": 24,
   "id": "1ad5ce22-0c89-4cf0-8533-be31d76415f3",
   "metadata": {
    "tags": []
   },
   "outputs": [
    {
     "name": "stdout",
     "output_type": "stream",
     "text": [
      "['Incorrect signiature']\n"
     ]
    }
   ],
   "source": [
    "#submit cluspro job\n",
    "!cluspro_submit --username {username} --secret {secret} --receptor {receptor_path} --ligand {ligand_path}"
   ]
  },
  {
   "cell_type": "code",
   "execution_count": 2,
   "id": "2a09c30b-e312-445f-b550-74cd5f2deb96",
   "metadata": {
    "tags": []
   },
   "outputs": [
    {
     "name": "stdout",
     "output_type": "stream",
     "text": [
      "/home/jupyter/Structural-Biology-and-Drug-Discovery/submodule2_docking_protein_interactions/test_notebooks\n"
     ]
    }
   ],
   "source": [
    "#download cluspro results\n",
    "cluspro_download <jobid> #REPLACE WITH JOB ID DISPLAYED ABOVE WHEN SUBMITTING JOB TO API"
   ]
  }
 ],
 "metadata": {
  "environment": {
   "kernel": "conda-base-py",
   "name": "workbench-notebooks.m126",
   "type": "gcloud",
   "uri": "us-docker.pkg.dev/deeplearning-platform-release/gcr.io/workbench-notebooks:m126"
  },
  "kernelspec": {
   "display_name": "Python 3 (ipykernel)",
   "language": "python",
   "name": "conda-base-py"
  },
  "language_info": {
   "codemirror_mode": {
    "name": "ipython",
    "version": 3
   },
   "file_extension": ".py",
   "mimetype": "text/x-python",
   "name": "python",
   "nbconvert_exporter": "python",
   "pygments_lexer": "ipython3",
   "version": "3.10.15"
  }
 },
 "nbformat": 4,
 "nbformat_minor": 5
}
